{
 "cells": [
  {
   "cell_type": "markdown",
   "id": "intro",
   "metadata": {},
   "source": [
    "# <p style=\"background-color:#003366; font-family:calibri; color:white; font-size:150%; text-align:center; border-radius:15px 50px;\">Capstone Project: Digital Marketing Campaign Conversion Prediction (Definitive High-Performance Version)</p>\n",
    "\n",
    "### **Project Overview**\n",
    "This project aims to enhance campaign effectiveness in the digital marketing sector by accurately predicting customer conversions. By leveraging machine learning, the project seeks to identify potential converters and optimize marketing strategies. The objective is to develop a robust machine learning model that predicts customer conversions based on various demographic and engagement factors, enabling improved campaign targeting, increased conversion rates, and maximized return on advertising spend (ROAS)."
   ]
  },
  {
   "cell_type": "markdown",
   "id": "imports_header",
   "metadata": {},
   "source": [
    "## 1. Library Imports"
   ]
  },
  {
   "cell_type": "code",
   "id": "imports_code",
   "metadata": {
    "ExecuteTime": {
     "end_time": "2025-09-28T13:46:53.687960Z",
     "start_time": "2025-09-28T13:46:31.230742Z"
    }
   },
   "source": [
    "# Core Libraries\n",
    "import pandas as pd\n",
    "import numpy as np\n",
    "import warnings\n",
    "import time\n",
    "from functools import partial\n",
    "\n",
    "# Visualization\n",
    "import seaborn as sns\n",
    "import matplotlib.pyplot as plt\n",
    "sns.set_style(\"whitegrid\")\n",
    "\n",
    "# Preprocessing & Feature Engineering\n",
    "from sklearn.model_selection import train_test_split, StratifiedKFold, cross_val_score\n",
    "from sklearn.preprocessing import StandardScaler, OneHotEncoder, KBinsDiscretizer\n",
    "from sklearn.compose import ColumnTransformer\n",
    "from sklearn.pipeline import Pipeline\n",
    "from imblearn.pipeline import Pipeline as ImbPipeline\n",
    "from imblearn.combine import SMOTEENN\n",
    "from category_encoders import TargetEncoder\n",
    "\n",
    "# Model Evaluation\n",
    "from sklearn.metrics import classification_report, roc_auc_score, precision_recall_curve, f1_score, PrecisionRecallDisplay, RocCurveDisplay\n",
    "\n",
    "# Machine Learning Models\n",
    "from sklearn.linear_model import LogisticRegression, RidgeClassifier, SGDClassifier\n",
    "from sklearn.svm import SVC\n",
    "from sklearn.tree import DecisionTreeClassifier\n",
    "from sklearn.ensemble import RandomForestClassifier, ExtraTreesClassifier, BaggingClassifier, GradientBoostingClassifier, AdaBoostClassifier, StackingClassifier, IsolationForest\n",
    "from xgboost import XGBClassifier\n",
    "from lightgbm import LGBMClassifier\n",
    "from catboost import CatBoostClassifier\n",
    "from sklearn.naive_bayes import GaussianNB, MultinomialNB, BernoulliNB\n",
    "from sklearn.neighbors import KNeighborsClassifier\n",
    "from sklearn.discriminant_analysis import LinearDiscriminantAnalysis, QuadraticDiscriminantAnalysis\n",
    "from sklearn.neural_network import MLPClassifier\n",
    "\n",
    "# Deep Learning with Keras\n",
    "import tensorflow as tf\n",
    "from tensorflow.keras.models import Model\n",
    "from tensorflow.keras.layers import Dense, Dropout, Input, Embedding, Concatenate, Flatten, MultiHeadAttention\n",
    "from tensorflow.keras.callbacks import EarlyStopping\n",
    "from tensorflow.keras.optimizers import Adam\n",
    "from sklearn.base import BaseEstimator, ClassifierMixin\n",
    "\n",
    "# Hyperparameter Tuning\n",
    "import optuna\n",
    "\n",
    "# Interpretability\n",
    "import shap\n",
    "\n",
    "# Model Persistence\n",
    "import joblib\n",
    "\n",
    "# Configuration\n",
    "warnings.filterwarnings('ignore')\n",
    "optuna.logging.set_verbosity(optuna.logging.WARNING)\n",
    "print(\"✅ Libraries imported successfully.\")"
   ],
   "outputs": [
    {
     "name": "stdout",
     "output_type": "stream",
     "text": [
      "✅ Libraries imported successfully.\n"
     ]
    }
   ],
   "execution_count": 1
  },
  {
   "cell_type": "markdown",
   "id": "loading_header",
   "metadata": {},
   "source": [
    "## 2. Data Loading and Initial Cleaning\n",
    "We are deleting three columns here:\n",
    "\n",
    "`CustomerID` which doesnt have any direct or useful impact on the prediction capability\n",
    "\n",
    "`AdvertisingPlatform` and `AdvertisingTool` which have only a single value so wont have any impact on here.\n"
   ]
  },
  {
   "cell_type": "code",
   "id": "loading_code",
   "metadata": {
    "ExecuteTime": {
     "end_time": "2025-09-28T13:46:53.844933Z",
     "start_time": "2025-09-28T13:46:53.742597Z"
    }
   },
   "source": [
    "df = pd.read_csv('digital_marketing_campaign_dataset.csv')\n",
    "useless_columns = ['CustomerID', 'AdvertisingPlatform', 'AdvertisingTool']\n",
    "df.drop(columns=useless_columns, inplace=True)\n",
    "print(\"--- Data Head After Initial Load ---\")\n",
    "display(df.head())"
   ],
   "outputs": [
    {
     "name": "stdout",
     "output_type": "stream",
     "text": [
      "--- Data Head After Initial Load ---\n"
     ]
    },
    {
     "data": {
      "text/plain": [
       "   Age  Gender  Income CampaignChannel CampaignType      AdSpend  \\\n",
       "0   56  Female  136912    Social Media    Awareness  6497.870068   \n",
       "1   69    Male   41760           Email    Retention  3898.668606   \n",
       "2   46  Female   88456             PPC    Awareness  1546.429596   \n",
       "3   32  Female   44085             PPC   Conversion   539.525936   \n",
       "4   60  Female   83964             PPC   Conversion  1678.043573   \n",
       "\n",
       "   ClickThroughRate  ConversionRate  WebsiteVisits  PagesPerVisit  TimeOnSite  \\\n",
       "0          0.043919        0.088031              0       2.399017    7.396803   \n",
       "1          0.155725        0.182725             42       2.917138    5.352549   \n",
       "2          0.277490        0.076423              2       8.223619   13.794901   \n",
       "3          0.137611        0.088004             47       4.540939   14.688363   \n",
       "4          0.252851        0.109940              0       2.046847   13.993370   \n",
       "\n",
       "   SocialShares  EmailOpens  EmailClicks  PreviousPurchases  LoyaltyPoints  \\\n",
       "0            19           6            9                  4            688   \n",
       "1             5           2            7                  2           3459   \n",
       "2             0          11            2                  8           2337   \n",
       "3            89           2            2                  0           2463   \n",
       "4             6           6            6                  8           4345   \n",
       "\n",
       "   Conversion  \n",
       "0           1  \n",
       "1           1  \n",
       "2           1  \n",
       "3           1  \n",
       "4           1  "
      ],
      "text/html": [
       "<div>\n",
       "<style scoped>\n",
       "    .dataframe tbody tr th:only-of-type {\n",
       "        vertical-align: middle;\n",
       "    }\n",
       "\n",
       "    .dataframe tbody tr th {\n",
       "        vertical-align: top;\n",
       "    }\n",
       "\n",
       "    .dataframe thead th {\n",
       "        text-align: right;\n",
       "    }\n",
       "</style>\n",
       "<table border=\"1\" class=\"dataframe\">\n",
       "  <thead>\n",
       "    <tr style=\"text-align: right;\">\n",
       "      <th></th>\n",
       "      <th>Age</th>\n",
       "      <th>Gender</th>\n",
       "      <th>Income</th>\n",
       "      <th>CampaignChannel</th>\n",
       "      <th>CampaignType</th>\n",
       "      <th>AdSpend</th>\n",
       "      <th>ClickThroughRate</th>\n",
       "      <th>ConversionRate</th>\n",
       "      <th>WebsiteVisits</th>\n",
       "      <th>PagesPerVisit</th>\n",
       "      <th>TimeOnSite</th>\n",
       "      <th>SocialShares</th>\n",
       "      <th>EmailOpens</th>\n",
       "      <th>EmailClicks</th>\n",
       "      <th>PreviousPurchases</th>\n",
       "      <th>LoyaltyPoints</th>\n",
       "      <th>Conversion</th>\n",
       "    </tr>\n",
       "  </thead>\n",
       "  <tbody>\n",
       "    <tr>\n",
       "      <th>0</th>\n",
       "      <td>56</td>\n",
       "      <td>Female</td>\n",
       "      <td>136912</td>\n",
       "      <td>Social Media</td>\n",
       "      <td>Awareness</td>\n",
       "      <td>6497.870068</td>\n",
       "      <td>0.043919</td>\n",
       "      <td>0.088031</td>\n",
       "      <td>0</td>\n",
       "      <td>2.399017</td>\n",
       "      <td>7.396803</td>\n",
       "      <td>19</td>\n",
       "      <td>6</td>\n",
       "      <td>9</td>\n",
       "      <td>4</td>\n",
       "      <td>688</td>\n",
       "      <td>1</td>\n",
       "    </tr>\n",
       "    <tr>\n",
       "      <th>1</th>\n",
       "      <td>69</td>\n",
       "      <td>Male</td>\n",
       "      <td>41760</td>\n",
       "      <td>Email</td>\n",
       "      <td>Retention</td>\n",
       "      <td>3898.668606</td>\n",
       "      <td>0.155725</td>\n",
       "      <td>0.182725</td>\n",
       "      <td>42</td>\n",
       "      <td>2.917138</td>\n",
       "      <td>5.352549</td>\n",
       "      <td>5</td>\n",
       "      <td>2</td>\n",
       "      <td>7</td>\n",
       "      <td>2</td>\n",
       "      <td>3459</td>\n",
       "      <td>1</td>\n",
       "    </tr>\n",
       "    <tr>\n",
       "      <th>2</th>\n",
       "      <td>46</td>\n",
       "      <td>Female</td>\n",
       "      <td>88456</td>\n",
       "      <td>PPC</td>\n",
       "      <td>Awareness</td>\n",
       "      <td>1546.429596</td>\n",
       "      <td>0.277490</td>\n",
       "      <td>0.076423</td>\n",
       "      <td>2</td>\n",
       "      <td>8.223619</td>\n",
       "      <td>13.794901</td>\n",
       "      <td>0</td>\n",
       "      <td>11</td>\n",
       "      <td>2</td>\n",
       "      <td>8</td>\n",
       "      <td>2337</td>\n",
       "      <td>1</td>\n",
       "    </tr>\n",
       "    <tr>\n",
       "      <th>3</th>\n",
       "      <td>32</td>\n",
       "      <td>Female</td>\n",
       "      <td>44085</td>\n",
       "      <td>PPC</td>\n",
       "      <td>Conversion</td>\n",
       "      <td>539.525936</td>\n",
       "      <td>0.137611</td>\n",
       "      <td>0.088004</td>\n",
       "      <td>47</td>\n",
       "      <td>4.540939</td>\n",
       "      <td>14.688363</td>\n",
       "      <td>89</td>\n",
       "      <td>2</td>\n",
       "      <td>2</td>\n",
       "      <td>0</td>\n",
       "      <td>2463</td>\n",
       "      <td>1</td>\n",
       "    </tr>\n",
       "    <tr>\n",
       "      <th>4</th>\n",
       "      <td>60</td>\n",
       "      <td>Female</td>\n",
       "      <td>83964</td>\n",
       "      <td>PPC</td>\n",
       "      <td>Conversion</td>\n",
       "      <td>1678.043573</td>\n",
       "      <td>0.252851</td>\n",
       "      <td>0.109940</td>\n",
       "      <td>0</td>\n",
       "      <td>2.046847</td>\n",
       "      <td>13.993370</td>\n",
       "      <td>6</td>\n",
       "      <td>6</td>\n",
       "      <td>6</td>\n",
       "      <td>8</td>\n",
       "      <td>4345</td>\n",
       "      <td>1</td>\n",
       "    </tr>\n",
       "  </tbody>\n",
       "</table>\n",
       "</div>"
      ]
     },
     "metadata": {},
     "output_type": "display_data",
     "jetTransient": {
      "display_id": null
     }
    }
   ],
   "execution_count": 2
  },
  {
   "cell_type": "markdown",
   "id": "eda-main-header",
   "metadata": {},
   "source": [
    "## 3. Exploratory Data Analysis (EDA)"
   ]
  },
  {
   "cell_type": "code",
   "id": "eda-info",
   "metadata": {
    "ExecuteTime": {
     "end_time": "2025-09-28T13:46:54.086405Z",
     "start_time": "2025-09-28T13:46:54.060572Z"
    }
   },
   "source": [
    "print(\"--- Data Info ---\")\n",
    "df.info()"
   ],
   "outputs": [
    {
     "name": "stdout",
     "output_type": "stream",
     "text": [
      "--- Data Info ---\n",
      "<class 'pandas.core.frame.DataFrame'>\n",
      "RangeIndex: 8000 entries, 0 to 7999\n",
      "Data columns (total 17 columns):\n",
      " #   Column             Non-Null Count  Dtype  \n",
      "---  ------             --------------  -----  \n",
      " 0   Age                8000 non-null   int64  \n",
      " 1   Gender             8000 non-null   object \n",
      " 2   Income             8000 non-null   int64  \n",
      " 3   CampaignChannel    8000 non-null   object \n",
      " 4   CampaignType       8000 non-null   object \n",
      " 5   AdSpend            8000 non-null   float64\n",
      " 6   ClickThroughRate   8000 non-null   float64\n",
      " 7   ConversionRate     8000 non-null   float64\n",
      " 8   WebsiteVisits      8000 non-null   int64  \n",
      " 9   PagesPerVisit      8000 non-null   float64\n",
      " 10  TimeOnSite         8000 non-null   float64\n",
      " 11  SocialShares       8000 non-null   int64  \n",
      " 12  EmailOpens         8000 non-null   int64  \n",
      " 13  EmailClicks        8000 non-null   int64  \n",
      " 14  PreviousPurchases  8000 non-null   int64  \n",
      " 15  LoyaltyPoints      8000 non-null   int64  \n",
      " 16  Conversion         8000 non-null   int64  \n",
      "dtypes: float64(5), int64(9), object(3)\n",
      "memory usage: 1.0+ MB\n"
     ]
    }
   ],
   "execution_count": 3
  },
  {
   "cell_type": "markdown",
   "id": "outlier_header",
   "metadata": {},
   "source": [
    "## 4. Outlier Detection and Removal"
   ]
  },
  {
   "cell_type": "code",
   "id": "outlier_removal_code",
   "metadata": {
    "ExecuteTime": {
     "end_time": "2025-09-28T13:46:54.812450Z",
     "start_time": "2025-09-28T13:46:54.395334Z"
    }
   },
   "source": [
    "X = df.drop('Conversion', axis=1)\n",
    "y = df['Conversion']\n",
    "numerical_cols_for_outliers = X.select_dtypes(include=np.number).columns\n",
    "iso_forest = IsolationForest(contamination=0.005, random_state=42)\n",
    "outlier_preds = iso_forest.fit_predict(X[numerical_cols_for_outliers])\n",
    "inlier_mask = outlier_preds == 1\n",
    "X_inliers = X[inlier_mask]\n",
    "y_inliers = y[inlier_mask]\n",
    "print(f\"Original dataset size: {len(X)}\")\n",
    "print(f\"Dataset size after removing outliers: {len(X_inliers)}\")"
   ],
   "outputs": [
    {
     "name": "stdout",
     "output_type": "stream",
     "text": [
      "Original dataset size: 8000\n",
      "Dataset size after removing outliers: 7960\n"
     ]
    }
   ],
   "execution_count": 4
  },
  {
   "cell_type": "markdown",
   "metadata": {},
   "source": [
    "## 5. Feature Engineering"
   ],
   "id": "ed05f78c87a1a1b3"
  },
  {
   "cell_type": "code",
   "metadata": {
    "ExecuteTime": {
     "end_time": "2025-09-28T13:46:54.883697Z",
     "start_time": "2025-09-28T13:46:54.851615Z"
    }
   },
   "source": [
    "df_clean = X_inliers.copy()\n",
    "df_clean['Conversion'] = y_inliers\n",
    "df_clean['EngagementScore'] = df_clean['TimeOnSite'] * df_clean['PagesPerVisit']\n",
    "df_clean['CostPerVisit'] = df_clean['AdSpend'] / df_clean['WebsiteVisits'].replace(0, 1)\n",
    "df_clean['AgeGroup'] = pd.cut(df_clean['Age'], bins=[17, 30, 50, 70], labels=['Young', 'Adult', 'Senior'])\n",
    "df_clean['IncomeTier'] = pd.cut(df_clean['Income'], bins=[19999, 50000, 90000, 150000], labels=['Low', 'Medium', 'High'])\n",
    "print(\"✅ Feature Engineering Complete.\")\n",
    "X_final = df_clean.drop('Conversion', axis=1)\n",
    "y_final = df_clean['Conversion']"
   ],
   "id": "fa5085a0cacd2ea0",
   "outputs": [
    {
     "name": "stdout",
     "output_type": "stream",
     "text": [
      "✅ Feature Engineering Complete.\n"
     ]
    }
   ],
   "execution_count": 5
  },
  {
   "cell_type": "markdown",
   "metadata": {},
   "source": [
    "## 6. Data Splitting & Preprocessing Pipeline Setup\n",
    "\n",
    "Here we are splitting the data as well as defining the encoding as per the respective models for categorical and numeric features"
   ],
   "id": "4d117dfe5f673dba"
  },
  {
   "metadata": {
    "ExecuteTime": {
     "end_time": "2025-09-28T13:46:54.927602Z",
     "start_time": "2025-09-28T13:46:54.900930Z"
    }
   },
   "cell_type": "code",
   "source": [
    "X_train, X_test, y_train, y_test = train_test_split(X_final, y_final, test_size=0.20, random_state=42, stratify=y_final)\n",
    "numerical_features = X_final.select_dtypes(include=np.number).columns.tolist()\n",
    "categorical_features = X_final.select_dtypes(exclude=np.number).columns.tolist()\n",
    "preprocessor_linear = ColumnTransformer(transformers=[('num', StandardScaler(), numerical_features), ('cat', OneHotEncoder(handle_unknown='ignore'), categorical_features)])\n",
    "preprocessor_tree = ColumnTransformer(transformers=[('num', StandardScaler(), numerical_features), ('cat', TargetEncoder(), categorical_features)])\n",
    "preprocessor_nb = ColumnTransformer(\n",
    "    transformers=[\n",
    "        ('num', KBinsDiscretizer(n_bins=10, encode='ordinal', strategy='uniform'), numerical_features),\n",
    "        ('cat', OneHotEncoder(handle_unknown='ignore'), categorical_features)\n",
    "    ]\n",
    ")\n",
    "model_results = {}\n",
    "print(\"✅ Data splitting and preprocessing pipelines are ready.\")"
   ],
   "id": "eae1460afd6d5914",
   "outputs": [
    {
     "name": "stdout",
     "output_type": "stream",
     "text": [
      "✅ Data splitting and preprocessing pipelines are ready.\n"
     ]
    }
   ],
   "execution_count": 6
  },
  {
   "cell_type": "markdown",
   "metadata": {},
   "source": [
    "## 7. Broad Model Search with Optuna Baseline Tuning\n",
    "This is the first, crucial stage of our two-stage tuning process. We perform a Bayesian optimization search for **every single models** we are using to ensure we are comparing the strongest possible versions of each algorithm to establish a robust and reliable performance baseline."
   ],
   "id": "3297aec0054f82c7"
  },
  {
   "cell_type": "markdown",
   "metadata": {},
   "source": [
    "### 7.1 Optuna Baseline Objective Function"
   ],
   "id": "89a9256fc8351994"
  },
  {
   "cell_type": "code",
   "metadata": {
    "ExecuteTime": {
     "end_time": "2025-09-28T13:46:54.992235Z",
     "start_time": "2025-09-28T13:46:54.980332Z"
    }
   },
   "source": [
    "BASELINE_OPTUNA_TRIALS = 25 # Number of trials for the initial search for each model\n",
    "\n",
    "def run_baseline_study(model_name, model, params_lambda, preprocessor):\n",
    "    \"\"\"A generic function to run a baseline Optuna study for any given model.\"\"\"\n",
    "    print(f\"--- Tuning {model_name} ---\")\n",
    "    start_time = time.time()\n",
    "    \n",
    "    def objective(trial):\n",
    "        params = params_lambda(trial)\n",
    "        clf = model.set_params(**params)\n",
    "        pipeline = ImbPipeline([\n",
    "            ('preprocessor', preprocessor),\n",
    "            ('sampler', SMOTEENN(random_state=42)),\n",
    "            ('classifier', clf)\n",
    "        ])\n",
    "        return cross_val_score(pipeline, X_train, y_train, n_jobs=-1, cv=3, scoring='roc_auc').mean()\n",
    "\n",
    "    study = optuna.create_study(direction='maximize')\n",
    "    study.optimize(objective, n_trials=BASELINE_OPTUNA_TRIALS)\n",
    "    \n",
    "    end_time = time.time()\n",
    "    print(f\"Best CV ROC-AUC: {study.best_value:.4f} (Completed in {end_time - start_time:.2f}s)\")\n",
    "    model_results[model_name] = (study.best_value, study.best_params)\n"
   ],
   "id": "46f021d600932eb3",
   "outputs": [],
   "execution_count": 7
  },
  {
   "cell_type": "markdown",
   "metadata": {},
   "source": [
    "### 7.2 Linear, SVM, and Discriminant Models\n",
    "\n",
    "1. **Logistic Regression**: It helps us predict whether something is true or false (like yes/no) by drawing a line to separate different groups.\n",
    "\n",
    "2. **Ridge Classification**: It’s like Logistic Regression but with a penalty to avoid overfitting (making it too perfect on training data), helping it generalize better.\n",
    "\n",
    "3. **SGD Classification (Lasso)**: It’s a quick way to do linear classification, using a method called Stochastic Gradient Descent, and Lasso keeps it simple by cutting out unnecessary features.\n",
    "\n",
    "4. **LDA (Linear Discriminant Analysis)**: It finds the best way to separate different categories (like different groups) by drawing lines that give the clearest boundaries between them.\n",
    "\n",
    "5. **Support Vector Machine (SVM)**: It’s a super powerful classifier that finds the best line (or curve) that separates two categories, even if they’re in a tricky shape.\n"
   ],
   "id": "99ea8e3706177000"
  },
  {
   "cell_type": "code",
   "metadata": {
    "ExecuteTime": {
     "end_time": "2025-09-28T13:47:40.352016Z",
     "start_time": "2025-09-28T13:46:55.001632Z"
    }
   },
   "source": [
    "run_baseline_study('Logistic Regression', LogisticRegression(random_state=42, max_iter=2000, class_weight='balanced', solver='saga'),\n",
    "    lambda trial: {'C': trial.suggest_float('C', 0.01, 100, log=True), 'penalty': trial.suggest_categorical('penalty', ['l1', 'l2'])}, preprocessor_linear)"
   ],
   "id": "1722d2dd26fbfc8f",
   "outputs": [
    {
     "name": "stdout",
     "output_type": "stream",
     "text": [
      "--- Tuning Logistic Regression ---\n",
      "Best CV ROC-AUC: 0.7892 (Completed in 45.33s)\n"
     ]
    }
   ],
   "execution_count": 8
  },
  {
   "cell_type": "code",
   "metadata": {
    "ExecuteTime": {
     "end_time": "2025-09-28T13:48:11.440485Z",
     "start_time": "2025-09-28T13:47:47.523314Z"
    }
   },
   "source": [
    "run_baseline_study('Ridge Classifier', RidgeClassifier(random_state=42, class_weight='balanced'),\n",
    "    lambda trial: {'alpha': trial.suggest_float('alpha', 0.1, 100.0, log=True)}, preprocessor_linear)"
   ],
   "id": "de44d7bad3137724",
   "outputs": [
    {
     "name": "stdout",
     "output_type": "stream",
     "text": [
      "--- Tuning Ridge Classifier ---\n",
      "Best CV ROC-AUC: 0.7875 (Completed in 23.91s)\n"
     ]
    }
   ],
   "execution_count": 9
  },
  {
   "cell_type": "code",
   "metadata": {
    "ExecuteTime": {
     "end_time": "2025-09-28T13:48:32.070898Z",
     "start_time": "2025-09-28T13:48:11.456892Z"
    }
   },
   "source": [
    "run_baseline_study('SGD Classifier (Lasso)', SGDClassifier(random_state=42, class_weight='balanced', loss='log_loss'),\n",
    "    lambda trial: {'penalty': trial.suggest_categorical('penalty', ['l1', 'l2']), 'alpha': trial.suggest_float('alpha', 1e-4, 1.0, log=True)}, preprocessor_linear)"
   ],
   "id": "a03e450095a0a53",
   "outputs": [
    {
     "name": "stdout",
     "output_type": "stream",
     "text": [
      "--- Tuning SGD Classifier (Lasso) ---\n",
      "Best CV ROC-AUC: 0.7892 (Completed in 20.61s)\n"
     ]
    }
   ],
   "execution_count": 10
  },
  {
   "metadata": {
    "ExecuteTime": {
     "end_time": "2025-09-28T13:48:51.924460Z",
     "start_time": "2025-09-28T13:48:32.137081Z"
    }
   },
   "cell_type": "code",
   "source": [
    "run_baseline_study('LDA', LinearDiscriminantAnalysis(),\n",
    "    lambda trial: {\n",
    "        'solver': trial.suggest_categorical('solver', ['svd', 'lsqr', 'eigen']),\n",
    "        'shrinkage': trial.suggest_float('shrinkage', 0.0, 1.0) if trial.params.get('solver') in ['lsqr', 'eigen'] else None\n",
    "    },\n",
    "    preprocessor_linear)"
   ],
   "id": "8a7f257669665273",
   "outputs": [
    {
     "name": "stdout",
     "output_type": "stream",
     "text": [
      "--- Tuning LDA ---\n",
      "Best CV ROC-AUC: 0.7875 (Completed in 19.78s)\n"
     ]
    }
   ],
   "execution_count": 11
  },
  {
   "metadata": {
    "ExecuteTime": {
     "end_time": "2025-09-28T13:55:19.041268Z",
     "start_time": "2025-09-28T13:48:51.989433Z"
    }
   },
   "cell_type": "code",
   "source": [
    "run_baseline_study('Support Vector Machine', SVC(random_state=42, probability=True, class_weight='balanced'),\n",
    "    lambda trial: {'C': trial.suggest_float('C', 0.1, 100, log=True), 'gamma': trial.suggest_float('gamma', 1e-4, 1.0, log=True)}, preprocessor_linear)"
   ],
   "id": "b58ef8bd89252455",
   "outputs": [
    {
     "name": "stdout",
     "output_type": "stream",
     "text": [
      "--- Tuning Support Vector Machine ---\n",
      "Best CV ROC-AUC: 0.7893 (Completed in 387.04s)\n"
     ]
    }
   ],
   "execution_count": 12
  },
  {
   "cell_type": "markdown",
   "metadata": {},
   "source": [
    "### 7.3 Tree-Based and Ensemble Models\n",
    "\n",
    "1. **Decision Tree**: It’s like a flowchart where each decision leads to another, helping us split the data step by step to predict something.\n",
    "\n",
    "2. **Random Forest**: Imagine a bunch of decision trees working together, each making its own decision and then voting on the best one.\n",
    "\n",
    "3. **Extra Trees**: Similar to Random Forest, but it’s even more random in how it creates the decision trees, making it faster and sometimes more accurate.\n",
    "\n",
    "4. **Gradient Boosting**: It builds trees one by one, each time fixing the mistakes of the previous tree, kind of like learning from failures to improve.\n",
    "\n",
    "5. **XGBoost**: A super efficient version of Gradient Boosting that’s really fast and often very accurate because it uses tricks to speed up and optimize the learning process.\n",
    "\n",
    "6. **LightGBM**: Like XGBoost, but it’s even faster and handles big datasets really well by focusing on faster ways to split the data.\n",
    "\n",
    "7. **CatBoost**: Similar to XGBoost and LightGBM, but it’s designed to handle categorical data (like labels or categories) automatically, without needing to preprocess them.\n"
   ],
   "id": "4c9c9ebbca057382"
  },
  {
   "cell_type": "code",
   "metadata": {
    "ExecuteTime": {
     "end_time": "2025-09-28T13:55:41.057720Z",
     "start_time": "2025-09-28T13:55:19.146385Z"
    }
   },
   "source": [
    "run_baseline_study('Decision Tree', DecisionTreeClassifier(random_state=42, class_weight='balanced'),\n",
    "    lambda trial: {'max_depth': trial.suggest_int('max_depth', 5, 30), 'min_samples_leaf': trial.suggest_int('min_samples_leaf', 1, 20)}, preprocessor_tree)"
   ],
   "id": "790075c2e6a043e5",
   "outputs": [
    {
     "name": "stdout",
     "output_type": "stream",
     "text": [
      "--- Tuning Decision Tree ---\n",
      "Best CV ROC-AUC: 0.7026 (Completed in 21.90s)\n"
     ]
    }
   ],
   "execution_count": 13
  },
  {
   "cell_type": "code",
   "metadata": {
    "ExecuteTime": {
     "end_time": "2025-09-28T13:59:19.666705Z",
     "start_time": "2025-09-28T13:55:41.120839Z"
    }
   },
   "source": [
    "run_baseline_study('Random Forest', RandomForestClassifier(random_state=42, n_jobs=-1, class_weight='balanced'),\n",
    "    lambda trial: {'n_estimators': trial.suggest_int('n_estimators', 100, 500), 'max_depth': trial.suggest_int('max_depth', 5, 30)}, preprocessor_tree)"
   ],
   "id": "8adcd4fc0bcdb6d0",
   "outputs": [
    {
     "name": "stdout",
     "output_type": "stream",
     "text": [
      "--- Tuning Random Forest ---\n",
      "Best CV ROC-AUC: 0.7911 (Completed in 218.54s)\n"
     ]
    }
   ],
   "execution_count": 14
  },
  {
   "cell_type": "code",
   "metadata": {
    "ExecuteTime": {
     "end_time": "2025-09-28T14:00:51.161813Z",
     "start_time": "2025-09-28T13:59:19.799787Z"
    }
   },
   "source": [
    "run_baseline_study('Extra Trees', ExtraTreesClassifier(random_state=42, n_jobs=-1, class_weight='balanced'),\n",
    "    lambda trial: {'n_estimators': trial.suggest_int('n_estimators', 100, 500), 'max_depth': trial.suggest_int('max_depth', 5, 30)}, preprocessor_tree)"
   ],
   "id": "666f5f9c6f7b8e54",
   "outputs": [
    {
     "name": "stdout",
     "output_type": "stream",
     "text": [
      "--- Tuning Extra Trees ---\n",
      "Best CV ROC-AUC: 0.7863 (Completed in 91.35s)\n"
     ]
    }
   ],
   "execution_count": 15
  },
  {
   "cell_type": "code",
   "metadata": {
    "ExecuteTime": {
     "end_time": "2025-09-28T14:15:31.684443Z",
     "start_time": "2025-09-28T14:00:51.271666Z"
    }
   },
   "source": [
    "run_baseline_study('Gradient Boosting', GradientBoostingClassifier(random_state=42),\n",
    "    lambda trial: {'n_estimators': trial.suggest_int('n_estimators', 100, 500), 'learning_rate': trial.suggest_float('learning_rate', 0.01, 0.3), 'max_depth': trial.suggest_int('max_depth', 3, 10)}, preprocessor_tree)"
   ],
   "id": "5e77a13d003506ca",
   "outputs": [
    {
     "name": "stdout",
     "output_type": "stream",
     "text": [
      "--- Tuning Gradient Boosting ---\n",
      "Best CV ROC-AUC: 0.8040 (Completed in 880.41s)\n"
     ]
    }
   ],
   "execution_count": 16
  },
  {
   "cell_type": "code",
   "metadata": {
    "ExecuteTime": {
     "end_time": "2025-09-28T14:16:29.900914Z",
     "start_time": "2025-09-28T14:15:31.787971Z"
    }
   },
   "source": [
    "run_baseline_study('XGBoost', XGBClassifier(random_state=42, use_label_encoder=False, eval_metric='logloss'),\n",
    "    lambda trial: {'n_estimators': trial.suggest_int('n_estimators', 100, 500), 'learning_rate': trial.suggest_float('learning_rate', 0.01, 0.3), 'max_depth': trial.suggest_int('max_depth', 3, 10)}, preprocessor_tree)"
   ],
   "id": "b93011139cc695eb",
   "outputs": [
    {
     "name": "stdout",
     "output_type": "stream",
     "text": [
      "--- Tuning XGBoost ---\n",
      "Best CV ROC-AUC: 0.8063 (Completed in 58.11s)\n"
     ]
    }
   ],
   "execution_count": 17
  },
  {
   "cell_type": "code",
   "metadata": {
    "ExecuteTime": {
     "end_time": "2025-09-28T14:17:52.757233Z",
     "start_time": "2025-09-28T14:16:29.958302Z"
    }
   },
   "source": [
    "run_baseline_study('LightGBM', LGBMClassifier(random_state=42, class_weight='balanced'),\n",
    "    lambda trial: {'n_estimators': trial.suggest_int('n_estimators', 100, 500), 'learning_rate': trial.suggest_float('learning_rate', 0.01, 0.3), 'num_leaves': trial.suggest_int('num_leaves', 20, 100)}, preprocessor_tree)"
   ],
   "id": "38715a601f5a1240",
   "outputs": [
    {
     "name": "stdout",
     "output_type": "stream",
     "text": [
      "--- Tuning LightGBM ---\n",
      "Best CV ROC-AUC: 0.8066 (Completed in 82.79s)\n"
     ]
    }
   ],
   "execution_count": 18
  },
  {
   "cell_type": "code",
   "metadata": {
    "ExecuteTime": {
     "end_time": "2025-09-28T14:21:14.905267Z",
     "start_time": "2025-09-28T14:17:52.952425Z"
    }
   },
   "source": [
    "run_baseline_study('CatBoost', CatBoostClassifier(random_state=42, verbose=0, auto_class_weights='Balanced'),\n",
    "    lambda trial: {'iterations': trial.suggest_int('iterations', 100, 500), 'learning_rate': trial.suggest_float('learning_rate', 0.01, 0.3), 'depth': trial.suggest_int('depth', 3, 10)}, preprocessor_tree)"
   ],
   "id": "ebe4f1032f604aac",
   "outputs": [
    {
     "name": "stdout",
     "output_type": "stream",
     "text": [
      "--- Tuning CatBoost ---\n",
      "Best CV ROC-AUC: 0.8112 (Completed in 201.94s)\n"
     ]
    }
   ],
   "execution_count": 19
  },
  {
   "cell_type": "markdown",
   "metadata": {},
   "source": [
    "### 7.4 Other Model Architectures\n",
    "\n",
    "**KNN (K-Nearest Neighbors)**: Imagine you’re trying to figure out what kind of animal a new creature is. KNN looks at the closest animals around it (the “neighbors”) and guesses based on what those animals are. The more neighbors it looks at, the better it can make its guess!"
   ],
   "id": "4ee66bf29a796bf9"
  },
  {
   "cell_type": "code",
   "metadata": {
    "ExecuteTime": {
     "end_time": "2025-09-28T14:21:40.605211Z",
     "start_time": "2025-09-28T14:21:15.119844Z"
    }
   },
   "source": [
    "run_baseline_study('KNN', KNeighborsClassifier(n_jobs=-1),\n",
    "    lambda trial: {'n_neighbors': trial.suggest_int('n_neighbors', 3, 21), 'weights': trial.suggest_categorical('weights', ['uniform', 'distance'])}, preprocessor_linear)"
   ],
   "id": "89ad62c541d22838",
   "outputs": [
    {
     "name": "stdout",
     "output_type": "stream",
     "text": [
      "--- Tuning KNN ---\n",
      "Best CV ROC-AUC: 0.7144 (Completed in 25.48s)\n"
     ]
    }
   ],
   "execution_count": 20
  },
  {
   "cell_type": "markdown",
   "metadata": {},
   "source": [
    "### 7.5 Naive Bayes Models\n",
    "The following Naive Bayes models are included for completeness. They work best on discrete data, so their performance here relies heavily on the `KBinsDiscretizer` in the preprocessing pipeline. to ensure that the continuous(Numeric) values are converted into discrete ones.\n",
    "\n",
    "1. **Gaussian Naive Bayes**\n",
    "   This model assumes that your features (like age, height, or income) are numbers that follow a bell-shaped curve (a normal distribution), and uses this assumption to estimate the likelihood of each class.\n",
    "   *Best for continuous data.*\n",
    "\n",
    "2. **Multinomial Naive Bayes**\n",
    "   This model is designed for features that represent counts for example, how many times each word appears in a document and predicts the class based on those counts.\n",
    "   *Commonly used in text classification.*\n",
    "\n",
    "3. **Bernoulli Naive Bayes**\n",
    "   This version works with binary features where each feature is either on or off (like 1 or 0, yes or no) and predicts the class based on whether certain features are present or absent.\n",
    "   *Useful when your data is mostly true/false indicators.*\n"
   ],
   "id": "1e158720ed50bd06"
  },
  {
   "metadata": {
    "ExecuteTime": {
     "end_time": "2025-09-28T14:21:59.279282Z",
     "start_time": "2025-09-28T14:21:40.718856Z"
    }
   },
   "cell_type": "code",
   "source": [
    "run_baseline_study('Gaussian NB', GaussianNB(),\n",
    "    lambda trial: {'var_smoothing': trial.suggest_float('var_smoothing', 1e-9, 1e-2, log=True)},\n",
    "    preprocessor_nb)"
   ],
   "id": "6146bd5ed7fab063",
   "outputs": [
    {
     "name": "stdout",
     "output_type": "stream",
     "text": [
      "--- Tuning Gaussian NB ---\n",
      "Best CV ROC-AUC: 0.7538 (Completed in 18.55s)\n"
     ]
    }
   ],
   "execution_count": 21
  },
  {
   "metadata": {
    "ExecuteTime": {
     "end_time": "2025-09-28T14:22:17.425841Z",
     "start_time": "2025-09-28T14:21:59.376008Z"
    }
   },
   "cell_type": "code",
   "source": [
    "run_baseline_study('Multinomial NB', MultinomialNB(),\n",
    "    lambda trial: {'alpha': trial.suggest_float('alpha', 0.01, 10.0, log=True)}, preprocessor_nb)"
   ],
   "id": "865c48f1887ae810",
   "outputs": [
    {
     "name": "stdout",
     "output_type": "stream",
     "text": [
      "--- Tuning Multinomial NB ---\n",
      "Best CV ROC-AUC: 0.6912 (Completed in 18.05s)\n"
     ]
    }
   ],
   "execution_count": 22
  },
  {
   "metadata": {
    "ExecuteTime": {
     "end_time": "2025-09-28T14:22:35.934331Z",
     "start_time": "2025-09-28T14:22:17.490487Z"
    }
   },
   "cell_type": "code",
   "source": [
    "run_baseline_study('Bernoulli NB', BernoulliNB(),\n",
    "    lambda trial: {'alpha': trial.suggest_float('alpha', 0.01, 10.0, log=True)}, preprocessor_nb)"
   ],
   "id": "8bafb0b655ead10c",
   "outputs": [
    {
     "name": "stdout",
     "output_type": "stream",
     "text": [
      "--- Tuning Bernoulli NB ---\n",
      "Best CV ROC-AUC: 0.5447 (Completed in 18.44s)\n"
     ]
    }
   ],
   "execution_count": 23
  },
  {
   "cell_type": "markdown",
   "metadata": {},
   "source": [
    "### 7.6 Multi-layer Perceptron\n",
    "\n",
    "An MLP is a type of neural network that learns patterns by passing data through layers of connected \"neurons,\" each transforming the data a bit more, so the network can eventually make accurate predictions.\n",
    "*It’s good at handling complex relationships that simpler models might miss, especially in images, text, and non-linear problems.*\n"
   ],
   "id": "d4ba5bb62632e0eb"
  },
  {
   "cell_type": "code",
   "metadata": {
    "ExecuteTime": {
     "end_time": "2025-09-28T14:24:09.672598Z",
     "start_time": "2025-09-28T14:22:36.003275Z"
    }
   },
   "source": [
    "run_baseline_study('MLP', MLPClassifier(random_state=42, max_iter=1000, early_stopping=True),\n",
    "    lambda trial: {'hidden_layer_sizes': trial.suggest_categorical('hidden_layer_sizes', [(50,25), (100,50)]), 'alpha': trial.suggest_float('alpha', 1e-4, 1.0, log=True)}, preprocessor_linear)"
   ],
   "id": "dc3b52f385de5d0a",
   "outputs": [
    {
     "name": "stdout",
     "output_type": "stream",
     "text": [
      "--- Tuning MLP ---\n",
      "Best CV ROC-AUC: 0.7542 (Completed in 93.66s)\n"
     ]
    }
   ],
   "execution_count": 24
  },
  {
   "cell_type": "markdown",
   "metadata": {},
   "source": [
    "## 8. Advanced Deep Learning Architectures\n",
    "The below code prepares training and testing datasets for a machine learning model by:\n",
    "\n",
    "1. **Encoding categorical features** as integers (`cat.codes`).\n",
    "2. **Scaling numerical features** to have a mean of 0 and standard deviation of 1 using `StandardScaler`.\n",
    "3. **Storing categorical feature dimensions** (the number of unique categories) in a dictionary (`cat_dims`).\n",
    "4. Creating dictionaries (`train_inputs` and `test_inputs`) that combine both categorical and numerical features, ready for model input.\n",
    "\n",
    "It essentially preprocesses the data by handling both categorical and numerical features in a way suitable for a deep learning(Keras) model.\n"
   ],
   "id": "b820655480af024a"
  },
  {
   "cell_type": "code",
   "id": "keras_data_prep",
   "metadata": {
    "ExecuteTime": {
     "end_time": "2025-09-28T14:24:09.814476Z",
     "start_time": "2025-09-28T14:24:09.781383Z"
    }
   },
   "source": [
    "X_train_keras = X_train.copy()\n",
    "X_test_keras = X_test.copy()\n",
    "cat_dims = {}\n",
    "for col in categorical_features:\n",
    "    X_train_keras[col] = X_train_keras[col].astype('category').cat.codes\n",
    "    X_test_keras[col] = X_test_keras[col].astype('category').cat.codes\n",
    "    cat_dims[col] = len(X_final[col].astype('category').cat.categories)\n",
    "scaler = StandardScaler()\n",
    "X_train_keras[numerical_features] = scaler.fit_transform(X_train_keras[numerical_features])\n",
    "X_test_keras[numerical_features] = scaler.transform(X_test_keras[numerical_features])\n",
    "train_inputs = {col: np.array(X_train_keras[col]) for col in categorical_features} | {'numerical_input': X_train_keras[numerical_features].values}\n",
    "test_inputs = {col: np.array(X_test_keras[col]) for col in categorical_features} | {'numerical_input': X_test_keras[numerical_features].values}"
   ],
   "outputs": [],
   "execution_count": 25
  },
  {
   "cell_type": "markdown",
   "metadata": {},
   "source": [
    "### 8.1 Baseline Keras NN\n",
    "A basic feedforward neural network with one or more dense (fully connected) layers, often starting with a single hidden layer using ReLU activation and an output layer suited to the task (e.g., sigmoid for binary classification)."
   ],
   "id": "4943fdf1dd49e5a8"
  },
  {
   "cell_type": "code",
   "id": "keras_code",
   "metadata": {
    "ExecuteTime": {
     "end_time": "2025-09-28T14:24:31.873425Z",
     "start_time": "2025-09-28T14:24:09.823821Z"
    }
   },
   "source": [
    "def build_baseline_keras_model():\n",
    "    inputs, embeddings = [], []\n",
    "    for col in categorical_features: \n",
    "        input_cat = Input(shape=(1,), name=col); inputs.append(input_cat)\n",
    "        embedding_size = min(np.ceil(cat_dims[col]/2), 50)\n",
    "        embedding = Flatten()(Embedding(cat_dims[col], int(embedding_size))(input_cat)); embeddings.append(embedding)\n",
    "    input_num = Input(shape=(len(numerical_features),), name=\"numerical_input\"); inputs.append(input_num)\n",
    "    x = Concatenate()(embeddings + [input_num])\n",
    "    x = Dense(128, activation='relu')(x); x = Dropout(0.3)(x)\n",
    "    x = Dense(64, activation='relu')(x); x = Dropout(0.3)(x)\n",
    "    output = Dense(1, activation='sigmoid')(x)\n",
    "    return Model(inputs=inputs, outputs=output)\n",
    "\n",
    "keras_model = build_baseline_keras_model()\n",
    "keras_model.compile(optimizer='adam', loss='binary_crossentropy', metrics=['AUC'])\n",
    "keras_model.fit(train_inputs, y_train, epochs=100, batch_size=64, validation_split=0.2, callbacks=[EarlyStopping(monitor='val_loss', patience=10, restore_best_weights=True)], verbose=0)\n",
    "y_proba_keras = keras_model.predict(test_inputs).ravel()\n",
    "keras_roc_auc = roc_auc_score(y_test, y_proba_keras)\n",
    "print(f\"--- Baseline Keras NN Test ROC-AUC: {keras_roc_auc:.4f} ---\")\n",
    "model_results['Keras NN'] = (keras_roc_auc, {'architecture': 'Embedding-128-64-1'})"
   ],
   "outputs": [
    {
     "name": "stdout",
     "output_type": "stream",
     "text": [
      "\u001B[1m50/50\u001B[0m \u001B[32m━━━━━━━━━━━━━━━━━━━━\u001B[0m\u001B[37m\u001B[0m \u001B[1m0s\u001B[0m 5ms/step\n",
      "--- Baseline Keras NN Test ROC-AUC: 0.7912 ---\n"
     ]
    }
   ],
   "execution_count": 26
  },
  {
   "cell_type": "markdown",
   "metadata": {},
   "source": [
    "### 8.2 Wide & Deep Network\n",
    "A model that combines a \"wide\" part (linear model that memorizes patterns using raw or one-hot encoded features) and a \"deep\" part (neural network that generalizes via embeddings and hidden layers), allowing it to learn both memorization and generalization simultaneously."
   ],
   "id": "380a84060a6e8c52"
  },
  {
   "metadata": {
    "ExecuteTime": {
     "end_time": "2025-09-28T14:24:47.089768Z",
     "start_time": "2025-09-28T14:24:31.950021Z"
    }
   },
   "cell_type": "code",
   "source": [
    "def build_wide_and_deep_model():\n",
    "    inputs, embeddings = [], []\n",
    "    for col in categorical_features:\n",
    "        input_cat = Input(shape=(1,), name=col)\n",
    "        embedding_size = min(np.ceil(cat_dims[col]/2), 50)\n",
    "        embedding = Flatten()(Embedding(cat_dims[col], int(embedding_size))(input_cat)); embeddings.append(embedding)\n",
    "        inputs.append(input_cat)\n",
    "    input_num = Input(shape=(len(numerical_features),), name=\"numerical_input\"); inputs.append(input_num)\n",
    "    deep_path = Concatenate()(embeddings + [input_num])\n",
    "    deep_path = Dense(128, activation='relu')(deep_path); deep_path = Dropout(0.3)(deep_path)\n",
    "    deep_path = Dense(64, activation='relu')(deep_path)\n",
    "    wide_path = Concatenate()(embeddings + [input_num])\n",
    "    combined = Concatenate()([wide_path, deep_path])\n",
    "    output = Dense(1, activation='sigmoid')(combined)\n",
    "    return Model(inputs=inputs, outputs=output)\n",
    "\n",
    "wide_deep_model = build_wide_and_deep_model()\n",
    "wide_deep_model.compile(optimizer='adam', loss='binary_crossentropy', metrics=['AUC'])\n",
    "wide_deep_model.fit(train_inputs, y_train, epochs=100, batch_size=64, validation_split=0.2, callbacks=[EarlyStopping(monitor='val_loss', patience=10, restore_best_weights=True)], verbose=0)\n",
    "y_proba_wd = wide_deep_model.predict(test_inputs).ravel()\n",
    "wd_roc_auc = roc_auc_score(y_test, y_proba_wd)\n",
    "print(f\"--- Wide & Deep Model Test ROC-AUC: {wd_roc_auc:.4f} ---\")\n",
    "model_results['Wide & Deep'] = (wd_roc_auc, {'architecture': 'Wide&Deep-128-64-1'})"
   ],
   "id": "c64968e41d445c18",
   "outputs": [
    {
     "name": "stdout",
     "output_type": "stream",
     "text": [
      "\u001B[1m50/50\u001B[0m \u001B[32m━━━━━━━━━━━━━━━━━━━━\u001B[0m\u001B[37m\u001B[0m \u001B[1m0s\u001B[0m 7ms/step\n",
      "--- Wide & Deep Model Test ROC-AUC: 0.7973 ---\n"
     ]
    }
   ],
   "execution_count": 27
  },
  {
   "metadata": {},
   "cell_type": "markdown",
   "source": [
    "### 8.3 Autoencoder for Feature Extraction\n",
    "\n",
    "The below code trains an **autoencoder**, a type of neural network that learns to compress and then reconstruct data, to reduce the original features into a smaller set of 32 meaningful ones. After training, it keeps only the compressed (encoded) features and feeds them into an **XGBoost classifier** to make predictions. The goal is to improve performance by using features automatically learned by the autoencoder, and the model's accuracy is evaluated using the ROC-AUC score on the test set.\n"
   ],
   "id": "d2d7979adb0564ac"
  },
  {
   "metadata": {
    "ExecuteTime": {
     "end_time": "2025-09-28T14:25:03.584714Z",
     "start_time": "2025-09-28T14:24:47.199235Z"
    }
   },
   "cell_type": "code",
   "source": [
    "input_dim = X_train_keras.shape[1]\n",
    "encoding_dim = 32\n",
    "input_layer = Input(shape=(input_dim,))\n",
    "encoder = Dense(128, activation='relu')(input_layer)\n",
    "encoder = Dense(64, activation='relu')(encoder)\n",
    "encoder = Dense(encoding_dim, activation='relu')(encoder)\n",
    "decoder = Dense(64, activation='relu')(encoder)\n",
    "decoder = Dense(128, activation='relu')(decoder)\n",
    "decoder = Dense(input_dim, activation='sigmoid')(decoder)\n",
    "autoencoder = Model(inputs=input_layer, outputs=decoder)\n",
    "autoencoder.compile(optimizer='adam', loss='mean_squared_error')\n",
    "autoencoder.fit(X_train_keras, X_train_keras, epochs=50, batch_size=64, shuffle=True, validation_split=0.2, verbose=0, callbacks=[EarlyStopping(monitor='val_loss', patience=10)])\n",
    "encoder_model = Model(inputs=input_layer, outputs=encoder)\n",
    "X_train_encoded = encoder_model.predict(X_train_keras)\n",
    "X_test_encoded = encoder_model.predict(X_test_keras)\n",
    "xgb_on_ae = XGBClassifier(n_estimators=500, learning_rate=0.05, use_label_encoder=False, eval_metric='logloss', random_state=42)\n",
    "xgb_on_ae.fit(X_train_encoded, y_train)\n",
    "y_proba_ae = xgb_on_ae.predict_proba(X_test_encoded)[:, 1]\n",
    "ae_roc_auc = roc_auc_score(y_test, y_proba_ae)\n",
    "print(f\"--- XGBoost on Autoencoder Features Test ROC-AUC: {ae_roc_auc:.4f} ---\")\n",
    "model_results['XGB on AE Features'] = (ae_roc_auc, {'architecture': 'AE(32)-XGB'})"
   ],
   "id": "c5670fbda5aa7635",
   "outputs": [
    {
     "name": "stdout",
     "output_type": "stream",
     "text": [
      "\u001B[1m199/199\u001B[0m \u001B[32m━━━━━━━━━━━━━━━━━━━━\u001B[0m\u001B[37m\u001B[0m \u001B[1m0s\u001B[0m 1ms/step\n",
      "\u001B[1m50/50\u001B[0m \u001B[32m━━━━━━━━━━━━━━━━━━━━\u001B[0m\u001B[37m\u001B[0m \u001B[1m0s\u001B[0m 2ms/step\n",
      "--- XGBoost on Autoencoder Features Test ROC-AUC: 0.7519 ---\n"
     ]
    }
   ],
   "execution_count": 28
  },
  {
   "cell_type": "markdown",
   "id": "comparison_header_restored",
   "metadata": {},
   "source": [
    "## 9. Model Comparison\n",
    "\n",
    "Here we list all of the models and their ROC score and their best parameters."
   ]
  },
  {
   "cell_type": "code",
   "id": "comparison_code_restored",
   "metadata": {
    "ExecuteTime": {
     "end_time": "2025-09-28T14:25:04.621606Z",
     "start_time": "2025-09-28T14:25:03.712761Z"
    }
   },
   "source": [
    "results_df = pd.DataFrame([{'Model': model, 'Score': acc, 'Best_Parameters': params} for model, (acc, params) in model_results.items()])\n",
    "results_df_sorted = results_df.sort_values('Score', ascending=False).reset_index(drop=True)\n",
    "print(\"--- Model Comparison (Sorted by Performance Score) ---\")\n",
    "display(results_df_sorted)\n",
    "plt.figure(figsize=(12, 10))\n",
    "sns.barplot(x='Score', y='Model', data=results_df_sorted, palette='mako')\n",
    "plt.title('Performance Score of All Models', fontsize=16)\n",
    "plt.show()"
   ],
   "outputs": [
    {
     "name": "stdout",
     "output_type": "stream",
     "text": [
      "--- Model Comparison (Sorted by Performance Score) ---\n"
     ]
    },
    {
     "data": {
      "text/plain": [
       "                     Model     Score  \\\n",
       "0                 CatBoost  0.811225   \n",
       "1                 LightGBM  0.806608   \n",
       "2                  XGBoost  0.806280   \n",
       "3        Gradient Boosting  0.803953   \n",
       "4              Wide & Deep  0.797324   \n",
       "5                 Keras NN  0.791241   \n",
       "6            Random Forest  0.791145   \n",
       "7   Support Vector Machine  0.789333   \n",
       "8   SGD Classifier (Lasso)  0.789205   \n",
       "9      Logistic Regression  0.789184   \n",
       "10                     LDA  0.787538   \n",
       "11        Ridge Classifier  0.787507   \n",
       "12             Extra Trees  0.786294   \n",
       "13                     MLP  0.754189   \n",
       "14             Gaussian NB  0.753780   \n",
       "15      XGB on AE Features  0.751912   \n",
       "16                     KNN  0.714431   \n",
       "17           Decision Tree  0.702625   \n",
       "18          Multinomial NB  0.691197   \n",
       "19            Bernoulli NB  0.544665   \n",
       "\n",
       "                                      Best_Parameters  \n",
       "0   {'iterations': 185, 'learning_rate': 0.1975336...  \n",
       "1   {'n_estimators': 430, 'learning_rate': 0.23104...  \n",
       "2   {'n_estimators': 380, 'learning_rate': 0.09976...  \n",
       "3   {'n_estimators': 454, 'learning_rate': 0.27673...  \n",
       "4              {'architecture': 'Wide&Deep-128-64-1'}  \n",
       "5              {'architecture': 'Embedding-128-64-1'}  \n",
       "6              {'n_estimators': 471, 'max_depth': 13}  \n",
       "7   {'C': 1.657957183363291, 'gamma': 0.0005723333...  \n",
       "8    {'penalty': 'l1', 'alpha': 0.008791649374943134}  \n",
       "9        {'C': 0.017767702939287266, 'penalty': 'l1'}  \n",
       "10  {'solver': 'eigen', 'shrinkage': 0.29281060963...  \n",
       "11                       {'alpha': 95.69492031416608}  \n",
       "12             {'n_estimators': 152, 'max_depth': 13}  \n",
       "13  {'hidden_layer_sizes': (100, 50), 'alpha': 0.7...  \n",
       "14              {'var_smoothing': 0.0093354152039121}  \n",
       "15                     {'architecture': 'AE(32)-XGB'}  \n",
       "16         {'n_neighbors': 21, 'weights': 'distance'}  \n",
       "17          {'max_depth': 20, 'min_samples_leaf': 17}  \n",
       "18                     {'alpha': 0.01650225143149118}  \n",
       "19                      {'alpha': 0.0103724675856865}  "
      ],
      "text/html": [
       "<div>\n",
       "<style scoped>\n",
       "    .dataframe tbody tr th:only-of-type {\n",
       "        vertical-align: middle;\n",
       "    }\n",
       "\n",
       "    .dataframe tbody tr th {\n",
       "        vertical-align: top;\n",
       "    }\n",
       "\n",
       "    .dataframe thead th {\n",
       "        text-align: right;\n",
       "    }\n",
       "</style>\n",
       "<table border=\"1\" class=\"dataframe\">\n",
       "  <thead>\n",
       "    <tr style=\"text-align: right;\">\n",
       "      <th></th>\n",
       "      <th>Model</th>\n",
       "      <th>Score</th>\n",
       "      <th>Best_Parameters</th>\n",
       "    </tr>\n",
       "  </thead>\n",
       "  <tbody>\n",
       "    <tr>\n",
       "      <th>0</th>\n",
       "      <td>CatBoost</td>\n",
       "      <td>0.811225</td>\n",
       "      <td>{'iterations': 185, 'learning_rate': 0.1975336...</td>\n",
       "    </tr>\n",
       "    <tr>\n",
       "      <th>1</th>\n",
       "      <td>LightGBM</td>\n",
       "      <td>0.806608</td>\n",
       "      <td>{'n_estimators': 430, 'learning_rate': 0.23104...</td>\n",
       "    </tr>\n",
       "    <tr>\n",
       "      <th>2</th>\n",
       "      <td>XGBoost</td>\n",
       "      <td>0.806280</td>\n",
       "      <td>{'n_estimators': 380, 'learning_rate': 0.09976...</td>\n",
       "    </tr>\n",
       "    <tr>\n",
       "      <th>3</th>\n",
       "      <td>Gradient Boosting</td>\n",
       "      <td>0.803953</td>\n",
       "      <td>{'n_estimators': 454, 'learning_rate': 0.27673...</td>\n",
       "    </tr>\n",
       "    <tr>\n",
       "      <th>4</th>\n",
       "      <td>Wide &amp; Deep</td>\n",
       "      <td>0.797324</td>\n",
       "      <td>{'architecture': 'Wide&amp;Deep-128-64-1'}</td>\n",
       "    </tr>\n",
       "    <tr>\n",
       "      <th>5</th>\n",
       "      <td>Keras NN</td>\n",
       "      <td>0.791241</td>\n",
       "      <td>{'architecture': 'Embedding-128-64-1'}</td>\n",
       "    </tr>\n",
       "    <tr>\n",
       "      <th>6</th>\n",
       "      <td>Random Forest</td>\n",
       "      <td>0.791145</td>\n",
       "      <td>{'n_estimators': 471, 'max_depth': 13}</td>\n",
       "    </tr>\n",
       "    <tr>\n",
       "      <th>7</th>\n",
       "      <td>Support Vector Machine</td>\n",
       "      <td>0.789333</td>\n",
       "      <td>{'C': 1.657957183363291, 'gamma': 0.0005723333...</td>\n",
       "    </tr>\n",
       "    <tr>\n",
       "      <th>8</th>\n",
       "      <td>SGD Classifier (Lasso)</td>\n",
       "      <td>0.789205</td>\n",
       "      <td>{'penalty': 'l1', 'alpha': 0.008791649374943134}</td>\n",
       "    </tr>\n",
       "    <tr>\n",
       "      <th>9</th>\n",
       "      <td>Logistic Regression</td>\n",
       "      <td>0.789184</td>\n",
       "      <td>{'C': 0.017767702939287266, 'penalty': 'l1'}</td>\n",
       "    </tr>\n",
       "    <tr>\n",
       "      <th>10</th>\n",
       "      <td>LDA</td>\n",
       "      <td>0.787538</td>\n",
       "      <td>{'solver': 'eigen', 'shrinkage': 0.29281060963...</td>\n",
       "    </tr>\n",
       "    <tr>\n",
       "      <th>11</th>\n",
       "      <td>Ridge Classifier</td>\n",
       "      <td>0.787507</td>\n",
       "      <td>{'alpha': 95.69492031416608}</td>\n",
       "    </tr>\n",
       "    <tr>\n",
       "      <th>12</th>\n",
       "      <td>Extra Trees</td>\n",
       "      <td>0.786294</td>\n",
       "      <td>{'n_estimators': 152, 'max_depth': 13}</td>\n",
       "    </tr>\n",
       "    <tr>\n",
       "      <th>13</th>\n",
       "      <td>MLP</td>\n",
       "      <td>0.754189</td>\n",
       "      <td>{'hidden_layer_sizes': (100, 50), 'alpha': 0.7...</td>\n",
       "    </tr>\n",
       "    <tr>\n",
       "      <th>14</th>\n",
       "      <td>Gaussian NB</td>\n",
       "      <td>0.753780</td>\n",
       "      <td>{'var_smoothing': 0.0093354152039121}</td>\n",
       "    </tr>\n",
       "    <tr>\n",
       "      <th>15</th>\n",
       "      <td>XGB on AE Features</td>\n",
       "      <td>0.751912</td>\n",
       "      <td>{'architecture': 'AE(32)-XGB'}</td>\n",
       "    </tr>\n",
       "    <tr>\n",
       "      <th>16</th>\n",
       "      <td>KNN</td>\n",
       "      <td>0.714431</td>\n",
       "      <td>{'n_neighbors': 21, 'weights': 'distance'}</td>\n",
       "    </tr>\n",
       "    <tr>\n",
       "      <th>17</th>\n",
       "      <td>Decision Tree</td>\n",
       "      <td>0.702625</td>\n",
       "      <td>{'max_depth': 20, 'min_samples_leaf': 17}</td>\n",
       "    </tr>\n",
       "    <tr>\n",
       "      <th>18</th>\n",
       "      <td>Multinomial NB</td>\n",
       "      <td>0.691197</td>\n",
       "      <td>{'alpha': 0.01650225143149118}</td>\n",
       "    </tr>\n",
       "    <tr>\n",
       "      <th>19</th>\n",
       "      <td>Bernoulli NB</td>\n",
       "      <td>0.544665</td>\n",
       "      <td>{'alpha': 0.0103724675856865}</td>\n",
       "    </tr>\n",
       "  </tbody>\n",
       "</table>\n",
       "</div>"
      ]
     },
     "metadata": {},
     "output_type": "display_data",
     "jetTransient": {
      "display_id": null
     }
    },
    {
     "data": {
      "text/plain": [
       "<Figure size 1200x1000 with 1 Axes>"
      ],
      "image/png": "[encoded data removed]"
     },
     "metadata": {},
     "output_type": "display_data",
     "jetTransient": {
      "display_id": null
     }
    }
   ],
   "execution_count": 29
  },
  {
   "cell_type": "markdown",
   "metadata": {},
   "source": [
    "## 10. Intensive Hyperparameter Tuning for Top Models\n",
    "Here as there were 4 models with accuracy above 80 Percent, we are using the stacking classifier i.e. ensemble of these 4 models.\n",
    "We are using the optuna to ensure that we are using the very best hyperparameters here."
   ],
   "id": "a6f81c8176d83bb2"
  },
  {
   "metadata": {
    "ExecuteTime": {
     "end_time": "2025-09-28T21:22:20.438382Z",
     "start_time": "2025-09-28T14:25:04.733873Z"
    }
   },
   "cell_type": "code",
   "source": [
    "INTENSIVE_OPTUNA_TRIALS = 150 \n",
    "N_TOP_MODELS_TO_TUNE = 4\n",
    "\n",
    "tuning_config = {\n",
    "    'Logistic Regression': {'model': LogisticRegression(random_state=42, max_iter=2000, class_weight='balanced'), 'params': lambda trial: {'C': trial.suggest_float('C', 0.01, 1000, log=True), 'solver': trial.suggest_categorical('solver', ['liblinear', 'saga']), 'penalty': trial.suggest_categorical('penalty', ['l1', 'l2'])} },\n",
    "    'Ridge Classifier': {'model': RidgeClassifier(random_state=42, class_weight='balanced'), 'params': lambda trial: {'alpha': trial.suggest_float('alpha', 0.1, 100.0, log=True)} },\n",
    "    'SGD Classifier (Lasso)': {'model': SGDClassifier(random_state=42, class_weight='balanced', loss='log_loss'), 'params': lambda trial: {'penalty': trial.suggest_categorical('penalty', ['l1', 'l2', 'elasticnet']), 'alpha': trial.suggest_float('alpha', 1e-4, 1.0, log=True)} },\n",
    "    'LDA': {'model': LinearDiscriminantAnalysis(), 'params': lambda trial: {'solver': trial.suggest_categorical('solver', ['svd', 'lsqr']), 'shrinkage': trial.suggest_float('shrinkage', 0.0, 1.0)} },\n",
    "    'Support Vector Machine': {'model': SVC(random_state=42, probability=True, class_weight='balanced'), 'params': lambda trial: {'C': trial.suggest_float('C', 0.1, 1000, log=True), 'gamma': trial.suggest_float('gamma', 1e-4, 1.0, log=True)} },\n",
    "    'Decision Tree': {'model': DecisionTreeClassifier(random_state=42, class_weight='balanced'), 'params': lambda trial: {'max_depth': trial.suggest_int('max_depth', 2, 50), 'min_samples_leaf': trial.suggest_int('min_samples_leaf', 1, 20)} },\n",
    "    'Random Forest': {'model': RandomForestClassifier(random_state=42, n_jobs=-1, class_weight='balanced'), 'params': lambda trial: {'n_estimators': trial.suggest_int('n_estimators', 100, 2000), 'max_depth': trial.suggest_int('max_depth', 5, 50), 'max_features': trial.suggest_categorical('max_features', ['sqrt', 'log2'])} },\n",
    "    'Extra Trees': {'model': ExtraTreesClassifier(random_state=42, n_jobs=-1, class_weight='balanced'), 'params': lambda trial: {'n_estimators': trial.suggest_int('n_estimators', 100, 2000), 'max_depth': trial.suggest_int('max_depth', 5, 50), 'max_features': trial.suggest_categorical('max_features', ['sqrt', 'log2'])} },\n",
    "    'Gradient Boosting': {'model': GradientBoostingClassifier(random_state=42), 'params': lambda trial: {'n_estimators': trial.suggest_int('n_estimators', 100, 2000), 'learning_rate': trial.suggest_float('learning_rate', 0.01, 0.3, log=True), 'max_depth': trial.suggest_int('max_depth', 3, 12)} },\n",
    "    'XGBoost': {'model': XGBClassifier(random_state=42, use_label_encoder=False, eval_metric='logloss'), 'params': lambda trial: {'n_estimators': trial.suggest_int('n_estimators', 200, 2500), 'max_depth': trial.suggest_int('max_depth', 3, 15), 'learning_rate': trial.suggest_float('learning_rate', 0.01, 0.2, log=True), 'subsample': trial.suggest_float('subsample', 0.5, 1.0), 'colsample_bytree': trial.suggest_float('colsample_bytree', 0.5, 1.0)} },\n",
    "    'LightGBM': {'model': LGBMClassifier(random_state=42, class_weight='balanced'), 'params': lambda trial: {'n_estimators': trial.suggest_int('n_estimators', 200, 2500), 'learning_rate': trial.suggest_float('learning_rate', 0.01, 0.2, log=True), 'num_leaves': trial.suggest_int('num_leaves', 20, 150), 'max_depth': trial.suggest_int('max_depth', 5, 25)} },\n",
    "    'CatBoost': {'model': CatBoostClassifier(random_state=42, verbose=0, auto_class_weights='Balanced'), 'params': lambda trial: {'iterations': trial.suggest_int('iterations', 200, 2500), 'learning_rate': trial.suggest_float('learning_rate', 0.01, 0.2, log=True), 'depth': trial.suggest_int('depth', 4, 12)} },\n",
    "    'KNN': {'model': KNeighborsClassifier(n_jobs=-1), 'params': lambda trial: {'n_neighbors': trial.suggest_int('n_neighbors', 3, 31), 'weights': trial.suggest_categorical('weights', ['uniform', 'distance']), 'p': trial.suggest_int('p', 1, 2)} },\n",
    "    'Gaussian NB': {'model': GaussianNB(), 'params': lambda trial: {'var_smoothing': trial.suggest_float('var_smoothing', 1e-10, 1e-1, log=True)} },\n",
    "    'MLP': {'model': MLPClassifier(random_state=42, max_iter=1000, early_stopping=True), 'params': lambda trial: {'hidden_layer_sizes': trial.suggest_categorical('hidden_layer_sizes', [(50, 25), (100, 50), (100, 50, 25)]), 'alpha': trial.suggest_float('alpha', 1e-5, 1.0, log=True), 'activation': trial.suggest_categorical('activation', ['relu', 'tanh'])} }\n",
    "}\n",
    "\n",
    "def universal_sklearn_objective(trial, model_name):\n",
    "    config = tuning_config[model_name]\n",
    "    model = config['model']\n",
    "    params = config['params'](trial)\n",
    "    model.set_params(**params)\n",
    "    model_type_str = str(type(model)).lower()\n",
    "    if 'gaussiannb' in model_type_str: preprocessor = preprocessor_nb\n",
    "    elif any(tn in model_type_str for tn in ['tree', 'xgb', 'lgbm', 'catboost', 'forest', 'adaboost']): preprocessor = preprocessor_tree\n",
    "    else: preprocessor = preprocessor_linear\n",
    "    pipeline = ImbPipeline([('preprocessor', preprocessor), ('sampler', SMOTEENN(random_state=42)), ('classifier', model)])\n",
    "    return cross_val_score(pipeline, X_train, y_train, cv=3, scoring='roc_auc', n_jobs=-1).mean()\n",
    "\n",
    "top_models_names = results_df_sorted['Model'].head(N_TOP_MODELS_TO_TUNE).tolist()\n",
    "print(f\"✅ Top models identified for intensive tuning: {top_models_names}\")\n",
    "\n",
    "best_tuned_params = {row['Model']: row['Best_Parameters'] for index, row in results_df_sorted.iterrows()}\n",
    "tuned_special_models = {}\n",
    "\n",
    "for model_name in top_models_names:\n",
    "    if model_name in tuning_config:\n",
    "        print(f\"\\n--- Running Intensive Optuna for {model_name} ---\")\n",
    "        study = optuna.create_study(direction='maximize')\n",
    "        study.optimize(lambda trial: universal_sklearn_objective(trial, model_name), n_trials=INTENSIVE_OPTUNA_TRIALS)\n",
    "        best_tuned_params[model_name] = study.best_params\n",
    "        print(f\"🏆 Best {model_name} Score from Intensive Search: {study.best_value:.4f}\")\n",
    "    else:\n",
    "        print(f\"\\n⚠️ Skipping intensive tuning for {model_name} (Keras/special model). Using prior results.\")"
   ],
   "id": "9ef00c26f96fc649",
   "outputs": [
    {
     "name": "stdout",
     "output_type": "stream",
     "text": [
      "✅ Top models identified for intensive tuning: ['CatBoost', 'LightGBM', 'XGBoost', 'Gradient Boosting']\n",
      "\n",
      "--- Running Intensive Optuna for CatBoost ---\n",
      "🏆 Best CatBoost Score from Intensive Search: 0.8171\n",
      "\n",
      "--- Running Intensive Optuna for LightGBM ---\n",
      "🏆 Best LightGBM Score from Intensive Search: 0.8093\n",
      "\n",
      "--- Running Intensive Optuna for XGBoost ---\n",
      "🏆 Best XGBoost Score from Intensive Search: 0.8108\n",
      "\n",
      "--- Running Intensive Optuna for Gradient Boosting ---\n",
      "🏆 Best Gradient Boosting Score from Intensive Search: 0.7977\n"
     ]
    }
   ],
   "execution_count": 30
  },
  {
   "metadata": {},
   "cell_type": "markdown",
   "source": [
    "## 11. Final Ensemble Construction with Top 4 Models\n",
    "Once the best hyperparameters are found out, we are then taking them and building the final model as an ensemble of them all."
   ],
   "id": "109f53ca3afabc4c"
  },
  {
   "metadata": {
    "ExecuteTime": {
     "end_time": "2025-10-02T11:35:23.064552Z",
     "start_time": "2025-10-02T11:35:21.825714Z"
    }
   },
   "cell_type": "code",
   "source": [
    "class PreFittedKerasWrapper(BaseEstimator, ClassifierMixin):\n",
    "    def __init__(self, model, cat_features, num_features):\n",
    "        self.model = model; self.cat_features = cat_features; self.num_features = num_features; self.scaler_ = StandardScaler()\n",
    "    def _prepare_data(self, X):\n",
    "        X_prepared = X.copy()\n",
    "        for col in self.cat_features: X_prepared[col] = X_prepared[col].astype('category').cat.codes\n",
    "        X_prepared[self.num_features] = self.scaler_.transform(X_prepared[self.num_features])\n",
    "        return {col: np.array(X_prepared[col]) for col in self.cat_features} | {'numerical_input': X_prepared[self.num_features].values}\n",
    "    def fit(self, X, y=None):\n",
    "        self.scaler_.fit(X[self.num_features]); return self\n",
    "    def predict_proba(self, X):\n",
    "        probs = self.model.predict(self._prepare_data(X), verbose=0); return np.hstack([1 - probs, probs])\n",
    "\n",
    "print(\"--- Selecting the Top 4 Models for the Final Ensemble ---\")\n",
    "ensemble_candidates = results_df_sorted['Model'].head(4).tolist()\n",
    "print(f\"✅ Selected candidates: {ensemble_candidates}\")\n",
    "\n",
    "model_map = { 'Logistic Regression': LogisticRegression, 'Ridge Classifier': RidgeClassifier, 'SGD Classifier (Lasso)': SGDClassifier, 'LDA': LinearDiscriminantAnalysis, 'Support Vector Machine': SVC, 'Decision Tree': DecisionTreeClassifier, 'Random Forest': RandomForestClassifier, 'Extra Trees': ExtraTreesClassifier, 'Gradient Boosting': GradientBoostingClassifier, 'XGBoost': XGBClassifier, 'LightGBM': LGBMClassifier, 'CatBoost': CatBoostClassifier, 'KNN': KNeighborsClassifier, 'Gaussian NB': GaussianNB, 'Multinomial NB': MultinomialNB, 'Bernoulli NB': BernoulliNB, 'MLP': MLPClassifier }\n",
    "\n",
    "stacking_estimators = []\n",
    "for model_name in ensemble_candidates:\n",
    "    estimator_name = model_name.lower().replace(' & ', '_').replace(' ', '_').replace('(lasso)','')\n",
    "    params = best_tuned_params.get(model_name, {})\n",
    "    \n",
    "    if model_name == 'Keras NN': \n",
    "        estimator = PreFittedKerasWrapper(keras_model, categorical_features, numerical_features)\n",
    "    elif model_name == 'Wide & Deep':\n",
    "        estimator = PreFittedKerasWrapper(wide_deep_model, categorical_features, numerical_features)\n",
    "    elif model_name == 'XGB on AE Features':\n",
    "        estimator = Pipeline([('encoder', encoder_model), ('classifier', xgb_on_ae)])\n",
    "    else:\n",
    "        classifier = model_map[model_name]()\n",
    "        classifier.set_params(**params)\n",
    "        if 'random_state' in classifier.get_params(): classifier.set_params(random_state=42)\n",
    "        model_type_str = str(type(classifier)).lower()\n",
    "        if 'naive_bayes' in model_type_str or 'nb' in model_type_str:\n",
    "            preprocessor = preprocessor_nb\n",
    "        elif any(tn in model_type_str for tn in ['tree', 'xgb', 'lgbm', 'catboost', 'forest']):\n",
    "            preprocessor = preprocessor_tree\n",
    "        else: preprocessor = preprocessor_linear\n",
    "        estimator = ImbPipeline([('preprocessor', preprocessor), ('sampler', SMOTEENN(random_state=42)), ('classifier', classifier)])\n",
    "\n",
    "    stacking_estimators.append((estimator_name, estimator))\n",
    "    print(f\"✅ Added '{model_name}' to the ensemble.\")\n",
    "\n",
    "final_ensemble_model = StackingClassifier(estimators=stacking_estimators, final_estimator=LogisticRegression(class_weight='balanced'), cv=5, n_jobs=-1, passthrough=False)\n",
    "print(\"\\n--- Training Final Stacking Ensemble ---\")\n",
    "final_ensemble_model.fit(X_train, y_train)\n",
    "print(\"\\n✅ Final Ensemble Model has been trained.\")"
   ],
   "id": "a359ceef6208ee14",
   "outputs": [
    {
     "ename": "NameError",
     "evalue": "name 'BaseEstimator' is not defined",
     "output_type": "error",
     "traceback": [
      "\u001B[31m---------------------------------------------------------------------------\u001B[39m",
      "\u001B[31mNameError\u001B[39m                                 Traceback (most recent call last)",
      "\u001B[36mCell\u001B[39m\u001B[36m \u001B[39m\u001B[32mIn[1]\u001B[39m\u001B[32m, line 1\u001B[39m\n\u001B[32m----> \u001B[39m\u001B[32m1\u001B[39m \u001B[38;5;28;01mclass\u001B[39;00m\u001B[38;5;250m \u001B[39m\u001B[34;01mPreFittedKerasWrapper\u001B[39;00m(\u001B[43mBaseEstimator\u001B[49m, ClassifierMixin):\n\u001B[32m      2\u001B[39m     \u001B[38;5;28;01mdef\u001B[39;00m\u001B[38;5;250m \u001B[39m\u001B[34m__init__\u001B[39m(\u001B[38;5;28mself\u001B[39m, model, cat_features, num_features):\n\u001B[32m      3\u001B[39m         \u001B[38;5;28mself\u001B[39m.model = model; \u001B[38;5;28mself\u001B[39m.cat_features = cat_features; \u001B[38;5;28mself\u001B[39m.num_features = num_features; \u001B[38;5;28mself\u001B[39m.scaler_ = StandardScaler()\n",
      "\u001B[31mNameError\u001B[39m: name 'BaseEstimator' is not defined"
     ]
    }
   ],
   "execution_count": 1
  },
  {
   "cell_type": "markdown",
   "metadata": {},
   "source": [
    "## 12. Optimizing the Decision Threshold\n",
    "This code finds the best decision threshold (instead of the default 0.5) for converting predicted probabilities into class labels, in order to maximize the F1-score and ensure a balance between precision and recall."
   ],
   "id": "308cde15e9c76c86"
  },
  {
   "cell_type": "code",
   "metadata": {
    "ExecuteTime": {
     "end_time": "2025-10-02T11:35:23.824558700Z",
     "start_time": "2025-09-28T21:23:57.408793Z"
    }
   },
   "source": [
    "y_proba_final = final_ensemble_model.predict_proba(X_test)[:, 1]\n",
    "precision, recall, thresholds = precision_recall_curve(y_test, y_proba_final)\n",
    "f1_scores = (2 * precision * recall) / (precision + recall)\n",
    "optimal_idx = np.nanargmax(f1_scores)\n",
    "optimal_threshold = thresholds[optimal_idx]\n",
    "print(f\"Optimal Threshold: {optimal_threshold:.4f}\")"
   ],
   "id": "65695792979e6b83",
   "outputs": [
    {
     "name": "stdout",
     "output_type": "stream",
     "text": [
      "Optimal Threshold: 0.0873\n"
     ]
    }
   ],
   "execution_count": 32
  },
  {
   "cell_type": "markdown",
   "metadata": {},
   "source": [
    "## 13. Final Evaluation & Business Metrics\n",
    "The below code uses the optimized threshold (found in the step above i.e. step 12) to make final predictions, it then evaluates the model’s performance using a classification reporta and then plots the ROC and Precision-Recall curves, and then finally calculates CPA (Cost Per Acquisition) based on ad spend for test samples predicted as positive (i.e., expected conversions)."
   ],
   "id": "b43cacc891d8f24a"
  },
  {
   "cell_type": "code",
   "metadata": {
    "ExecuteTime": {
     "end_time": "2025-10-02T11:35:23.832566700Z",
     "start_time": "2025-09-28T21:23:59.348967Z"
    }
   },
   "source": [
    "print(\"--- Final Performance (with Optimal Threshold) ---\")\n",
    "y_pred_optimal = (y_proba_final >= optimal_threshold).astype(int)\n",
    "print(classification_report(y_test, y_pred_optimal, digits=4))\n",
    "fig, ax = plt.subplots(1, 2, figsize=(16, 6))\n",
    "RocCurveDisplay.from_estimator(final_ensemble_model, X_test, y_test, ax=ax[0])\n",
    "PrecisionRecallDisplay.from_estimator(final_ensemble_model, X_test, y_test, ax=ax[1])\n",
    "plt.show()\n",
    "X_test_original = df_clean.loc[X_test.index]\n",
    "total_spend = X_test_original['AdSpend'].sum()\n",
    "total_conversions = y_test[y_pred_optimal == 1].sum()\n",
    "cpa = total_spend / total_conversions if total_conversions > 0 else float('inf')\n",
    "print(f\"\\nModel-driven CPA on Test Set: ${cpa:.2f}\")"
   ],
   "id": "6c411c0bb2405fb9",
   "outputs": [
    {
     "name": "stdout",
     "output_type": "stream",
     "text": [
      "--- Final Performance (with Optimal Threshold) ---\n",
      "              precision    recall  f1-score   support\n",
      "\n",
      "           0     0.8776    0.4410    0.5870       195\n",
      "           1     0.9270    0.9914    0.9581      1397\n",
      "\n",
      "    accuracy                         0.9240      1592\n",
      "   macro avg     0.9023    0.7162    0.7726      1592\n",
      "weighted avg     0.9210    0.9240    0.9127      1592\n",
      "\n"
     ]
    },
    {
     "data": {
      "text/plain": [
       "<Figure size 1600x600 with 2 Axes>"
      ],
      "image/png": "[encoded data removed]"
     },
     "metadata": {},
     "output_type": "display_data",
     "jetTransient": {
      "display_id": null
     }
    },
    {
     "name": "stdout",
     "output_type": "stream",
     "text": [
      "\n",
      "Model-driven CPA on Test Set: $5635.54\n"
     ]
    }
   ],
   "execution_count": 33
  },
  {
   "cell_type": "markdown",
   "metadata": {},
   "source": [
    "## 14. Combined SHAP Importance for the Full Ensemble\n",
    "We are using this to find out the major parameters of the various moddels and how imporant they are for the decision making."
   ],
   "id": "8e21f54c30a679f8"
  },
  {
   "cell_type": "code",
   "metadata": {
    "ExecuteTime": {
     "end_time": "2025-10-02T11:35:23.836565400Z",
     "start_time": "2025-09-28T21:24:00.467433Z"
    }
   },
   "source": [
    "print(\"--- Combined SHAP Feature Importance for the Full Ensemble ---\")\n",
    "all_feature_importances = []\n",
    "for model_name, model_pipeline in final_ensemble_model.named_estimators_.items():\n",
    "    print(f\"\\n--- Analyzing Base Model: {model_name.upper()} ---\")\n",
    "    try:\n",
    "        shap_values, feature_names, X_transformed = None, None, None\n",
    "        if hasattr(model_pipeline, '_final_estimator'):\n",
    "            if hasattr(model_pipeline, 'named_steps'):\n",
    "                classifier = model_pipeline.named_steps['classifier']\n",
    "                preprocessor = model_pipeline.named_steps['preprocessor']\n",
    "                X_transformed_arr = preprocessor.fit_transform(X_train, y_train)\n",
    "                feature_names = preprocessor.get_feature_names_out()\n",
    "                X_transformed = pd.DataFrame(X_transformed_arr, columns=feature_names)\n",
    "            else:\n",
    "                classifier = model_pipeline.named_steps['classifier']\n",
    "                encoder_step = model_pipeline.named_steps['encoder']\n",
    "                X_transformed = pd.DataFrame(encoder_step.transform(X_train_keras), columns=[f'AE_{i}' for i in range(encoder_step.output_shape[1])])\n",
    "                feature_names = X_transformed.columns.tolist()\n",
    "            explainer = shap.TreeExplainer(classifier, X_transformed)\n",
    "            shap_values = explainer.shap_values(X_transformed)\n",
    "        else:\n",
    "            classifier = model_pipeline\n",
    "            X_transformed_dict = classifier._prepare_data(X_train)\n",
    "            background = {k: v[:100] for k, v in X_transformed_dict.items()}\n",
    "            input_tensors = [tf.convert_to_tensor(v) for v in X_transformed_dict.values()]\n",
    "            feature_names = X_train.columns.tolist()\n",
    "            X_transformed = X_train\n",
    "            explainer = shap.DeepExplainer(classifier.model, background)\n",
    "            shap_values = explainer.shap_values(input_tensors)[0]\n",
    "        if shap_values is not None:\n",
    "            if isinstance(shap_values, list): shap_values = shap_values[1]\n",
    "            mean_abs_shap = np.abs(shap_values).mean(axis=0)\n",
    "            all_feature_importances.append(pd.Series(mean_abs_shap, index=feature_names))\n",
    "            print(f\"✅ Successfully calculated importances for {model_name.upper()}.\")\n",
    "    except Exception as e:\n",
    "        print(f\"⚠️ Could not explain model {model_name}. Error: {e}\")\n",
    "if all_feature_importances:\n",
    "    combined_importance_df = pd.concat(all_feature_importances, axis=1).fillna(0)\n",
    "    mean_importance = combined_importance_df.mean(axis=1)\n",
    "    plot_df = pd.DataFrame({'Feature': mean_importance.index, 'Mean Abs SHAP Value': mean_importance.values})\n",
    "    plot_df = plot_df.sort_values(by='Mean Abs SHAP Value', ascending=False).head(20)\n",
    "    plt.figure(figsize=(10, 12))\n",
    "    sns.barplot(x='Mean Abs SHAP Value', y='Feature', data=plot_df, palette='viridis')\n",
    "    plt.title('Combined Feature Importance for the Full Ensemble', fontsize=16)\n",
    "    plt.xlabel('Average SHAP Value (Impact on model output magnitude)', fontsize=12)\n",
    "    plt.ylabel('Feature', fontsize=12)\n",
    "    plt.tight_layout()\n",
    "    plt.show()\n",
    "else:\n",
    "    print(\"\\n⚠️ No models in the ensemble were explainable.\")"
   ],
   "id": "12cfa7f55163236d",
   "outputs": [
    {
     "name": "stdout",
     "output_type": "stream",
     "text": [
      "--- Combined SHAP Feature Importance for the Full Ensemble ---\n",
      "\n",
      "--- Analyzing Base Model: CATBOOST ---\n"
     ]
    },
    {
     "name": "stderr",
     "output_type": "stream",
     "text": [
      " 99%|===================| 6333/6368 [01:41<00:00]        "
     ]
    },
    {
     "name": "stdout",
     "output_type": "stream",
     "text": [
      "✅ Successfully calculated importances for CATBOOST.\n",
      "\n",
      "--- Analyzing Base Model: LIGHTGBM ---\n"
     ]
    },
    {
     "name": "stderr",
     "output_type": "stream",
     "text": [
      "100%|===================| 6351/6368 [04:53<00:00]        "
     ]
    },
    {
     "name": "stdout",
     "output_type": "stream",
     "text": [
      "✅ Successfully calculated importances for LIGHTGBM.\n",
      "\n",
      "--- Analyzing Base Model: XGBOOST ---\n"
     ]
    },
    {
     "name": "stderr",
     "output_type": "stream",
     "text": [
      "100%|===================| 6366/6368 [17:54<00:00]        "
     ]
    },
    {
     "name": "stdout",
     "output_type": "stream",
     "text": [
      "✅ Successfully calculated importances for XGBOOST.\n"
     ]
    },
    {
     "data": {
      "text/plain": [
       "<Figure size 1000x1200 with 1 Axes>"
      ],
      "image/png": "[encoded data removed]"
     },
     "metadata": {},
     "output_type": "display_data",
     "jetTransient": {
      "display_id": null
     }
    }
   ],
   "execution_count": 34
  },
  {
   "cell_type": "markdown",
   "id": "deploy_header",
   "metadata": {},
   "source": [
    "## 15. Deployment Readiness"
   ]
  },
  {
   "metadata": {
    "ExecuteTime": {
     "end_time": "2025-10-02T11:35:23.836565400Z",
     "start_time": "2025-09-28T21:48:33.997506Z"
    }
   },
   "cell_type": "code",
   "source": [
    "model_filename = 'final_submission_model.pkl'\n",
    "joblib.dump(final_ensemble_model, model_filename)\n",
    "print(f\"💾 Final model saved to '{model_filename}'\")"
   ],
   "id": "3b050c28220749ad",
   "outputs": [
    {
     "name": "stdout",
     "output_type": "stream",
     "text": [
      "💾 Final model saved to 'final_submission_model.pkl'\n"
     ]
    }
   ],
   "execution_count": 35
  },
  {
   "metadata": {
    "ExecuteTime": {
     "end_time": "2025-09-28T21:48:34.389816Z",
     "start_time": "2025-09-28T21:48:34.387028Z"
    }
   },
   "cell_type": "markdown",
   "source": "",
   "id": "cf983aa7503e3012"
  }
 ],
 "metadata": {
  "kernelspec": {
   "display_name": "Python 3",
   "language": "python",
   "name": "python3"
  }
 },
 "nbformat": 4,
 "nbformat_minor": 5
}
