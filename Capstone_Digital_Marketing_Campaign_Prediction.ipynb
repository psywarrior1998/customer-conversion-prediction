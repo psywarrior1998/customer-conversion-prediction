{
 "cells": [
  {
   "cell_type": "markdown",
   "metadata": {},
   "source": [
    "# <p style=\"background-color:#003366; font-family:calibri; color:white; font-size:150%; text-align:center; border-radius:15px 50px;\">Capstone Project | Digital Marketing Campaign Conversion Prediction</p>"
   ],
   "id": "3ad652dfc6cace93"
  },
  {
   "cell_type": "markdown",
   "metadata": {},
   "source": [
    "### **Author:** Sanyam Sanjay Sharma\n",
    "### **Date:** 24th September 2025"
   ],
   "id": "5402d564136c27e5"
  },
  {
   "cell_type": "markdown",
   "metadata": {},
   "source": [
    "## **1. Library Imports**\n",
    "\n",
    "**Metadata Comment:** This cell imports all necessary Python libraries for the project. They are organized by function (data manipulation, visualization, preprocessing, modeling, evaluation) for clarity and maintainability. This is the foundational step for any data science workflow."
   ],
   "id": "c5e8585fb549c0f1"
  },
  {
   "cell_type": "code",
   "metadata": {
    "ExecuteTime": {
     "end_time": "2025-09-24T13:12:06.995946Z",
     "start_time": "2025-09-24T13:12:05.651851Z"
    }
   },
   "source": [
    "# === Core Libraries for Data Handling and Analysis ===\n",
    "import pandas as pd\n",
    "import numpy as np\n",
    "import time\n",
    "\n",
    "# === Libraries for Data Visualization ===\n",
    "import seaborn as sns\n",
    "import matplotlib.pyplot as plt\n",
    "sns.set_style(\"whitegrid\")\n",
    "\n",
    "# === Libraries for Data Preprocessing and Feature Engineering ===\n",
    "from sklearn.preprocessing import StandardScaler, OneHotEncoder\n",
    "from sklearn.compose import ColumnTransformer\n",
    "from imblearn.over_sampling import SMOTE\n",
    "from imblearn.ensemble import RUSBoostClassifier\n",
    "\n",
    "# === Libraries for Model Selection, Tuning, and Evaluation ===\n",
    "from sklearn.model_selection import train_test_split, GridSearchCV\n",
    "from sklearn.metrics import classification_report, confusion_matrix, accuracy_score, roc_auc_score, roc_curve\n",
    "\n",
    "# === Machine Learning Models (Importing all specified candidates) ===\n",
    "from sklearn.linear_model import LogisticRegression, RidgeClassifier, SGDClassifier\n",
    "from sklearn.svm import SVC\n",
    "from sklearn.tree import DecisionTreeClassifier\n",
    "from sklearn.ensemble import (\n",
    "    RandomForestClassifier,\n",
    "    ExtraTreesClassifier,\n",
    "    BaggingClassifier,\n",
    "    GradientBoostingClassifier,\n",
    "    AdaBoostClassifier,\n",
    "    IsolationForest\n",
    ")\n",
    "from xgboost import XGBClassifier\n",
    "from lightgbm import LGBMClassifier\n",
    "from catboost import CatBoostClassifier\n",
    "from sklearn.naive_bayes import GaussianNB, BernoulliNB, ComplementNB\n",
    "from sklearn.neighbors import KNeighborsClassifier\n",
    "from sklearn.discriminant_analysis import LinearDiscriminantAnalysis, QuadraticDiscriminantAnalysis\n",
    "from sklearn.neural_network import MLPClassifier\n",
    "\n",
    "# === Model Persistence ===\n",
    "import joblib\n",
    "\n",
    "# === Utility ===\n",
    "import warnings\n",
    "warnings.filterwarnings('ignore')\n",
    "\n",
    "print(\"✅ All libraries imported successfully.\")"
   ],
   "id": "6dc3bab2a1217874",
   "outputs": [
    {
     "name": "stdout",
     "output_type": "stream",
     "text": [
      "✅ All libraries imported successfully.\n"
     ]
    }
   ],
   "execution_count": 1
  },
  {
   "cell_type": "markdown",
   "metadata": {},
   "source": [
    "## **2. Data Loading and Initial Cleaning**\n",
    "\n",
    "**Metadata Comment:** We load the dataset and perform initial cleaning by removing columns with no predictive value (unique IDs, constant values)."
   ],
   "id": "87fed6ef55d8e43"
  },
  {
   "cell_type": "code",
   "metadata": {
    "ExecuteTime": {
     "end_time": "2025-09-24T13:12:07.081403Z",
     "start_time": "2025-09-24T13:12:07.016220Z"
    }
   },
   "source": [
    "df = pd.read_csv('digital_marketing_campaign_dataset.csv')\n",
    "useless_columns = ['CustomerID', 'AdvertisingPlatform', 'AdvertisingTool']\n",
    "df.drop(columns=useless_columns, inplace=True)\n",
    "print(\"--- Data Head After Cleaning ---\")\n",
    "display(df.head())"
   ],
   "id": "a5cd59ee0d95bc1c",
   "outputs": [
    {
     "name": "stdout",
     "output_type": "stream",
     "text": [
      "--- Data Head After Cleaning ---\n"
     ]
    },
    {
     "data": {
      "text/plain": [
       "   Age  Gender  Income CampaignChannel CampaignType      AdSpend  \\\n",
       "0   56  Female  136912    Social Media    Awareness  6497.870068   \n",
       "1   69    Male   41760           Email    Retention  3898.668606   \n",
       "2   46  Female   88456             PPC    Awareness  1546.429596   \n",
       "3   32  Female   44085             PPC   Conversion   539.525936   \n",
       "4   60  Female   83964             PPC   Conversion  1678.043573   \n",
       "\n",
       "   ClickThroughRate  ConversionRate  WebsiteVisits  PagesPerVisit  TimeOnSite  \\\n",
       "0          0.043919        0.088031              0       2.399017    7.396803   \n",
       "1          0.155725        0.182725             42       2.917138    5.352549   \n",
       "2          0.277490        0.076423              2       8.223619   13.794901   \n",
       "3          0.137611        0.088004             47       4.540939   14.688363   \n",
       "4          0.252851        0.109940              0       2.046847   13.993370   \n",
       "\n",
       "   SocialShares  EmailOpens  EmailClicks  PreviousPurchases  LoyaltyPoints  \\\n",
       "0            19           6            9                  4            688   \n",
       "1             5           2            7                  2           3459   \n",
       "2             0          11            2                  8           2337   \n",
       "3            89           2            2                  0           2463   \n",
       "4             6           6            6                  8           4345   \n",
       "\n",
       "   Conversion  \n",
       "0           1  \n",
       "1           1  \n",
       "2           1  \n",
       "3           1  \n",
       "4           1  "
      ],
      "text/html": [
       "<div>\n",
       "<style scoped>\n",
       "    .dataframe tbody tr th:only-of-type {\n",
       "        vertical-align: middle;\n",
       "    }\n",
       "\n",
       "    .dataframe tbody tr th {\n",
       "        vertical-align: top;\n",
       "    }\n",
       "\n",
       "    .dataframe thead th {\n",
       "        text-align: right;\n",
       "    }\n",
       "</style>\n",
       "<table border=\"1\" class=\"dataframe\">\n",
       "  <thead>\n",
       "    <tr style=\"text-align: right;\">\n",
       "      <th></th>\n",
       "      <th>Age</th>\n",
       "      <th>Gender</th>\n",
       "      <th>Income</th>\n",
       "      <th>CampaignChannel</th>\n",
       "      <th>CampaignType</th>\n",
       "      <th>AdSpend</th>\n",
       "      <th>ClickThroughRate</th>\n",
       "      <th>ConversionRate</th>\n",
       "      <th>WebsiteVisits</th>\n",
       "      <th>PagesPerVisit</th>\n",
       "      <th>TimeOnSite</th>\n",
       "      <th>SocialShares</th>\n",
       "      <th>EmailOpens</th>\n",
       "      <th>EmailClicks</th>\n",
       "      <th>PreviousPurchases</th>\n",
       "      <th>LoyaltyPoints</th>\n",
       "      <th>Conversion</th>\n",
       "    </tr>\n",
       "  </thead>\n",
       "  <tbody>\n",
       "    <tr>\n",
       "      <th>0</th>\n",
       "      <td>56</td>\n",
       "      <td>Female</td>\n",
       "      <td>136912</td>\n",
       "      <td>Social Media</td>\n",
       "      <td>Awareness</td>\n",
       "      <td>6497.870068</td>\n",
       "      <td>0.043919</td>\n",
       "      <td>0.088031</td>\n",
       "      <td>0</td>\n",
       "      <td>2.399017</td>\n",
       "      <td>7.396803</td>\n",
       "      <td>19</td>\n",
       "      <td>6</td>\n",
       "      <td>9</td>\n",
       "      <td>4</td>\n",
       "      <td>688</td>\n",
       "      <td>1</td>\n",
       "    </tr>\n",
       "    <tr>\n",
       "      <th>1</th>\n",
       "      <td>69</td>\n",
       "      <td>Male</td>\n",
       "      <td>41760</td>\n",
       "      <td>Email</td>\n",
       "      <td>Retention</td>\n",
       "      <td>3898.668606</td>\n",
       "      <td>0.155725</td>\n",
       "      <td>0.182725</td>\n",
       "      <td>42</td>\n",
       "      <td>2.917138</td>\n",
       "      <td>5.352549</td>\n",
       "      <td>5</td>\n",
       "      <td>2</td>\n",
       "      <td>7</td>\n",
       "      <td>2</td>\n",
       "      <td>3459</td>\n",
       "      <td>1</td>\n",
       "    </tr>\n",
       "    <tr>\n",
       "      <th>2</th>\n",
       "      <td>46</td>\n",
       "      <td>Female</td>\n",
       "      <td>88456</td>\n",
       "      <td>PPC</td>\n",
       "      <td>Awareness</td>\n",
       "      <td>1546.429596</td>\n",
       "      <td>0.277490</td>\n",
       "      <td>0.076423</td>\n",
       "      <td>2</td>\n",
       "      <td>8.223619</td>\n",
       "      <td>13.794901</td>\n",
       "      <td>0</td>\n",
       "      <td>11</td>\n",
       "      <td>2</td>\n",
       "      <td>8</td>\n",
       "      <td>2337</td>\n",
       "      <td>1</td>\n",
       "    </tr>\n",
       "    <tr>\n",
       "      <th>3</th>\n",
       "      <td>32</td>\n",
       "      <td>Female</td>\n",
       "      <td>44085</td>\n",
       "      <td>PPC</td>\n",
       "      <td>Conversion</td>\n",
       "      <td>539.525936</td>\n",
       "      <td>0.137611</td>\n",
       "      <td>0.088004</td>\n",
       "      <td>47</td>\n",
       "      <td>4.540939</td>\n",
       "      <td>14.688363</td>\n",
       "      <td>89</td>\n",
       "      <td>2</td>\n",
       "      <td>2</td>\n",
       "      <td>0</td>\n",
       "      <td>2463</td>\n",
       "      <td>1</td>\n",
       "    </tr>\n",
       "    <tr>\n",
       "      <th>4</th>\n",
       "      <td>60</td>\n",
       "      <td>Female</td>\n",
       "      <td>83964</td>\n",
       "      <td>PPC</td>\n",
       "      <td>Conversion</td>\n",
       "      <td>1678.043573</td>\n",
       "      <td>0.252851</td>\n",
       "      <td>0.109940</td>\n",
       "      <td>0</td>\n",
       "      <td>2.046847</td>\n",
       "      <td>13.993370</td>\n",
       "      <td>6</td>\n",
       "      <td>6</td>\n",
       "      <td>6</td>\n",
       "      <td>8</td>\n",
       "      <td>4345</td>\n",
       "      <td>1</td>\n",
       "    </tr>\n",
       "  </tbody>\n",
       "</table>\n",
       "</div>"
      ]
     },
     "metadata": {},
     "output_type": "display_data",
     "jetTransient": {
      "display_id": null
     }
    }
   ],
   "execution_count": 2
  },
  {
   "cell_type": "markdown",
   "metadata": {},
   "source": [
    "## **3. Feature Engineering, Encoding, and Class Balancing (SMOTE)**\n",
    "\n",
    "**Metadata Comment:** This section defines the feature engineering and class balancing strategy. We first define the preprocessor for scaling and encoding. Then, as per the specified workflow, we apply SMOTE to the **entire dataset** *before* any splitting to address the class imbalance. **Note:** This approach deviates from the standard practice of applying SMOTE only to the training set to prevent data leakage, but is followed here as requested."
   ],
   "id": "7ba106b2a69d5465"
  },
  {
   "cell_type": "code",
   "metadata": {
    "ExecuteTime": {
     "end_time": "2025-09-24T13:12:11.943769Z",
     "start_time": "2025-09-24T13:12:07.131257Z"
    }
   },
   "source": [
    "# In-script Comment: Separate features (X) from the target variable (y)\n",
    "X = df.drop('Conversion', axis=1)\n",
    "y = df['Conversion']\n",
    "\n",
    "print(f\"Original class distribution:\\n{y.value_counts()}\")\n",
    "\n",
    "# In-script Comment: Define the preprocessor for numerical and categorical features\n",
    "numerical_features = X.select_dtypes(include=np.number).columns.tolist()\n",
    "categorical_features = X.select_dtypes(exclude=np.number).columns.tolist()\n",
    "preprocessor = ColumnTransformer(\n",
    "    transformers=[\n",
    "        ('num', StandardScaler(), numerical_features),\n",
    "        ('cat', OneHotEncoder(handle_unknown='ignore'), categorical_features)\n",
    "    ])\n",
    "\n",
    "# In-script Comment: First, preprocess the entire feature set X\n",
    "X_processed = preprocessor.fit_transform(X)\n",
    "\n",
    "# In-script Comment: Apply SMOTE to the entire processed dataset as per the request\n",
    "smote = SMOTE(random_state=42)\n",
    "X_balanced, y_balanced = smote.fit_resample(X_processed, y)\n",
    "\n",
    "print(\"\\n--- SMOTE Balancing Complete ---\")\n",
    "print(f\"Shape of feature set before SMOTE: {X_processed.shape}\")\n",
    "print(f\"Shape of feature set after SMOTE: {X_balanced.shape}\")\n",
    "print(f\"Class distribution after SMOTE:\\n{pd.Series(y_balanced).value_counts()}\")"
   ],
   "id": "ff1ae8aa059bfd39",
   "outputs": [
    {
     "name": "stdout",
     "output_type": "stream",
     "text": [
      "Original class distribution:\n",
      "Conversion\n",
      "1    7012\n",
      "0     988\n",
      "Name: count, dtype: int64\n",
      "\n",
      "--- SMOTE Balancing Complete ---\n",
      "Shape of feature set before SMOTE: (8000, 24)\n",
      "Shape of feature set after SMOTE: (14024, 24)\n",
      "Class distribution after SMOTE:\n",
      "Conversion\n",
      "1    7012\n",
      "0    7012\n",
      "Name: count, dtype: int64\n"
     ]
    }
   ],
   "execution_count": 3
  },
  {
   "cell_type": "markdown",
   "metadata": {},
   "source": [
    "## **4. Data Splitting**\n",
    "\n",
    "**Metadata Comment:** We now split the pre-balanced dataset according to the specified multi-step strategy."
   ],
   "id": "e7e3aca922bac914"
  },
  {
   "cell_type": "code",
   "metadata": {
    "ExecuteTime": {
     "end_time": "2025-09-24T13:12:24.968299Z",
     "start_time": "2025-09-24T13:12:24.922935Z"
    }
   },
   "source": [
    "# In-script Comment: Use the balanced data for all subsequent steps\n",
    "X_final = X_balanced\n",
    "y_final = y_balanced\n",
    "\n",
    "# In-script Comment: trainval test split (20% for final test)\n",
    "X_train_val, X_test, y_train_val, y_test = train_test_split(X_final, y_final, test_size=0.20, random_state=42, stratify=y_final)\n",
    "\n",
    "# In-script Comment: train val split (15% of the 80% for validation)\n",
    "X_train, X_val, y_train, y_val = train_test_split(X_train_val, y_train_val, test_size=0.15, random_state=42, stratify=y_train_val)\n",
    "\n",
    "# In-script Comment: Reduce training set to 1% for rapid hyperparameter tuning\n",
    "_, X_train_reduced, _, y_train_reduced = train_test_split(X_train, y_train, train_size=0.01, random_state=42, stratify=y_train)\n",
    "\n",
    "print(\"✅ Data Splitting Complete.\")\n",
    "print(f\"Full Training Set Shape: {X_train.shape}\")\n",
    "print(f\"Reduced Training Set Shape for Tuning: {X_train_reduced.shape}\")\n",
    "print(f\"Test Set Shape: {X_test.shape}\")"
   ],
   "id": "55d34112b42da0ef",
   "outputs": [
    {
     "name": "stdout",
     "output_type": "stream",
     "text": [
      "✅ Data Splitting Complete.\n",
      "Full Training Set Shape: (9536, 24)\n",
      "Reduced Training Set Shape for Tuning: (9441, 24)\n",
      "Test Set Shape: (2805, 24)\n"
     ]
    }
   ],
   "execution_count": 4
  },
  {
   "cell_type": "markdown",
   "metadata": {},
   "source": [
    "## **5. Model Training and Hyperparameter Tuning (on 1% Sample)**\n",
    "\n",
    "**Metadata Comment:** We now individually train and tune each model on the small, 1% balanced dataset to quickly find the best hyperparameters using `GridSearchCV`."
   ],
   "id": "86604a6ecbfed7fa"
  },
  {
   "cell_type": "markdown",
   "metadata": {},
   "source": [
    "### **5.1 Linear Models**"
   ],
   "id": "ec3f65be0163f509"
  },
  {
   "cell_type": "code",
   "metadata": {
    "ExecuteTime": {
     "end_time": "2025-09-24T13:14:33.211315Z",
     "start_time": "2025-09-24T13:12:25.017070Z"
    }
   },
   "source": [
    "model_results = {}\n",
    "\n",
    "# --- Logistic Regression ---\n",
    "param_grid_lr = {'C': [0.1, 1.0, 10], 'solver': ['liblinear', 'saga']}\n",
    "grid_lr = GridSearchCV(LogisticRegression(random_state=42, max_iter=1000), param_grid_lr, cv=3, scoring='accuracy', n_jobs=-1)\n",
    "grid_lr.fit(X_train_reduced, y_train_reduced)\n",
    "print(\"--- Logistic Regression ---\")\n",
    "print(f\"Best Parameters: {grid_lr.best_params_}\")\n",
    "print(f\"Best CV Accuracy: {grid_lr.best_score_:.4f}\")\n",
    "model_results['Logistic Regression'] = (grid_lr.best_score_, grid_lr.best_params_)\n",
    "\n",
    "# --- Ridge Classifier ---\n",
    "param_grid_ridge = {'alpha': [0.1, 1.0, 10.0]}\n",
    "grid_ridge = GridSearchCV(RidgeClassifier(random_state=42), param_grid_ridge, cv=3, scoring='accuracy', n_jobs=-1)\n",
    "grid_ridge.fit(X_train_reduced, y_train_reduced)\n",
    "print(\"\\n--- Ridge Classifier ---\")\n",
    "print(f\"Best Parameters: {grid_ridge.best_params_}\")\n",
    "print(f\"Best CV Accuracy: {grid_ridge.best_score_:.4f}\")\n",
    "model_results['Ridge Classifier'] = (grid_ridge.best_score_, grid_ridge.best_params_)\n",
    "\n",
    "# --- Lasso Classifier (implemented via SGDClassifier with L1 penalty) ---\n",
    "param_grid_lasso = {'alpha': [0.0001, 0.001, 0.01]}\n",
    "grid_lasso = GridSearchCV(SGDClassifier(random_state=42, penalty='l1', loss='log_loss'), param_grid_lasso, cv=3, scoring='accuracy', n_jobs=-1)\n",
    "grid_lasso.fit(X_train_reduced, y_train_reduced)\n",
    "print(\"\\n--- Lasso Classifier (SGD L1) ---\")\n",
    "print(f\"Best Parameters: {grid_lasso.best_params_}\")\n",
    "print(f\"Best CV Accuracy: {grid_lasso.best_score_:.4f}\")\n",
    "model_results['Lasso Classifier'] = (grid_lasso.best_score_, grid_lasso.best_params_)\n",
    "\n",
    "# --- Support Vector Machine (SVM) ---\n",
    "param_grid_svc = {'C': [0.1, 1], 'gamma': ['scale', 'auto']}\n",
    "grid_svc = GridSearchCV(SVC(random_state=42, probability=True), param_grid_svc, cv=3, scoring='accuracy', n_jobs=-1)\n",
    "grid_svc.fit(X_train_reduced, y_train_reduced)\n",
    "print(\"\\n--- Support Vector Machine ---\")\n",
    "print(f\"Best Parameters: {grid_svc.best_params_}\")\n",
    "print(f\"Best CV Accuracy: {grid_svc.best_score_:.4f}\")\n",
    "model_results['Support Vector Machine'] = (grid_svc.best_score_, grid_svc.best_params_)\n",
    "\n",
    "# --- Stochastic Gradient Descent (SGD) Classifier ---\n",
    "param_grid_sgd = {'alpha': [0.0001, 0.001], 'penalty': ['l2', 'elasticnet']}\n",
    "grid_sgd = GridSearchCV(SGDClassifier(random_state=42, loss='log_loss'), param_grid_sgd, cv=3, scoring='accuracy', n_jobs=-1)\n",
    "grid_sgd.fit(X_train_reduced, y_train_reduced)\n",
    "print(\"\\n--- SGD Classifier ---\")\n",
    "print(f\"Best Parameters: {grid_sgd.best_params_}\")\n",
    "print(f\"Best CV Accuracy: {grid_sgd.best_score_:.4f}\")\n",
    "model_results['SGD Classifier'] = (grid_sgd.best_score_, grid_sgd.best_params_)"
   ],
   "id": "c7aa0b8997736622",
   "outputs": [
    {
     "name": "stdout",
     "output_type": "stream",
     "text": [
      "--- Logistic Regression ---\n",
      "Best Parameters: {'C': 0.1, 'solver': 'saga'}\n",
      "Best CV Accuracy: 0.7429\n",
      "\n",
      "--- Ridge Classifier ---\n",
      "Best Parameters: {'alpha': 10.0}\n",
      "Best CV Accuracy: 0.7405\n",
      "\n",
      "--- Lasso Classifier (SGD L1) ---\n",
      "Best Parameters: {'alpha': 0.001}\n",
      "Best CV Accuracy: 0.7417\n",
      "\n",
      "--- Support Vector Machine ---\n",
      "Best Parameters: {'C': 1, 'gamma': 'scale'}\n",
      "Best CV Accuracy: 0.8442\n",
      "\n",
      "--- SGD Classifier ---\n",
      "Best Parameters: {'alpha': 0.001, 'penalty': 'l2'}\n",
      "Best CV Accuracy: 0.7399\n"
     ]
    }
   ],
   "execution_count": 5
  },
  {
   "cell_type": "markdown",
   "metadata": {},
   "source": [
    "### **5.2 Tree-Based and Bagging Models**"
   ],
   "id": "b654011aefe88d5c"
  },
  {
   "cell_type": "code",
   "metadata": {
    "ExecuteTime": {
     "end_time": "2025-09-24T13:15:04.879408Z",
     "start_time": "2025-09-24T13:14:33.301857Z"
    }
   },
   "source": [
    "# --- Decision Tree Classifier ---\n",
    "param_grid_dt = {'max_depth': [10, 20, None], 'min_samples_split': [2, 5]}\n",
    "grid_dt = GridSearchCV(DecisionTreeClassifier(random_state=42), param_grid_dt, cv=3, scoring='accuracy', n_jobs=-1)\n",
    "grid_dt.fit(X_train_reduced, y_train_reduced)\n",
    "print(\"--- Decision Tree ---\")\n",
    "print(f\"Best Parameters: {grid_dt.best_params_}\")\n",
    "print(f\"Best CV Accuracy: {grid_dt.best_score_:.4f}\")\n",
    "model_results['Decision Tree'] = (grid_dt.best_score_, grid_dt.best_params_)\n",
    "\n",
    "# --- Bagging Classifier ---\n",
    "param_grid_bag = {'n_estimators': [10, 50]}\n",
    "grid_bag = GridSearchCV(BaggingClassifier(random_state=42), param_grid_bag, cv=3, scoring='accuracy', n_jobs=-1)\n",
    "grid_bag.fit(X_train_reduced, y_train_reduced)\n",
    "print(\"\\n--- Bagging Classifier ---\")\n",
    "print(f\"Best Parameters: {grid_bag.best_params_}\")\n",
    "print(f\"Best CV Accuracy: {grid_bag.best_score_:.4f}\")\n",
    "model_results['Bagging Classifier'] = (grid_bag.best_score_, grid_bag.best_params_)\n",
    "\n",
    "# --- Random Forest Classifier ---\n",
    "param_grid_rf = {'n_estimators': [50, 100], 'max_depth': [10, 20]}\n",
    "grid_rf = GridSearchCV(RandomForestClassifier(random_state=42), param_grid_rf, cv=3, scoring='accuracy', n_jobs=-1)\n",
    "grid_rf.fit(X_train_reduced, y_train_reduced)\n",
    "print(\"\\n--- Random Forest ---\")\n",
    "print(f\"Best Parameters: {grid_rf.best_params_}\")\n",
    "print(f\"Best CV Accuracy: {grid_rf.best_score_:.4f}\")\n",
    "model_results['Random Forest'] = (grid_rf.best_score_, grid_rf.best_params_)\n",
    "\n",
    "# --- Extra Trees Classifier ---\n",
    "param_grid_et = {'n_estimators': [50, 100], 'max_depth': [10, 20]}\n",
    "grid_et = GridSearchCV(ExtraTreesClassifier(random_state=42), param_grid_et, cv=3, scoring='accuracy', n_jobs=-1)\n",
    "grid_et.fit(X_train_reduced, y_train_reduced)\n",
    "print(\"\\n--- Extra Trees ---\")\n",
    "print(f\"Best Parameters: {grid_et.best_params_}\")\n",
    "print(f\"Best CV Accuracy: {grid_et.best_score_:.4f}\")\n",
    "model_results['Extra Trees'] = (grid_et.best_score_, grid_et.best_params_)"
   ],
   "id": "fa2ed96785b8e8b6",
   "outputs": [
    {
     "name": "stdout",
     "output_type": "stream",
     "text": [
      "--- Decision Tree ---\n",
      "Best Parameters: {'max_depth': None, 'min_samples_split': 2}\n",
      "Best CV Accuracy: 0.8366\n",
      "\n",
      "--- Bagging Classifier ---\n",
      "Best Parameters: {'n_estimators': 50}\n",
      "Best CV Accuracy: 0.9203\n",
      "\n",
      "--- Random Forest ---\n",
      "Best Parameters: {'max_depth': 20, 'n_estimators': 100}\n",
      "Best CV Accuracy: 0.9466\n",
      "\n",
      "--- Extra Trees ---\n",
      "Best Parameters: {'max_depth': 20, 'n_estimators': 100}\n",
      "Best CV Accuracy: 0.9607\n"
     ]
    }
   ],
   "execution_count": 6
  },
  {
   "cell_type": "markdown",
   "metadata": {},
   "source": [
    "### **5.3 Boosting Models**"
   ],
   "id": "217a93af92d81dd9"
  },
  {
   "cell_type": "code",
   "metadata": {
    "ExecuteTime": {
     "end_time": "2025-09-24T13:37:13.067687Z",
     "start_time": "2025-09-24T13:36:00.595528Z"
    }
   },
   "source": [
    "# --- AdaBoost Classifier ---\n",
    "param_grid_ada = {'n_estimators': [50, 100], 'learning_rate': [0.1, 1.0]}\n",
    "grid_ada = GridSearchCV(AdaBoostClassifier(random_state=42), param_grid_ada, cv=3, scoring='accuracy', n_jobs=-1)\n",
    "grid_ada.fit(X_train_reduced, y_train_reduced)\n",
    "print(\"--- AdaBoost ---\")\n",
    "print(f\"Best Parameters: {grid_ada.best_params_}\")\n",
    "print(f\"Best CV Accuracy: {grid_ada.best_score_:.4f}\")\n",
    "model_results['AdaBoost'] = (grid_ada.best_score_, grid_ada.best_params_)\n",
    "\n",
    "# --- Gradient Boosting Machine (GBM) ---\n",
    "param_grid_gbm = {'n_estimators': [50, 100], 'learning_rate': [0.05, 0.1]}\n",
    "grid_gbm = GridSearchCV(GradientBoostingClassifier(random_state=42), param_grid_gbm, cv=3, scoring='accuracy', n_jobs=-1)\n",
    "grid_gbm.fit(X_train_reduced, y_train_reduced)\n",
    "print(\"\\n--- Gradient Boosting ---\")\n",
    "print(f\"Best Parameters: {grid_gbm.best_params_}\")\n",
    "print(f\"Best CV Accuracy: {grid_gbm.best_score_:.4f}\")\n",
    "model_results['Gradient Boosting'] = (grid_gbm.best_score_, grid_gbm.best_params_)\n",
    "\n",
    "# --- XGBoost Classifier ---\n",
    "param_grid_xgb = {'n_estimators': [50, 100], 'learning_rate': [0.05, 0.1]}\n",
    "grid_xgb = GridSearchCV(XGBClassifier(random_state=42, use_label_encoder=False, eval_metric='logloss'), param_grid_xgb, cv=3, scoring='accuracy', n_jobs=-1)\n",
    "grid_xgb.fit(X_train_reduced, y_train_reduced)\n",
    "print(\"\\n--- XGBoost ---\")\n",
    "print(f\"Best Parameters: {grid_xgb.best_params_}\")\n",
    "print(f\"Best CV Accuracy: {grid_xgb.best_score_:.4f}\")\n",
    "model_results['XGBoost'] = (grid_xgb.best_score_, grid_xgb.best_params_)\n",
    "\n",
    "# --- LightGBM Classifier ---\n",
    "param_grid_lgbm = {'n_estimators': [50, 100], 'learning_rate': [0.05, 0.1]}\n",
    "grid_lgbm = GridSearchCV(LGBMClassifier(random_state=42), param_grid_lgbm, cv=3, scoring='accuracy', n_jobs=-1)\n",
    "grid_lgbm.fit(X_train_reduced, y_train_reduced)\n",
    "print(\"\\n--- LightGBM ---\")\n",
    "print(f\"Best Parameters: {grid_lgbm.best_params_}\")\n",
    "print(f\"Best CV Accuracy: {grid_lgbm.best_score_:.4f}\")\n",
    "model_results['LightGBM'] = (grid_lgbm.best_score_, grid_lgbm.best_params_)\n",
    "\n",
    "# --- CatBoost Classifier ---\n",
    "param_grid_cat = {'iterations': [50, 100], 'learning_rate': [0.05, 0.1]}\n",
    "grid_cat = GridSearchCV(CatBoostClassifier(random_state=42, verbose=0), param_grid_cat, cv=3, scoring='accuracy', n_jobs=-1)\n",
    "grid_cat.fit(X_train_reduced, y_train_reduced)\n",
    "print(\"\\n--- CatBoost ---\")\n",
    "print(f\"Best Parameters: {grid_cat.best_params_}\")\n",
    "print(f\"Best CV Accuracy: {grid_cat.best_score_:.4f}\")\n",
    "model_results['CatBoost'] = (grid_cat.best_score_, grid_cat.best_params_)\n",
    "\n",
    "# --- RUSBoost Classifier ---\n",
    "param_grid_rus = {'n_estimators': [50, 100], 'learning_rate': [0.1, 1.0]}\n",
    "grid_rus = GridSearchCV(RUSBoostClassifier(random_state=42), param_grid_rus, cv=3, scoring='accuracy', n_jobs=-1)\n",
    "grid_rus.fit(X_train_reduced, y_train_reduced) # RUSBoost is trained on pre-processed data\n",
    "print(\"\\n--- RUSBoost ---\")\n",
    "print(f\"Best Parameters: {grid_rus.best_params_}\")\n",
    "print(f\"Best CV Accuracy: {grid_rus.best_score_:.4f}\")\n",
    "model_results['RUSBoost'] = (grid_rus.best_score_, grid_rus.best_params_)"
   ],
   "id": "787a93f6ce3b9819",
   "outputs": [
    {
     "name": "stdout",
     "output_type": "stream",
     "text": [
      "--- AdaBoost ---\n",
      "Best Parameters: {'learning_rate': 1.0, 'n_estimators': 100}\n",
      "Best CV Accuracy: 0.8995\n",
      "\n",
      "--- Gradient Boosting ---\n",
      "Best Parameters: {'learning_rate': 0.1, 'n_estimators': 100}\n",
      "Best CV Accuracy: 0.9370\n",
      "\n",
      "--- XGBoost ---\n",
      "Best Parameters: {'learning_rate': 0.1, 'n_estimators': 100}\n",
      "Best CV Accuracy: 0.9474\n",
      "[LightGBM] [Info] Number of positive: 4720, number of negative: 4721\n",
      "[LightGBM] [Info] Auto-choosing row-wise multi-threading, the overhead of testing was 0.001077 seconds.\n",
      "You can set `force_row_wise=true` to remove the overhead.\n",
      "And if memory is not enough, you can set `force_col_wise=true`.\n",
      "[LightGBM] [Info] Total Bins 6120\n",
      "[LightGBM] [Info] Number of data points in the train set: 9441, number of used features: 24\n",
      "[LightGBM] [Info] [binary:BoostFromScore]: pavg=0.499947 -> initscore=-0.000212\n",
      "[LightGBM] [Info] Start training from score -0.000212\n",
      "\n",
      "--- LightGBM ---\n",
      "Best Parameters: {'learning_rate': 0.1, 'n_estimators': 100}\n",
      "Best CV Accuracy: 0.9528\n",
      "\n",
      "--- CatBoost ---\n",
      "Best Parameters: {'iterations': 100, 'learning_rate': 0.1}\n",
      "Best CV Accuracy: 0.9422\n",
      "\n",
      "--- RUSBoost ---\n",
      "Best Parameters: {'learning_rate': 1.0, 'n_estimators': 100}\n",
      "Best CV Accuracy: 0.8982\n"
     ]
    }
   ],
   "execution_count": 8
  },
  {
   "cell_type": "markdown",
   "metadata": {},
   "source": [
    "### **5.4 Probabilistic, Instance-Based, and Other Models**"
   ],
   "id": "c2ca8f951939ee89"
  },
  {
   "cell_type": "code",
   "metadata": {
    "ExecuteTime": {
     "end_time": "2025-09-24T13:38:24.828852Z",
     "start_time": "2025-09-24T13:37:13.123003Z"
    }
   },
   "source": [
    "# --- Gaussian Naive Bayes ---\n",
    "param_grid_gnb = {}\n",
    "grid_gnb = GridSearchCV(GaussianNB(), param_grid_gnb, cv=3, scoring='accuracy', n_jobs=-1)\n",
    "grid_gnb.fit(X_train_reduced, y_train_reduced)\n",
    "print(\"--- Gaussian Naive Bayes ---\")\n",
    "print(f\"Best Parameters: {grid_gnb.best_params_}\")\n",
    "print(f\"Best CV Accuracy: {grid_gnb.best_score_:.4f}\")\n",
    "model_results['Gaussian NB'] = (grid_gnb.best_score_, grid_gnb.best_params_)\n",
    "\n",
    "# --- Bernoulli Naive Bayes ---\n",
    "param_grid_bnb = {'alpha': [0.1, 0.5, 1.0]}\n",
    "grid_bnb = GridSearchCV(BernoulliNB(), param_grid_bnb, cv=3, scoring='accuracy', n_jobs=-1)\n",
    "grid_bnb.fit(X_train_reduced, y_train_reduced)\n",
    "print(\"\\n--- Bernoulli Naive Bayes ---\")\n",
    "print(f\"Best Parameters: {grid_bnb.best_params_}\")\n",
    "print(f\"Best CV Accuracy: {grid_bnb.best_score_:.4f}\")\n",
    "model_results['Bernoulli NB'] = (grid_bnb.best_score_, grid_bnb.best_params_)\n",
    "\n",
    "# --- K-Nearest Neighbors (KNN) ---\n",
    "param_grid_knn = {'n_neighbors': [3, 5, 7]}\n",
    "grid_knn = GridSearchCV(KNeighborsClassifier(), param_grid_knn, cv=3, scoring='accuracy', n_jobs=-1)\n",
    "grid_knn.fit(X_train_reduced, y_train_reduced)\n",
    "print(\"\\n--- K-Nearest Neighbors ---\")\n",
    "print(f\"Best Parameters: {grid_knn.best_params_}\")\n",
    "print(f\"Best CV Accuracy: {grid_knn.best_score_:.4f}\")\n",
    "model_results['K-Nearest Neighbors'] = (grid_knn.best_score_, grid_knn.best_params_)\n",
    "\n",
    "# --- Linear Discriminant Analysis (LDA) ---\n",
    "param_grid_lda = {'solver': ['svd', 'lsqr']}\n",
    "grid_lda = GridSearchCV(LinearDiscriminantAnalysis(), param_grid_lda, cv=3, scoring='accuracy', n_jobs=-1)\n",
    "grid_lda.fit(X_train_reduced, y_train_reduced)\n",
    "print(\"\\n--- Linear Discriminant Analysis ---\")\n",
    "print(f\"Best Parameters: {grid_lda.best_params_}\")\n",
    "print(f\"Best CV Accuracy: {grid_lda.best_score_:.4f}\")\n",
    "model_results['LDA'] = (grid_lda.best_score_, grid_lda.best_params_)\n",
    "\n",
    "# --- Quadratic Discriminant Analysis (QDA) ---\n",
    "param_grid_qda = {'reg_param': [0.0, 0.1, 0.5]}\n",
    "grid_qda = GridSearchCV(QuadraticDiscriminantAnalysis(), param_grid_qda, cv=3, scoring='accuracy', n_jobs=-1)\n",
    "grid_qda.fit(X_train_reduced, y_train_reduced)\n",
    "print(\"\\n--- Quadratic Discriminant Analysis ---\")\n",
    "print(f\"Best Parameters: {grid_qda.best_params_}\")\n",
    "print(f\"Best CV Accuracy: {grid_qda.best_score_:.4f}\")\n",
    "model_results['QDA'] = (grid_qda.best_score_, grid_qda.best_params_)\n",
    "\n",
    "# --- Multi-Layer Perceptron (MLP) ---\n",
    "param_grid_mlp = {'hidden_layer_sizes': [(50,), (100,)], 'alpha': [0.0001, 0.001]}\n",
    "grid_mlp = GridSearchCV(MLPClassifier(random_state=42, max_iter=500), param_grid_mlp, cv=3, scoring='accuracy', n_jobs=-1)\n",
    "grid_mlp.fit(X_train_reduced, y_train_reduced)\n",
    "print(\"\\n--- Multi-Layer Perceptron ---\")\n",
    "print(f\"Best Parameters: {grid_mlp.best_params_}\")\n",
    "print(f\"Best CV Accuracy: {grid_mlp.best_score_:.4f}\")\n",
    "model_results['MLP Classifier'] = (grid_mlp.best_score_, grid_mlp.best_params_)"
   ],
   "id": "ec3bd8ecac7e8e5e",
   "outputs": [
    {
     "name": "stdout",
     "output_type": "stream",
     "text": [
      "--- Gaussian Naive Bayes ---\n",
      "Best Parameters: {}\n",
      "Best CV Accuracy: 0.7475\n",
      "\n",
      "--- Bernoulli Naive Bayes ---\n",
      "Best Parameters: {'alpha': 0.1}\n",
      "Best CV Accuracy: 0.7881\n",
      "\n",
      "--- K-Nearest Neighbors ---\n",
      "Best Parameters: {'n_neighbors': 3}\n",
      "Best CV Accuracy: 0.8120\n",
      "\n",
      "--- Linear Discriminant Analysis ---\n",
      "Best Parameters: {'solver': 'svd'}\n",
      "Best CV Accuracy: 0.7404\n",
      "\n",
      "--- Quadratic Discriminant Analysis ---\n",
      "Best Parameters: {'reg_param': 0.1}\n",
      "Best CV Accuracy: 0.7555\n",
      "\n",
      "--- Multi-Layer Perceptron ---\n",
      "Best Parameters: {'alpha': 0.001, 'hidden_layer_sizes': (100,)}\n",
      "Best CV Accuracy: 0.9094\n"
     ]
    }
   ],
   "execution_count": 9
  },
  {
   "cell_type": "markdown",
   "metadata": {},
   "source": [
    "## **6. Model Comparison**\n",
    "\n",
    "**Metadata Comment:** We compile the tuning results into a table, sorted by accuracy, to clearly identify the best-performing model."
   ],
   "id": "19b59434c45d76f5"
  },
  {
   "cell_type": "code",
   "metadata": {
    "ExecuteTime": {
     "end_time": "2025-09-24T13:38:24.944399Z",
     "start_time": "2025-09-24T13:38:24.917761Z"
    }
   },
   "source": [
    "results_data = []\n",
    "for model, (acc, params) in model_results.items():\n",
    "    results_data.append({'Model': model, 'CV_Accuracy': acc, 'Best_Parameters': params})\n",
    "\n",
    "results_df = pd.DataFrame(results_data)\n",
    "results_df_sorted = results_df.sort_values('CV_Accuracy', ascending=True).reset_index(drop=True)\n",
    "\n",
    "print(\"--- Model Comparison (Sorted by Accuracy on 1% Sample) ---\")\n",
    "display(results_df_sorted)\n",
    "\n",
    "best_model_row = results_df_sorted.iloc[-1]\n",
    "best_model_name = best_model_row['Model']\n",
    "best_model_params = best_model_row['Best_Parameters']\n",
    "print(f\"\\n🏆 Best performing model during tuning: **{best_model_name}**\")"
   ],
   "id": "53699b21b3d71ad8",
   "outputs": [
    {
     "name": "stdout",
     "output_type": "stream",
     "text": [
      "--- Model Comparison (Sorted by Accuracy on 1% Sample) ---\n"
     ]
    },
    {
     "data": {
      "text/plain": [
       "                     Model  CV_Accuracy  \\\n",
       "0           SGD Classifier     0.739858   \n",
       "1                      LDA     0.740388   \n",
       "2         Ridge Classifier     0.740494   \n",
       "3         Lasso Classifier     0.741659   \n",
       "4      Logistic Regression     0.742930   \n",
       "5              Gaussian NB     0.747484   \n",
       "6                      QDA     0.755534   \n",
       "7             Bernoulli NB     0.788052   \n",
       "8      K-Nearest Neighbors     0.811990   \n",
       "9            Decision Tree     0.836564   \n",
       "10  Support Vector Machine     0.844190   \n",
       "11                RUSBoost     0.898210   \n",
       "12                AdaBoost     0.899481   \n",
       "13          MLP Classifier     0.909438   \n",
       "14      Bagging Classifier     0.920347   \n",
       "15       Gradient Boosting     0.936977   \n",
       "16                CatBoost     0.942167   \n",
       "17           Random Forest     0.946616   \n",
       "18                 XGBoost     0.947357   \n",
       "19                LightGBM     0.952759   \n",
       "20             Extra Trees     0.960703   \n",
       "\n",
       "                                   Best_Parameters  \n",
       "0                {'alpha': 0.001, 'penalty': 'l2'}  \n",
       "1                                {'solver': 'svd'}  \n",
       "2                                  {'alpha': 10.0}  \n",
       "3                                 {'alpha': 0.001}  \n",
       "4                     {'C': 0.1, 'solver': 'saga'}  \n",
       "5                                               {}  \n",
       "6                               {'reg_param': 0.1}  \n",
       "7                                   {'alpha': 0.1}  \n",
       "8                               {'n_neighbors': 3}  \n",
       "9      {'max_depth': None, 'min_samples_split': 2}  \n",
       "10                      {'C': 1, 'gamma': 'scale'}  \n",
       "11     {'learning_rate': 1.0, 'n_estimators': 100}  \n",
       "12     {'learning_rate': 1.0, 'n_estimators': 100}  \n",
       "13  {'alpha': 0.001, 'hidden_layer_sizes': (100,)}  \n",
       "14                            {'n_estimators': 50}  \n",
       "15     {'learning_rate': 0.1, 'n_estimators': 100}  \n",
       "16       {'iterations': 100, 'learning_rate': 0.1}  \n",
       "17          {'max_depth': 20, 'n_estimators': 100}  \n",
       "18     {'learning_rate': 0.1, 'n_estimators': 100}  \n",
       "19     {'learning_rate': 0.1, 'n_estimators': 100}  \n",
       "20          {'max_depth': 20, 'n_estimators': 100}  "
      ],
      "text/html": [
       "<div>\n",
       "<style scoped>\n",
       "    .dataframe tbody tr th:only-of-type {\n",
       "        vertical-align: middle;\n",
       "    }\n",
       "\n",
       "    .dataframe tbody tr th {\n",
       "        vertical-align: top;\n",
       "    }\n",
       "\n",
       "    .dataframe thead th {\n",
       "        text-align: right;\n",
       "    }\n",
       "</style>\n",
       "<table border=\"1\" class=\"dataframe\">\n",
       "  <thead>\n",
       "    <tr style=\"text-align: right;\">\n",
       "      <th></th>\n",
       "      <th>Model</th>\n",
       "      <th>CV_Accuracy</th>\n",
       "      <th>Best_Parameters</th>\n",
       "    </tr>\n",
       "  </thead>\n",
       "  <tbody>\n",
       "    <tr>\n",
       "      <th>0</th>\n",
       "      <td>SGD Classifier</td>\n",
       "      <td>0.739858</td>\n",
       "      <td>{'alpha': 0.001, 'penalty': 'l2'}</td>\n",
       "    </tr>\n",
       "    <tr>\n",
       "      <th>1</th>\n",
       "      <td>LDA</td>\n",
       "      <td>0.740388</td>\n",
       "      <td>{'solver': 'svd'}</td>\n",
       "    </tr>\n",
       "    <tr>\n",
       "      <th>2</th>\n",
       "      <td>Ridge Classifier</td>\n",
       "      <td>0.740494</td>\n",
       "      <td>{'alpha': 10.0}</td>\n",
       "    </tr>\n",
       "    <tr>\n",
       "      <th>3</th>\n",
       "      <td>Lasso Classifier</td>\n",
       "      <td>0.741659</td>\n",
       "      <td>{'alpha': 0.001}</td>\n",
       "    </tr>\n",
       "    <tr>\n",
       "      <th>4</th>\n",
       "      <td>Logistic Regression</td>\n",
       "      <td>0.742930</td>\n",
       "      <td>{'C': 0.1, 'solver': 'saga'}</td>\n",
       "    </tr>\n",
       "    <tr>\n",
       "      <th>5</th>\n",
       "      <td>Gaussian NB</td>\n",
       "      <td>0.747484</td>\n",
       "      <td>{}</td>\n",
       "    </tr>\n",
       "    <tr>\n",
       "      <th>6</th>\n",
       "      <td>QDA</td>\n",
       "      <td>0.755534</td>\n",
       "      <td>{'reg_param': 0.1}</td>\n",
       "    </tr>\n",
       "    <tr>\n",
       "      <th>7</th>\n",
       "      <td>Bernoulli NB</td>\n",
       "      <td>0.788052</td>\n",
       "      <td>{'alpha': 0.1}</td>\n",
       "    </tr>\n",
       "    <tr>\n",
       "      <th>8</th>\n",
       "      <td>K-Nearest Neighbors</td>\n",
       "      <td>0.811990</td>\n",
       "      <td>{'n_neighbors': 3}</td>\n",
       "    </tr>\n",
       "    <tr>\n",
       "      <th>9</th>\n",
       "      <td>Decision Tree</td>\n",
       "      <td>0.836564</td>\n",
       "      <td>{'max_depth': None, 'min_samples_split': 2}</td>\n",
       "    </tr>\n",
       "    <tr>\n",
       "      <th>10</th>\n",
       "      <td>Support Vector Machine</td>\n",
       "      <td>0.844190</td>\n",
       "      <td>{'C': 1, 'gamma': 'scale'}</td>\n",
       "    </tr>\n",
       "    <tr>\n",
       "      <th>11</th>\n",
       "      <td>RUSBoost</td>\n",
       "      <td>0.898210</td>\n",
       "      <td>{'learning_rate': 1.0, 'n_estimators': 100}</td>\n",
       "    </tr>\n",
       "    <tr>\n",
       "      <th>12</th>\n",
       "      <td>AdaBoost</td>\n",
       "      <td>0.899481</td>\n",
       "      <td>{'learning_rate': 1.0, 'n_estimators': 100}</td>\n",
       "    </tr>\n",
       "    <tr>\n",
       "      <th>13</th>\n",
       "      <td>MLP Classifier</td>\n",
       "      <td>0.909438</td>\n",
       "      <td>{'alpha': 0.001, 'hidden_layer_sizes': (100,)}</td>\n",
       "    </tr>\n",
       "    <tr>\n",
       "      <th>14</th>\n",
       "      <td>Bagging Classifier</td>\n",
       "      <td>0.920347</td>\n",
       "      <td>{'n_estimators': 50}</td>\n",
       "    </tr>\n",
       "    <tr>\n",
       "      <th>15</th>\n",
       "      <td>Gradient Boosting</td>\n",
       "      <td>0.936977</td>\n",
       "      <td>{'learning_rate': 0.1, 'n_estimators': 100}</td>\n",
       "    </tr>\n",
       "    <tr>\n",
       "      <th>16</th>\n",
       "      <td>CatBoost</td>\n",
       "      <td>0.942167</td>\n",
       "      <td>{'iterations': 100, 'learning_rate': 0.1}</td>\n",
       "    </tr>\n",
       "    <tr>\n",
       "      <th>17</th>\n",
       "      <td>Random Forest</td>\n",
       "      <td>0.946616</td>\n",
       "      <td>{'max_depth': 20, 'n_estimators': 100}</td>\n",
       "    </tr>\n",
       "    <tr>\n",
       "      <th>18</th>\n",
       "      <td>XGBoost</td>\n",
       "      <td>0.947357</td>\n",
       "      <td>{'learning_rate': 0.1, 'n_estimators': 100}</td>\n",
       "    </tr>\n",
       "    <tr>\n",
       "      <th>19</th>\n",
       "      <td>LightGBM</td>\n",
       "      <td>0.952759</td>\n",
       "      <td>{'learning_rate': 0.1, 'n_estimators': 100}</td>\n",
       "    </tr>\n",
       "    <tr>\n",
       "      <th>20</th>\n",
       "      <td>Extra Trees</td>\n",
       "      <td>0.960703</td>\n",
       "      <td>{'max_depth': 20, 'n_estimators': 100}</td>\n",
       "    </tr>\n",
       "  </tbody>\n",
       "</table>\n",
       "</div>"
      ]
     },
     "metadata": {},
     "output_type": "display_data",
     "jetTransient": {
      "display_id": null
     }
    },
    {
     "name": "stdout",
     "output_type": "stream",
     "text": [
      "\n",
      "🏆 Best performing model during tuning: **Extra Trees**\n"
     ]
    }
   ],
   "execution_count": 10
  },
  {
   "cell_type": "markdown",
   "metadata": {},
   "source": [
    "## **7. Final Model Training**\n",
    "\n",
    "**Metadata Comment:** We now train the winning model on the **entire training dataset** (the full 85% of the balanced set) using its optimal hyperparameters to maximize performance."
   ],
   "id": "52af8c31ff864c84"
  },
  {
   "cell_type": "code",
   "metadata": {
    "ExecuteTime": {
     "end_time": "2025-09-24T13:38:26.216282Z",
     "start_time": "2025-09-24T13:38:25.065058Z"
    }
   },
   "source": [
    "# In-script Comment: Dynamically select the best model based on the results dataframe\n",
    "model_map = {\n",
    "    'Logistic Regression': LogisticRegression(random_state=42, max_iter=1000),\n",
    "    'Ridge Classifier': RidgeClassifier(random_state=42),\n",
    "    'Lasso Classifier': SGDClassifier(random_state=42, penalty='l1', loss='log_loss'),\n",
    "    'Support Vector Machine': SVC(random_state=42, probability=True),\n",
    "    'SGD Classifier': SGDClassifier(random_state=42, loss='log_loss'),\n",
    "    'Decision Tree': DecisionTreeClassifier(random_state=42),\n",
    "    'Bagging Classifier': BaggingClassifier(random_state=42),\n",
    "    'Random Forest': RandomForestClassifier(random_state=42),\n",
    "    'Extra Trees': ExtraTreesClassifier(random_state=42),\n",
    "    'AdaBoost': AdaBoostClassifier(random_state=42),\n",
    "    'Gradient Boosting': GradientBoostingClassifier(random_state=42),\n",
    "    'XGBoost': XGBClassifier(random_state=42, use_label_encoder=False, eval_metric='logloss'),\n",
    "    'LightGBM': LGBMClassifier(random_state=42),\n",
    "    'CatBoost': CatBoostClassifier(random_state=42, verbose=0),\n",
    "    'Gaussian NB': GaussianNB(),\n",
    "    'Bernoulli NB': BernoulliNB(),\n",
    "    'K-Nearest Neighbors': KNeighborsClassifier(),\n",
    "    'LDA': LinearDiscriminantAnalysis(),\n",
    "    'QDA': QuadraticDiscriminantAnalysis(),\n",
    "    'MLP Classifier': MLPClassifier(random_state=42, max_iter=500),\n",
    "    'RUSBoost': RUSBoostClassifier(random_state=42)\n",
    "}\n",
    "\n",
    "final_model_instance = model_map[best_model_name]\n",
    "final_model_instance.set_params(**best_model_params)\n",
    "\n",
    "print(f\"Training final **{best_model_name}** model with parameters: {best_model_params}\")\n",
    "\n",
    "# In-script Comment: The final model is trained on the full, pre-processed training data\n",
    "final_model_instance.fit(X_train, y_train)\n",
    "\n",
    "print(\"\\n✅ Final model has been successfully trained on the full training dataset.\")"
   ],
   "id": "f589190ead1dfcee",
   "outputs": [
    {
     "name": "stdout",
     "output_type": "stream",
     "text": [
      "Training final **Extra Trees** model with parameters: {'max_depth': 20, 'n_estimators': 100}\n",
      "\n",
      "✅ Final model has been successfully trained on the full training dataset.\n"
     ]
    }
   ],
   "execution_count": 11
  },
  {
   "cell_type": "markdown",
   "metadata": {},
   "source": [
    "## **8. Save the Final Model and Preprocessor**\n",
    "\n",
    "**Metadata Comment:** We serialize the fully trained model and the preprocessor object to files for deployment. Saving them separately allows for more flexibility in production."
   ],
   "id": "68181d112c6de2b4"
  },
  {
   "cell_type": "code",
   "metadata": {
    "ExecuteTime": {
     "end_time": "2025-09-24T13:38:26.388490Z",
     "start_time": "2025-09-24T13:38:26.282791Z"
    }
   },
   "source": [
    "model_filename = 'final_conversion_model.pkl'\n",
    "preprocessor_filename = 'preprocessor.pkl'\n",
    "\n",
    "joblib.dump(final_model_instance, model_filename)\n",
    "joblib.dump(preprocessor, preprocessor_filename)\n",
    "\n",
    "print(f\"💾 Final model saved to '{model_filename}'\")\n",
    "print(f\"💾 Preprocessor saved to '{preprocessor_filename}'\")"
   ],
   "id": "2bcf553e2774d672",
   "outputs": [
    {
     "name": "stdout",
     "output_type": "stream",
     "text": [
      "💾 Final model saved to 'final_conversion_model.pkl'\n",
      "💾 Preprocessor saved to 'preprocessor.pkl'\n"
     ]
    }
   ],
   "execution_count": 12
  },
  {
   "cell_type": "markdown",
   "metadata": {},
   "source": [
    "## **9. Final Model Evaluation on Test Set**\n",
    "\n",
    "**Metadata Comment:** We now evaluate the final model's performance on the completely unseen test set to get an unbiased estimate of its real-world performance."
   ],
   "id": "34b260e2d0686e3d"
  },
  {
   "cell_type": "code",
   "metadata": {
    "ExecuteTime": {
     "end_time": "2025-09-24T14:20:14.831411Z",
     "start_time": "2025-09-24T14:20:13.059405Z"
    }
   },
   "source": [
    "loaded_model = joblib.load(model_filename)\n",
    "loaded_preprocessor = joblib.load(preprocessor_filename)\n",
    "\n",
    "# Preprocess the test data before making predictions\n",
    "#X_test_processed = loaded_preprocessor.transform(X_test)\n",
    "y_pred_test = loaded_model.predict(X_test)\n",
    "\n",
    "if hasattr(loaded_model, \"predict_proba\"):\n",
    "    y_proba_test = loaded_model.predict_proba(X_test)[:, 1]\n",
    "else:\n",
    "    y_proba_test = None\n",
    "\n",
    "print(\"--- Final Performance on Unseen Test Data ---\")\n",
    "print(classification_report(y_test, y_pred_test, digits=4))\n",
    "\n",
    "cm = confusion_matrix(y_test, y_pred_test)\n",
    "sns.heatmap(cm, annot=True, fmt='d', cmap='Greens',\n",
    "            xticklabels=['No Conversion', 'Conversion'],\n",
    "            yticklabels=['No Conversion', 'Conversion'])\n",
    "plt.title('Final Confusion Matrix on Test Set', fontsize=16)\n",
    "plt.ylabel('Actual Class')\n",
    "plt.xlabel('Predicted Class')\n",
    "plt.show()\n",
    "\n",
    "if y_proba_test is not None:\n",
    "    fpr, tpr, _ = roc_curve(y_test, y_proba_test)\n",
    "    auc_score = roc_auc_score(y_test, y_proba_test)\n",
    "    \n",
    "    plt.figure(figsize=(8, 6))\n",
    "    plt.plot(fpr, tpr, color='darkorange', lw=2, label=f'ROC curve (AUC = {auc_score:.4f})')\n",
    "    plt.plot([0, 1], [0, 1], color='navy', lw=2, linestyle='--')\n",
    "    plt.title('Receiver Operating Characteristic (ROC) Curve', fontsize=16)\n",
    "    plt.legend(loc=\"lower right\")\n",
    "    plt.show()\n",
    "else:\n",
    "    print(\"ROC Curve not available for this model type.\")"
   ],
   "id": "e10b720314c93a06",
   "outputs": [
    {
     "name": "stdout",
     "output_type": "stream",
     "text": [
      "--- Final Performance on Unseen Test Data ---\n",
      "              precision    recall  f1-score   support\n",
      "\n",
      "           0     0.9933    0.9572    0.9750      1403\n",
      "           1     0.9587    0.9936    0.9758      1402\n",
      "\n",
      "    accuracy                         0.9754      2805\n",
      "   macro avg     0.9760    0.9754    0.9754      2805\n",
      "weighted avg     0.9760    0.9754    0.9754      2805\n",
      "\n"
     ]
    },
    {
     "data": {
      "text/plain": [
       "<Figure size 640x480 with 2 Axes>"
      ],
      "image/png": "[encoded data removed]"
     },
     "metadata": {},
     "output_type": "display_data",
     "jetTransient": {
      "display_id": null
     }
    },
    {
     "data": {
      "text/plain": [
       "<Figure size 800x600 with 1 Axes>"
      ],
      "image/png": "[encoded data removed]"
     },
     "metadata": {},
     "output_type": "display_data",
     "jetTransient": {
      "display_id": null
     }
    }
   ],
   "execution_count": 15
  },
  {
   "cell_type": "markdown",
   "metadata": {},
   "source": [
    "<div style=\"background-color: #e6f7ff; border-left: 6px solid #1890ff; padding: 15px; font-size: 120%; text-align: center;\">\n",
    "<strong>🎯 If you need more information or want to explore the code, feel free to visit the project repository on <a href=\\\"https://github.com/sanyam-sanjay-sharma/marketing-conversion-prediction\\\">GitHub</a> 🎯</strong>\n",
    "</div>"
   ],
   "id": "ef8673b27175d8e1"
  },
  {
   "cell_type": "markdown",
   "metadata": {},
   "source": [
    "<h2 align=\"left\"><font color='green'>Best Regards!</font></h2>"
   ],
   "id": "30328ec609afe710"
  },
  {
   "metadata": {},
   "cell_type": "code",
   "outputs": [],
   "execution_count": null,
   "source": "",
   "id": "f5752dc740890f7e"
  }
 ],
 "metadata": {
  "kernelspec": {
   "display_name": "Python 3 (ipykernel)",
   "language": "python",
   "name": "python3"
  },
  "language_info": {
   "codemirror_mode": {
    "name": "ipython",
    "version": 3
   },
   "file_extension": ".py",
   "mimetype": "text/x-python",
   "name": "python",
   "nbconvert_exporter": "python",
   "pygments_lexer": "ipython3",
   "version": "3.9.12"
  }
 },
 "nbformat": 4,
 "nbformat_minor": 5
}
