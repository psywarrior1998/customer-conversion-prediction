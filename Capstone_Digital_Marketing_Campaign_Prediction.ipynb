{
 "cells": [
  {
   "cell_type": "markdown",
   "id": "intro",
   "metadata": {},
   "source": [
    "# <p style=\"background-color:#003366; font-family:calibri; color:white; font-size:150%; text-align:center; border-radius:15px 50px;\">Capstone Project: Digital Marketing Campaign Conversion Prediction</p>\n",
    "\n",
    "### **Project Overview**\n",
    "This project aims to enhance campaign effectiveness in the digital marketing sector by accurately predicting customer conversions. By leveraging a comprehensive suite of machine learning techniques—from classical models to state-of-the-art deep learning architectures—the project seeks to identify potential converters and optimize marketing strategies. The objective is to develop a robust, highly accurate, and interpretable machine learning pipeline that maximizes return on advertising spend (ROAS).\n",
    "\n",
    "### **Methodology**\n",
    "1. **Exploratory Data Analysis (EDA):** Understand data distributions and correlations.\n",
    "2. **Outlier Detection & Removal:** Use Isolation Forest to clean the training data from anomalies.\n",
    "3. **Feature Engineering:** Create new predictive features to enhance model signals.\n",
    "4. **Recursive Feature Elimination (RFE):** Select the most impactful subset of features for modeling.\n",
    "5. **Exhaustive Broad Model Search:** Train and evaluate over 19 classical ML models to establish a strong performance baseline.\n",
    "6. **Advanced Deep Learning:** Implement and evaluate sophisticated Keras architectures (Wide & Deep, Self-Attention, Autoencoder Features).\n",
    "7. **Truly Universal Hyperparameter Tuning:** Apply Bayesian optimization (Optuna) to any empirically-determined top-performing model, regardless of its type (classical or deep learning).\n",
    "8. **Dynamic Ensemble Creation:** Build a Stacking Classifier from the tuned champion models for peak performance.\n",
    "9. **Threshold Optimization:** Tune the final decision threshold to maximize the F1-score.\n",
    "10. **Evaluation & Universal Interpretability:** Analyze the final model with business-centric metrics and explain its predictions using a combined SHAP analysis that is compatible with any model type."
   ]
  },
  {
   "cell_type": "markdown",
   "id": "imports_header",
   "metadata": {},
   "source": [
    "## 1. Library Imports"
   ]
  },
  {
   "cell_type": "code",
   "id": "imports_code",
   "metadata": {
    "ExecuteTime": {
     "end_time": "2025-09-28T05:25:22.786146Z",
     "start_time": "2025-09-28T05:25:06.475535Z"
    }
   },
   "source": [
    "# Core Libraries\n",
    "import pandas as pd\n",
    "import numpy as np\n",
    "import warnings\n",
    "import time\n",
    "\n",
    "# Visualization\n",
    "import seaborn as sns\n",
    "import matplotlib.pyplot as plt\n",
    "sns.set_style(\"whitegrid\")\n",
    "\n",
    "# Preprocessing & Feature Engineering\n",
    "from sklearn.model_selection import train_test_split, StratifiedKFold, cross_val_score\n",
    "from sklearn.preprocessing import StandardScaler, OneHotEncoder, PolynomialFeatures, QuantileTransformer, KBinsDiscretizer\n",
    "from sklearn.compose import ColumnTransformer\n",
    "from sklearn.pipeline import Pipeline\n",
    "from imblearn.pipeline import Pipeline as ImbPipeline\n",
    "from imblearn.combine import SMOTEENN\n",
    "from category_encoders import TargetEncoder\n",
    "from sklearn.feature_selection import RFE\n",
    "\n",
    "# Model Evaluation\n",
    "from sklearn.model_selection import GridSearchCV\n",
    "from sklearn.metrics import classification_report, confusion_matrix, accuracy_score, roc_auc_score, precision_recall_curve, f1_score, PrecisionRecallDisplay, RocCurveDisplay\n",
    "\n",
    "# Machine Learning Models\n",
    "from sklearn.linear_model import LogisticRegression, RidgeClassifier, SGDClassifier\n",
    "from sklearn.svm import SVC\n",
    "from sklearn.tree import DecisionTreeClassifier\n",
    "from sklearn.ensemble import RandomForestClassifier, ExtraTreesClassifier, BaggingClassifier, GradientBoostingClassifier, AdaBoostClassifier, StackingClassifier, IsolationForest\n",
    "from xgboost import XGBClassifier\n",
    "from lightgbm import LGBMClassifier\n",
    "from catboost import CatBoostClassifier\n",
    "from sklearn.naive_bayes import GaussianNB\n",
    "from sklearn.neighbors import KNeighborsClassifier\n",
    "from sklearn.discriminant_analysis import LinearDiscriminantAnalysis, QuadraticDiscriminantAnalysis\n",
    "from sklearn.neural_network import MLPClassifier\n",
    "\n",
    "# Deep Learning with Keras\n",
    "import tensorflow as tf\n",
    "from tensorflow.keras.models import Sequential, Model\n",
    "from tensorflow.keras.layers import Dense, Dropout, Input, Embedding, Concatenate, Flatten, Add, Attention, MultiHeadAttention\n",
    "from tensorflow.keras.callbacks import EarlyStopping\n",
    "from tensorflow.keras.optimizers import Adam\n",
    "from sklearn.base import BaseEstimator, ClassifierMixin\n",
    "\n",
    "# Hyperparameter Tuning\n",
    "import optuna\n",
    "\n",
    "# Interpretability\n",
    "import shap\n",
    "\n",
    "# Model Persistence\n",
    "import joblib\n",
    "\n",
    "# Configuration\n",
    "warnings.filterwarnings('ignore')\n",
    "optuna.logging.set_verbosity(optuna.logging.WARNING)\n",
    "print(\"✅ Libraries imported successfully.\")"
   ],
   "outputs": [
    {
     "name": "stdout",
     "output_type": "stream",
     "text": [
      "✅ Libraries imported successfully.\n"
     ]
    }
   ],
   "execution_count": 1
  },
  {
   "cell_type": "markdown",
   "id": "loading_header",
   "metadata": {},
   "source": [
    "## 2. Data Loading and Initial Cleaning"
   ]
  },
  {
   "cell_type": "code",
   "id": "loading_code",
   "metadata": {
    "ExecuteTime": {
     "end_time": "2025-09-28T05:25:22.887929Z",
     "start_time": "2025-09-28T05:25:22.826923Z"
    }
   },
   "source": [
    "df = pd.read_csv('digital_marketing_campaign_dataset.csv')\n",
    "useless_columns = ['CustomerID', 'AdvertisingPlatform', 'AdvertisingTool']\n",
    "df.drop(columns=useless_columns, inplace=True)\n",
    "print(\"--- Data Head After Initial Load ---\")\n",
    "display(df.head())"
   ],
   "outputs": [
    {
     "name": "stdout",
     "output_type": "stream",
     "text": [
      "--- Data Head After Initial Load ---\n"
     ]
    },
    {
     "data": {
      "text/plain": [
       "   Age  Gender  Income CampaignChannel CampaignType      AdSpend  \\\n",
       "0   56  Female  136912    Social Media    Awareness  6497.870068   \n",
       "1   69    Male   41760           Email    Retention  3898.668606   \n",
       "2   46  Female   88456             PPC    Awareness  1546.429596   \n",
       "3   32  Female   44085             PPC   Conversion   539.525936   \n",
       "4   60  Female   83964             PPC   Conversion  1678.043573   \n",
       "\n",
       "   ClickThroughRate  ConversionRate  WebsiteVisits  PagesPerVisit  TimeOnSite  \\\n",
       "0          0.043919        0.088031              0       2.399017    7.396803   \n",
       "1          0.155725        0.182725             42       2.917138    5.352549   \n",
       "2          0.277490        0.076423              2       8.223619   13.794901   \n",
       "3          0.137611        0.088004             47       4.540939   14.688363   \n",
       "4          0.252851        0.109940              0       2.046847   13.993370   \n",
       "\n",
       "   SocialShares  EmailOpens  EmailClicks  PreviousPurchases  LoyaltyPoints  \\\n",
       "0            19           6            9                  4            688   \n",
       "1             5           2            7                  2           3459   \n",
       "2             0          11            2                  8           2337   \n",
       "3            89           2            2                  0           2463   \n",
       "4             6           6            6                  8           4345   \n",
       "\n",
       "   Conversion  \n",
       "0           1  \n",
       "1           1  \n",
       "2           1  \n",
       "3           1  \n",
       "4           1  "
      ],
      "text/html": [
       "<div>\n",
       "<style scoped>\n",
       "    .dataframe tbody tr th:only-of-type {\n",
       "        vertical-align: middle;\n",
       "    }\n",
       "\n",
       "    .dataframe tbody tr th {\n",
       "        vertical-align: top;\n",
       "    }\n",
       "\n",
       "    .dataframe thead th {\n",
       "        text-align: right;\n",
       "    }\n",
       "</style>\n",
       "<table border=\"1\" class=\"dataframe\">\n",
       "  <thead>\n",
       "    <tr style=\"text-align: right;\">\n",
       "      <th></th>\n",
       "      <th>Age</th>\n",
       "      <th>Gender</th>\n",
       "      <th>Income</th>\n",
       "      <th>CampaignChannel</th>\n",
       "      <th>CampaignType</th>\n",
       "      <th>AdSpend</th>\n",
       "      <th>ClickThroughRate</th>\n",
       "      <th>ConversionRate</th>\n",
       "      <th>WebsiteVisits</th>\n",
       "      <th>PagesPerVisit</th>\n",
       "      <th>TimeOnSite</th>\n",
       "      <th>SocialShares</th>\n",
       "      <th>EmailOpens</th>\n",
       "      <th>EmailClicks</th>\n",
       "      <th>PreviousPurchases</th>\n",
       "      <th>LoyaltyPoints</th>\n",
       "      <th>Conversion</th>\n",
       "    </tr>\n",
       "  </thead>\n",
       "  <tbody>\n",
       "    <tr>\n",
       "      <th>0</th>\n",
       "      <td>56</td>\n",
       "      <td>Female</td>\n",
       "      <td>136912</td>\n",
       "      <td>Social Media</td>\n",
       "      <td>Awareness</td>\n",
       "      <td>6497.870068</td>\n",
       "      <td>0.043919</td>\n",
       "      <td>0.088031</td>\n",
       "      <td>0</td>\n",
       "      <td>2.399017</td>\n",
       "      <td>7.396803</td>\n",
       "      <td>19</td>\n",
       "      <td>6</td>\n",
       "      <td>9</td>\n",
       "      <td>4</td>\n",
       "      <td>688</td>\n",
       "      <td>1</td>\n",
       "    </tr>\n",
       "    <tr>\n",
       "      <th>1</th>\n",
       "      <td>69</td>\n",
       "      <td>Male</td>\n",
       "      <td>41760</td>\n",
       "      <td>Email</td>\n",
       "      <td>Retention</td>\n",
       "      <td>3898.668606</td>\n",
       "      <td>0.155725</td>\n",
       "      <td>0.182725</td>\n",
       "      <td>42</td>\n",
       "      <td>2.917138</td>\n",
       "      <td>5.352549</td>\n",
       "      <td>5</td>\n",
       "      <td>2</td>\n",
       "      <td>7</td>\n",
       "      <td>2</td>\n",
       "      <td>3459</td>\n",
       "      <td>1</td>\n",
       "    </tr>\n",
       "    <tr>\n",
       "      <th>2</th>\n",
       "      <td>46</td>\n",
       "      <td>Female</td>\n",
       "      <td>88456</td>\n",
       "      <td>PPC</td>\n",
       "      <td>Awareness</td>\n",
       "      <td>1546.429596</td>\n",
       "      <td>0.277490</td>\n",
       "      <td>0.076423</td>\n",
       "      <td>2</td>\n",
       "      <td>8.223619</td>\n",
       "      <td>13.794901</td>\n",
       "      <td>0</td>\n",
       "      <td>11</td>\n",
       "      <td>2</td>\n",
       "      <td>8</td>\n",
       "      <td>2337</td>\n",
       "      <td>1</td>\n",
       "    </tr>\n",
       "    <tr>\n",
       "      <th>3</th>\n",
       "      <td>32</td>\n",
       "      <td>Female</td>\n",
       "      <td>44085</td>\n",
       "      <td>PPC</td>\n",
       "      <td>Conversion</td>\n",
       "      <td>539.525936</td>\n",
       "      <td>0.137611</td>\n",
       "      <td>0.088004</td>\n",
       "      <td>47</td>\n",
       "      <td>4.540939</td>\n",
       "      <td>14.688363</td>\n",
       "      <td>89</td>\n",
       "      <td>2</td>\n",
       "      <td>2</td>\n",
       "      <td>0</td>\n",
       "      <td>2463</td>\n",
       "      <td>1</td>\n",
       "    </tr>\n",
       "    <tr>\n",
       "      <th>4</th>\n",
       "      <td>60</td>\n",
       "      <td>Female</td>\n",
       "      <td>83964</td>\n",
       "      <td>PPC</td>\n",
       "      <td>Conversion</td>\n",
       "      <td>1678.043573</td>\n",
       "      <td>0.252851</td>\n",
       "      <td>0.109940</td>\n",
       "      <td>0</td>\n",
       "      <td>2.046847</td>\n",
       "      <td>13.993370</td>\n",
       "      <td>6</td>\n",
       "      <td>6</td>\n",
       "      <td>6</td>\n",
       "      <td>8</td>\n",
       "      <td>4345</td>\n",
       "      <td>1</td>\n",
       "    </tr>\n",
       "  </tbody>\n",
       "</table>\n",
       "</div>"
      ]
     },
     "metadata": {},
     "output_type": "display_data",
     "jetTransient": {
      "display_id": null
     }
    }
   ],
   "execution_count": 2
  },
  {
   "cell_type": "markdown",
   "id": "eda-main-header",
   "metadata": {},
   "source": [
    "## 3. Exploratory Data Analysis (EDA)"
   ]
  },
  {
   "cell_type": "code",
   "id": "eda-info",
   "metadata": {
    "ExecuteTime": {
     "end_time": "2025-09-28T05:25:23.015465Z",
     "start_time": "2025-09-28T05:25:22.993752Z"
    }
   },
   "source": [
    "print(\"--- Data Info ---\")\n",
    "df.info()"
   ],
   "outputs": [
    {
     "name": "stdout",
     "output_type": "stream",
     "text": [
      "--- Data Info ---\n",
      "<class 'pandas.core.frame.DataFrame'>\n",
      "RangeIndex: 8000 entries, 0 to 7999\n",
      "Data columns (total 17 columns):\n",
      " #   Column             Non-Null Count  Dtype  \n",
      "---  ------             --------------  -----  \n",
      " 0   Age                8000 non-null   int64  \n",
      " 1   Gender             8000 non-null   object \n",
      " 2   Income             8000 non-null   int64  \n",
      " 3   CampaignChannel    8000 non-null   object \n",
      " 4   CampaignType       8000 non-null   object \n",
      " 5   AdSpend            8000 non-null   float64\n",
      " 6   ClickThroughRate   8000 non-null   float64\n",
      " 7   ConversionRate     8000 non-null   float64\n",
      " 8   WebsiteVisits      8000 non-null   int64  \n",
      " 9   PagesPerVisit      8000 non-null   float64\n",
      " 10  TimeOnSite         8000 non-null   float64\n",
      " 11  SocialShares       8000 non-null   int64  \n",
      " 12  EmailOpens         8000 non-null   int64  \n",
      " 13  EmailClicks        8000 non-null   int64  \n",
      " 14  PreviousPurchases  8000 non-null   int64  \n",
      " 15  LoyaltyPoints      8000 non-null   int64  \n",
      " 16  Conversion         8000 non-null   int64  \n",
      "dtypes: float64(5), int64(9), object(3)\n",
      "memory usage: 1.0+ MB\n"
     ]
    }
   ],
   "execution_count": 3
  },
  {
   "cell_type": "code",
   "id": "eda-target-viz",
   "metadata": {
    "ExecuteTime": {
     "end_time": "2025-09-28T05:25:23.491882Z",
     "start_time": "2025-09-28T05:25:23.242733Z"
    }
   },
   "source": [
    "plt.figure(figsize=(8, 6))\n",
    "sns.countplot(x='Conversion', data=df, palette='viridis')\n",
    "plt.title('Target Variable: Conversion Distribution', fontsize=16)\n",
    "plt.show()"
   ],
   "outputs": [
    {
     "data": {
      "text/plain": [
       "<Figure size 800x600 with 1 Axes>"
      ],
      "image/png": "[encoded data removed]"
     },
     "metadata": {},
     "output_type": "display_data",
     "jetTransient": {
      "display_id": null
     }
    }
   ],
   "execution_count": 4
  },
  {
   "cell_type": "markdown",
   "id": "outlier_header",
   "metadata": {},
   "source": [
    "## 4. Outlier Detection and Removal"
   ]
  },
  {
   "cell_type": "code",
   "id": "outlier_removal_code",
   "metadata": {
    "ExecuteTime": {
     "end_time": "2025-09-28T05:25:23.911472Z",
     "start_time": "2025-09-28T05:25:23.518774Z"
    }
   },
   "source": [
    "X = df.drop('Conversion', axis=1)\n",
    "y = df['Conversion']\n",
    "numerical_cols_for_outliers = X.select_dtypes(include=np.number).columns\n",
    "iso_forest = IsolationForest(contamination=0.01, random_state=42)\n",
    "outlier_preds = iso_forest.fit_predict(X[numerical_cols_for_outliers])\n",
    "inlier_mask = outlier_preds == 1\n",
    "X_inliers = X[inlier_mask]\n",
    "y_inliers = y[inlier_mask]\n",
    "print(f\"Original dataset size: {len(X)}\")\n",
    "print(f\"Dataset size after removing outliers: {len(X_inliers)}\")\n",
    "print(f\"Number of outliers removed: {len(X) - len(X_inliers)}\")"
   ],
   "outputs": [
    {
     "name": "stdout",
     "output_type": "stream",
     "text": [
      "Original dataset size: 8000\n",
      "Dataset size after removing outliers: 7920\n",
      "Number of outliers removed: 80\n"
     ]
    }
   ],
   "execution_count": 5
  },
  {
   "cell_type": "markdown",
   "metadata": {},
   "source": [
    "## 5. Feature Engineering"
   ],
   "id": "8e498254dbe4c3ba"
  },
  {
   "cell_type": "code",
   "metadata": {
    "ExecuteTime": {
     "end_time": "2025-09-28T05:25:23.952330Z",
     "start_time": "2025-09-28T05:25:23.934362Z"
    }
   },
   "source": [
    "df_clean = X_inliers.copy()\n",
    "df_clean['Conversion'] = y_inliers\n",
    "df_clean['EngagementScore'] = df_clean['TimeOnSite'] * df_clean['PagesPerVisit']\n",
    "df_clean['CostPerVisit'] = df_clean['AdSpend'] / df_clean['WebsiteVisits'].replace(0, 1)\n",
    "df_clean['AgeGroup'] = pd.cut(df_clean['Age'], bins=[17, 30, 50, 70], labels=['Young', 'Adult', 'Senior'])\n",
    "df_clean['IncomeTier'] = pd.cut(df_clean['Income'], bins=[19999, 50000, 90000, 150000], labels=['Low', 'Medium', 'High'])\n",
    "print(\"✅ Feature Engineering Complete.\")"
   ],
   "id": "4365c9055c57afb3",
   "outputs": [
    {
     "name": "stdout",
     "output_type": "stream",
     "text": [
      "✅ Feature Engineering Complete.\n"
     ]
    }
   ],
   "execution_count": 6
  },
  {
   "cell_type": "markdown",
   "metadata": {},
   "source": [
    "## 6. Advanced Feature Selection"
   ],
   "id": "b02a2951f2d47f19"
  },
  {
   "cell_type": "code",
   "metadata": {
    "ExecuteTime": {
     "end_time": "2025-09-28T05:25:35.905220Z",
     "start_time": "2025-09-28T05:25:23.980011Z"
    }
   },
   "source": [
    "X_for_rfe = df_clean.drop('Conversion', axis=1)\n",
    "y_for_rfe = df_clean['Conversion']\n",
    "X_for_rfe_encoded = pd.get_dummies(X_for_rfe, drop_first=True)\n",
    "rfe = RFE(estimator=RandomForestClassifier(random_state=42, n_jobs=-1), n_features_to_select=15)\n",
    "rfe.fit(X_for_rfe_encoded, y_for_rfe)\n",
    "selected_features_names = X_for_rfe_encoded.columns[rfe.support_]\n",
    "print(f\"✅ RFE selected {len(selected_features_names)} features.\")\n",
    "original_selected_features = set()\n",
    "for feature in selected_features_names:\n",
    "    if '_' in feature and any(col for col in X_for_rfe.select_dtypes(exclude=np.number).columns if feature.startswith(col)):\n",
    "        original_selected_features.add(feature.split('_')[0])\n",
    "    else:\n",
    "        original_selected_features.add(feature)\n",
    "print(f\"\\nOriginal features corresponding to RFE selection: {list(original_selected_features)}\")\n",
    "final_features = list(original_selected_features)\n",
    "X_final = df_clean[final_features]\n",
    "y_final = df_clean['Conversion']\n"
   ],
   "id": "24585846888a5cbb",
   "outputs": [
    {
     "name": "stdout",
     "output_type": "stream",
     "text": [
      "✅ RFE selected 15 features.\n",
      "\n",
      "Original features corresponding to RFE selection: ['Income', 'PagesPerVisit', 'ConversionRate', 'WebsiteVisits', 'PreviousPurchases', 'SocialShares', 'ClickThroughRate', 'LoyaltyPoints', 'EmailClicks', 'EmailOpens', 'Age', 'CostPerVisit', 'TimeOnSite', 'EngagementScore', 'AdSpend']\n"
     ]
    }
   ],
   "execution_count": 7
  },
  {
   "cell_type": "markdown",
   "metadata": {},
   "source": [
    "## 7. Data Splitting & Preprocessing Pipeline Setup"
   ],
   "id": "17f03a970f746457"
  },
  {
   "cell_type": "code",
   "metadata": {
    "ExecuteTime": {
     "end_time": "2025-09-28T05:25:40.528820Z",
     "start_time": "2025-09-28T05:25:40.508825Z"
    }
   },
   "source": [
    "X_train, X_test, y_train, y_test = train_test_split(X_final, y_final, test_size=0.20, random_state=42, stratify=y_final)\n",
    "numerical_features = X_final.select_dtypes(include=np.number).columns.tolist()\n",
    "categorical_features = X_final.select_dtypes(exclude=np.number).columns.tolist()\n",
    "preprocessor_linear = ColumnTransformer(transformers=[('num', StandardScaler(), numerical_features), ('cat', OneHotEncoder(handle_unknown='ignore'), categorical_features)])\n",
    "preprocessor_tree = ColumnTransformer(transformers=[('num', StandardScaler(), numerical_features), ('cat', TargetEncoder(), categorical_features)])\n",
    "preprocessor_nb = ColumnTransformer(transformers=[('num', KBinsDiscretizer(n_bins=10, encode='ordinal'), numerical_features), ('cat', OneHotEncoder(handle_unknown='ignore'), categorical_features)])\n",
    "model_results = {}\n",
    "print(\"✅ Data splitting and preprocessing pipelines are ready.\")"
   ],
   "id": "10e5bd313406f188",
   "outputs": [
    {
     "name": "stdout",
     "output_type": "stream",
     "text": [
      "✅ Data splitting and preprocessing pipelines are ready.\n"
     ]
    }
   ],
   "execution_count": 8
  },
  {
   "cell_type": "markdown",
   "metadata": {},
   "source": [
    "## 8. Broad Model Search: Classical Algorithms"
   ],
   "id": "c588e65048e996e0"
  },
  {
   "cell_type": "markdown",
   "metadata": {},
   "source": [
    "### 8.1 Linear, SVM, and Discriminant Models"
   ],
   "id": "23762834c9338f5f"
  },
  {
   "cell_type": "markdown",
   "metadata": {},
   "source": [
    "#### Logistic Regression"
   ],
   "id": "6792b505df1e8f71"
  },
  {
   "cell_type": "code",
   "metadata": {
    "ExecuteTime": {
     "end_time": "2025-09-28T05:26:04.956468Z",
     "start_time": "2025-09-28T05:25:40.554113Z"
    }
   },
   "source": [
    "pipeline_lr = ImbPipeline([('preprocessor', preprocessor_linear), ('sampler', SMOTEENN(random_state=42)), ('classifier', LogisticRegression(random_state=42, max_iter=2000, class_weight='balanced'))])\n",
    "param_grid_lr = {'classifier__C': [1, 10, 100]}\n",
    "grid_lr = GridSearchCV(pipeline_lr, param_grid_lr, cv=5, scoring='roc_auc', n_jobs=-1)\n",
    "grid_lr.fit(X_train, y_train)\n",
    "print(f\"Best CV ROC-AUC: {grid_lr.best_score_:.4f}\")\n",
    "model_results['Logistic Regression'] = (grid_lr.best_score_, grid_lr.best_params_)"
   ],
   "id": "91bdceb291601fa1",
   "outputs": [
    {
     "name": "stdout",
     "output_type": "stream",
     "text": [
      "Best CV ROC-AUC: 0.7832\n"
     ]
    }
   ],
   "execution_count": 9
  },
  {
   "cell_type": "markdown",
   "metadata": {},
   "source": [
    "#### Ridge Classifier"
   ],
   "id": "9837b0d09d7cf869"
  },
  {
   "cell_type": "code",
   "metadata": {
    "ExecuteTime": {
     "end_time": "2025-09-28T05:26:20.372723Z",
     "start_time": "2025-09-28T05:26:05.083292Z"
    }
   },
   "source": [
    "pipeline_ridge = ImbPipeline([('preprocessor', preprocessor_linear), ('sampler', SMOTEENN(random_state=42)), ('classifier', RidgeClassifier(random_state=42, class_weight='balanced'))])\n",
    "param_grid_ridge = {'classifier__alpha': [1.0, 10.0, 100.0]}\n",
    "grid_ridge = GridSearchCV(pipeline_ridge, param_grid_ridge, cv=5, scoring='accuracy', n_jobs=-1)\n",
    "grid_ridge.fit(X_train, y_train)\n",
    "print(f\"Best CV Accuracy: {grid_ridge.best_score_:.4f}\")\n",
    "model_results['Ridge Classifier'] = (grid_ridge.best_score_, grid_ridge.best_params_)"
   ],
   "id": "7a5969ab8f93f57",
   "outputs": [
    {
     "name": "stdout",
     "output_type": "stream",
     "text": [
      "Best CV Accuracy: 0.6908\n"
     ]
    }
   ],
   "execution_count": 10
  },
  {
   "cell_type": "markdown",
   "metadata": {},
   "source": [
    "#### SGD Classifier (Lasso)"
   ],
   "id": "67a2c2f31f1f631"
  },
  {
   "cell_type": "code",
   "metadata": {
    "ExecuteTime": {
     "end_time": "2025-09-28T05:26:35.662470Z",
     "start_time": "2025-09-28T05:26:20.538848Z"
    }
   },
   "source": [
    "pipeline_sgd = ImbPipeline([('preprocessor', preprocessor_linear), ('sampler', SMOTEENN(random_state=42)), ('classifier', SGDClassifier(penalty='l1', loss='log_loss', random_state=42, class_weight='balanced'))])\n",
    "param_grid_sgd = {'classifier__alpha': [0.001, 0.01, 0.1]}\n",
    "grid_sgd = GridSearchCV(pipeline_sgd, param_grid_sgd, cv=5, scoring='roc_auc', n_jobs=-1)\n",
    "grid_sgd.fit(X_train, y_train)\n",
    "print(f\"Best CV ROC-AUC: {grid_sgd.best_score_:.4f}\")\n",
    "model_results['SGD Classifier (Lasso)'] = (grid_sgd.best_score_, grid_sgd.best_params_)"
   ],
   "id": "1a1cec1499544e05",
   "outputs": [
    {
     "name": "stdout",
     "output_type": "stream",
     "text": [
      "Best CV ROC-AUC: 0.7841\n"
     ]
    }
   ],
   "execution_count": 11
  },
  {
   "cell_type": "markdown",
   "metadata": {},
   "source": [
    "#### Linear Discriminant Analysis (LDA)"
   ],
   "id": "8afbab424b01d0f0"
  },
  {
   "cell_type": "code",
   "metadata": {
    "ExecuteTime": {
     "end_time": "2025-09-28T05:26:50.644174Z",
     "start_time": "2025-09-28T05:26:35.819796Z"
    }
   },
   "source": [
    "pipeline_lda = ImbPipeline([('preprocessor', preprocessor_linear), ('sampler', SMOTEENN(random_state=42)), ('classifier', LinearDiscriminantAnalysis())])\n",
    "param_grid_lda = {'classifier__solver': ['svd', 'lsqr', 'eigen']}\n",
    "grid_lda = GridSearchCV(pipeline_lda, param_grid_lda, cv=5, scoring='roc_auc', n_jobs=-1)\n",
    "grid_lda.fit(X_train, y_train)\n",
    "print(f\"Best CV ROC-AUC: {grid_lda.best_score_:.4f}\")\n",
    "model_results['LDA'] = (grid_lda.best_score_, grid_lda.best_params_)"
   ],
   "id": "cfc2975db719df8f",
   "outputs": [
    {
     "name": "stdout",
     "output_type": "stream",
     "text": [
      "Best CV ROC-AUC: 0.7830\n"
     ]
    }
   ],
   "execution_count": 12
  },
  {
   "cell_type": "markdown",
   "metadata": {},
   "source": [
    "#### Quadratic Discriminant Analysis (QDA)"
   ],
   "id": "8d9d3e68fb1416ee"
  },
  {
   "cell_type": "code",
   "metadata": {
    "ExecuteTime": {
     "end_time": "2025-09-28T05:27:05.824178Z",
     "start_time": "2025-09-28T05:26:50.839522Z"
    }
   },
   "source": [
    "pipeline_qda = ImbPipeline([('preprocessor', preprocessor_linear), ('sampler', SMOTEENN(random_state=42)), ('classifier', QuadraticDiscriminantAnalysis())])\n",
    "param_grid_qda = {'classifier__reg_param': [0.0, 0.1, 0.5]}\n",
    "grid_qda = GridSearchCV(pipeline_qda, param_grid_qda, cv=5, scoring='roc_auc', n_jobs=-1)\n",
    "grid_qda.fit(X_train, y_train)\n",
    "print(f\"Best CV ROC-AUC: {grid_qda.best_score_:.4f}\")\n",
    "model_results['QDA'] = (grid_qda.best_score_, grid_qda.best_params_)"
   ],
   "id": "394800ca7e7c29ce",
   "outputs": [
    {
     "name": "stdout",
     "output_type": "stream",
     "text": [
      "Best CV ROC-AUC: 0.7664\n"
     ]
    }
   ],
   "execution_count": 13
  },
  {
   "cell_type": "markdown",
   "metadata": {},
   "source": [
    "#### Support Vector Machine (SVC)"
   ],
   "id": "d8dc26df66d3401a"
  },
  {
   "cell_type": "code",
   "metadata": {
    "ExecuteTime": {
     "end_time": "2025-09-28T05:28:07.913627Z",
     "start_time": "2025-09-28T05:27:06.047149Z"
    }
   },
   "source": [
    "pipeline_svc = ImbPipeline([('preprocessor', preprocessor_linear), ('sampler', SMOTEENN(random_state=42)), ('classifier', SVC(random_state=42, probability=True, class_weight='balanced'))])\n",
    "param_grid_svc = {'classifier__C': [10, 50], 'classifier__kernel': ['rbf']}\n",
    "grid_svc = GridSearchCV(pipeline_svc, param_grid_svc, cv=5, scoring='roc_auc', n_jobs=-1)\n",
    "grid_svc.fit(X_train, y_train)\n",
    "print(f\"Best CV ROC-AUC: {grid_svc.best_score_:.4f}\")\n",
    "model_results['Support Vector Machine'] = (grid_svc.best_score_, grid_svc.best_params_)"
   ],
   "id": "82beb17916888e38",
   "outputs": [
    {
     "name": "stdout",
     "output_type": "stream",
     "text": [
      "Best CV ROC-AUC: 0.7212\n"
     ]
    }
   ],
   "execution_count": 14
  },
  {
   "cell_type": "markdown",
   "metadata": {},
   "source": [
    "### 8.2 Tree-Based and Ensemble Models"
   ],
   "id": "ba38c06350cf2c18"
  },
  {
   "cell_type": "markdown",
   "metadata": {},
   "source": [
    "#### Decision Tree"
   ],
   "id": "ded7e7d5e5cd5ac5"
  },
  {
   "cell_type": "code",
   "metadata": {
    "ExecuteTime": {
     "end_time": "2025-09-28T05:28:24.511281Z",
     "start_time": "2025-09-28T05:28:08.247880Z"
    }
   },
   "source": [
    "pipeline_dt = ImbPipeline([('preprocessor', preprocessor_tree), ('sampler', SMOTEENN(random_state=42)), ('classifier', DecisionTreeClassifier(random_state=42, class_weight='balanced'))])\n",
    "param_grid_dt = {'classifier__max_depth': [10, 20, 30]}\n",
    "grid_dt = GridSearchCV(pipeline_dt, param_grid_dt, cv=5, scoring='roc_auc', n_jobs=-1)\n",
    "grid_dt.fit(X_train, y_train)\n",
    "print(f\"Best CV ROC-AUC: {grid_dt.best_score_:.4f}\")\n",
    "model_results['Decision Tree'] = (grid_dt.best_score_, grid_dt.best_params_)"
   ],
   "id": "11e8f38ad65e45cb",
   "outputs": [
    {
     "name": "stdout",
     "output_type": "stream",
     "text": [
      "Best CV ROC-AUC: 0.6405\n"
     ]
    }
   ],
   "execution_count": 15
  },
  {
   "cell_type": "markdown",
   "metadata": {},
   "source": [
    "#### Bagging Classifier"
   ],
   "id": "daccada4c9b1139a"
  },
  {
   "cell_type": "code",
   "metadata": {
    "ExecuteTime": {
     "end_time": "2025-09-28T05:29:59.352082Z",
     "start_time": "2025-09-28T05:28:24.798306Z"
    }
   },
   "source": [
    "pipeline_bag = ImbPipeline([('preprocessor', preprocessor_tree), ('sampler', SMOTEENN(random_state=42)), ('classifier', BaggingClassifier(random_state=42, n_jobs=-1))])\n",
    "param_grid_bag = {'classifier__n_estimators': [50, 100, 200]}\n",
    "grid_bag = GridSearchCV(pipeline_bag, param_grid_bag, cv=5, scoring='roc_auc', n_jobs=-1)\n",
    "grid_bag.fit(X_train, y_train)\n",
    "print(f\"Best CV ROC-AUC: {grid_bag.best_score_:.4f}\")\n",
    "model_results['Bagging Classifier'] = (grid_bag.best_score_, grid_bag.best_params_)"
   ],
   "id": "cb2f68a6d698db2d",
   "outputs": [
    {
     "name": "stdout",
     "output_type": "stream",
     "text": [
      "Best CV ROC-AUC: 0.7570\n"
     ]
    }
   ],
   "execution_count": 16
  },
  {
   "cell_type": "markdown",
   "metadata": {},
   "source": [
    "#### Random Forest"
   ],
   "id": "6d8e2158dadacce1"
  },
  {
   "cell_type": "code",
   "metadata": {
    "ExecuteTime": {
     "end_time": "2025-09-28T05:31:01.339672Z",
     "start_time": "2025-09-28T05:29:59.726930Z"
    }
   },
   "source": [
    "pipeline_rf = ImbPipeline([('preprocessor', preprocessor_tree), ('sampler', SMOTEENN(random_state=42)), ('classifier', RandomForestClassifier(random_state=42, n_jobs=-1, class_weight='balanced'))])\n",
    "param_grid_rf = {'classifier__n_estimators': [200, 300], 'classifier__max_depth': [10, 20]}\n",
    "grid_rf = GridSearchCV(pipeline_rf, param_grid_rf, cv=5, scoring='roc_auc', n_jobs=-1)\n",
    "grid_rf.fit(X_train, y_train)\n",
    "print(f\"Best CV ROC-AUC: {grid_rf.best_score_:.4f}\")\n",
    "model_results['Random Forest'] = (grid_rf.best_score_, grid_rf.best_params_)"
   ],
   "id": "45c8fbcd022f57b8",
   "outputs": [
    {
     "name": "stdout",
     "output_type": "stream",
     "text": [
      "Best CV ROC-AUC: 0.7901\n"
     ]
    }
   ],
   "execution_count": 17
  },
  {
   "cell_type": "markdown",
   "metadata": {},
   "source": [
    "#### Extra Trees"
   ],
   "id": "3267e91df4a81673"
  },
  {
   "cell_type": "code",
   "metadata": {
    "ExecuteTime": {
     "end_time": "2025-09-28T05:31:36.031575Z",
     "start_time": "2025-09-28T05:31:01.794504Z"
    }
   },
   "source": [
    "pipeline_et = ImbPipeline([('preprocessor', preprocessor_tree), ('sampler', SMOTEENN(random_state=42)), ('classifier', ExtraTreesClassifier(random_state=42, n_jobs=-1, class_weight='balanced'))])\n",
    "param_grid_et = {'classifier__n_estimators': [200, 300], 'classifier__max_depth': [10, 20]}\n",
    "grid_et = GridSearchCV(pipeline_et, param_grid_et, cv=5, scoring='roc_auc', n_jobs=-1)\n",
    "grid_et.fit(X_train, y_train)\n",
    "print(f\"Best CV ROC-AUC: {grid_et.best_score_:.4f}\")\n",
    "model_results['Extra Trees'] = (grid_et.best_score_, grid_et.best_params_)"
   ],
   "id": "5e525f3942412de0",
   "outputs": [
    {
     "name": "stdout",
     "output_type": "stream",
     "text": [
      "Best CV ROC-AUC: 0.7797\n"
     ]
    }
   ],
   "execution_count": 18
  },
  {
   "cell_type": "markdown",
   "metadata": {},
   "source": [
    "#### AdaBoost"
   ],
   "id": "8a561f5a2f871e0"
  },
  {
   "cell_type": "code",
   "metadata": {
    "ExecuteTime": {
     "end_time": "2025-09-28T05:32:05.380740Z",
     "start_time": "2025-09-28T05:31:36.421423Z"
    }
   },
   "source": [
    "pipeline_ada = ImbPipeline([('preprocessor', preprocessor_tree), ('sampler', SMOTEENN(random_state=42)), ('classifier', AdaBoostClassifier(random_state=42))])\n",
    "param_grid_ada = {'classifier__n_estimators': [50, 100, 200]}\n",
    "grid_ada = GridSearchCV(pipeline_ada, param_grid_ada, cv=5, scoring='roc_auc', n_jobs=-1)\n",
    "grid_ada.fit(X_train, y_train)\n",
    "print(f\"Best CV ROC-AUC: {grid_ada.best_score_:.4f}\")\n",
    "model_results['AdaBoost'] = (grid_ada.best_score_, grid_ada.best_params_)"
   ],
   "id": "d16e641a6be8777d",
   "outputs": [
    {
     "name": "stdout",
     "output_type": "stream",
     "text": [
      "Best CV ROC-AUC: 0.7906\n"
     ]
    }
   ],
   "execution_count": 19
  },
  {
   "cell_type": "markdown",
   "metadata": {},
   "source": [
    "#### Gradient Boosting"
   ],
   "id": "ce90f0f80f2fe206"
  },
  {
   "cell_type": "code",
   "metadata": {
    "ExecuteTime": {
     "end_time": "2025-09-28T05:35:18.963066Z",
     "start_time": "2025-09-28T05:32:05.777116Z"
    }
   },
   "source": [
    "pipeline_gbm = ImbPipeline([('preprocessor', preprocessor_tree), ('sampler', SMOTEENN(random_state=42)), ('classifier', GradientBoostingClassifier(random_state=42))])\n",
    "param_grid_gbm = {'classifier__n_estimators': [200, 300], 'classifier__max_depth': [5, 7]}\n",
    "grid_gbm = GridSearchCV(pipeline_gbm, param_grid_gbm, cv=5, scoring='roc_auc', n_jobs=-1)\n",
    "grid_gbm.fit(X_train, y_train)\n",
    "print(f\"Best CV ROC-AUC: {grid_gbm.best_score_:.4f}\")\n",
    "model_results['Gradient Boosting'] = (grid_gbm.best_score_, grid_gbm.best_params_)"
   ],
   "id": "ad19ef0f26e3c9a8",
   "outputs": [
    {
     "name": "stdout",
     "output_type": "stream",
     "text": [
      "Best CV ROC-AUC: 0.7859\n"
     ]
    }
   ],
   "execution_count": 20
  },
  {
   "cell_type": "markdown",
   "metadata": {},
   "source": [
    "#### XGBoost"
   ],
   "id": "10fe8bbe25f12a1b"
  },
  {
   "cell_type": "code",
   "metadata": {
    "ExecuteTime": {
     "end_time": "2025-09-28T05:35:44.794610Z",
     "start_time": "2025-09-28T05:35:19.454130Z"
    }
   },
   "source": [
    "pipeline_xgb = ImbPipeline([('preprocessor', preprocessor_tree), ('sampler', SMOTEENN(random_state=42)), ('classifier', XGBClassifier(random_state=42, use_label_encoder=False, eval_metric='logloss'))])\n",
    "param_grid_xgb = {'classifier__n_estimators': [200, 300], 'classifier__max_depth': [5, 7]}\n",
    "grid_xgb = GridSearchCV(pipeline_xgb, param_grid_xgb, cv=5, scoring='roc_auc', n_jobs=-1)\n",
    "grid_xgb.fit(X_train, y_train)\n",
    "print(f\"Best CV ROC-AUC: {grid_xgb.best_score_:.4f}\")\n",
    "model_results['XGBoost'] = (grid_xgb.best_score_, grid_xgb.best_params_)"
   ],
   "id": "ff26c3e014749501",
   "outputs": [
    {
     "name": "stdout",
     "output_type": "stream",
     "text": [
      "Best CV ROC-AUC: 0.7830\n"
     ]
    }
   ],
   "execution_count": 21
  },
  {
   "cell_type": "markdown",
   "metadata": {},
   "source": [
    "#### LightGBM"
   ],
   "id": "7c3e29d29bcda27c"
  },
  {
   "cell_type": "code",
   "metadata": {
    "ExecuteTime": {
     "end_time": "2025-09-28T05:36:18.575520Z",
     "start_time": "2025-09-28T05:35:45.287479Z"
    }
   },
   "source": [
    "pipeline_lgbm = ImbPipeline([('preprocessor', preprocessor_tree), ('sampler', SMOTEENN(random_state=42)), ('classifier', LGBMClassifier(random_state=42, class_weight='balanced'))])\n",
    "param_grid_lgbm = {'classifier__n_estimators': [200, 300], 'classifier__num_leaves': [31, 40]}\n",
    "grid_lgbm = GridSearchCV(pipeline_lgbm, param_grid_lgbm, cv=5, scoring='roc_auc', n_jobs=-1)\n",
    "grid_lgbm.fit(X_train, y_train)\n",
    "print(f\"Best CV ROC-AUC: {grid_lgbm.best_score_:.4f}\")\n",
    "model_results['LightGBM'] = (grid_lgbm.best_score_, grid_lgbm.best_params_)"
   ],
   "id": "ec4348e03a370c1e",
   "outputs": [
    {
     "name": "stdout",
     "output_type": "stream",
     "text": [
      "[LightGBM] [Info] Number of positive: 3305, number of negative: 5526\n",
      "[LightGBM] [Info] Auto-choosing col-wise multi-threading, the overhead of testing was 0.000677 seconds.\n",
      "You can set `force_col_wise=true` to remove the overhead.\n",
      "[LightGBM] [Info] Total Bins 3824\n",
      "[LightGBM] [Info] Number of data points in the train set: 8831, number of used features: 15\n",
      "[LightGBM] [Info] [binary:BoostFromScore]: pavg=0.500000 -> initscore=-0.000000\n",
      "[LightGBM] [Info] Start training from score -0.000000\n",
      "Best CV ROC-AUC: 0.7854\n"
     ]
    }
   ],
   "execution_count": 22
  },
  {
   "cell_type": "markdown",
   "metadata": {},
   "source": [
    "#### CatBoost"
   ],
   "id": "46a2f5be313ada1e"
  },
  {
   "cell_type": "code",
   "metadata": {
    "ExecuteTime": {
     "end_time": "2025-09-28T05:37:41.642539Z",
     "start_time": "2025-09-28T05:36:19.048069Z"
    }
   },
   "source": [
    "pipeline_cat = ImbPipeline([('preprocessor', preprocessor_tree), ('sampler', SMOTEENN(random_state=42)), ('classifier', CatBoostClassifier(random_state=42, verbose=0, auto_class_weights='Balanced'))])\n",
    "param_grid_cat = {'classifier__iterations': [300, 500], 'classifier__depth': [6, 8]}\n",
    "grid_cat = GridSearchCV(pipeline_cat, param_grid_cat, cv=5, scoring='roc_auc', n_jobs=-1)\n",
    "grid_cat.fit(X_train, y_train)\n",
    "print(f\"Best CV ROC-AUC: {grid_cat.best_score_:.4f}\")\n",
    "model_results['CatBoost'] = (grid_cat.best_score_, grid_cat.best_params_)"
   ],
   "id": "d9fe019d05b716c2",
   "outputs": [
    {
     "name": "stdout",
     "output_type": "stream",
     "text": [
      "Best CV ROC-AUC: 0.7958\n"
     ]
    }
   ],
   "execution_count": 23
  },
  {
   "cell_type": "markdown",
   "metadata": {},
   "source": [
    "### 8.3 Other Model Architectures"
   ],
   "id": "76f125804888bd85"
  },
  {
   "cell_type": "markdown",
   "metadata": {},
   "source": [
    "#### K-Nearest Neighbors (KNN)"
   ],
   "id": "b90f46b4a2d5e84e"
  },
  {
   "cell_type": "code",
   "metadata": {
    "ExecuteTime": {
     "end_time": "2025-09-28T05:37:59.121125Z",
     "start_time": "2025-09-28T05:37:42.148125Z"
    }
   },
   "source": [
    "pipeline_knn = ImbPipeline([('preprocessor', preprocessor_linear), ('sampler', SMOTEENN(random_state=42)), ('classifier', KNeighborsClassifier(n_jobs=-1))])\n",
    "param_grid_knn = {'classifier__n_neighbors': [5, 7, 9]}\n",
    "grid_knn = GridSearchCV(pipeline_knn, param_grid_knn, cv=5, scoring='roc_auc', n_jobs=-1)\n",
    "grid_knn.fit(X_train, y_train)\n",
    "print(f\"Best CV ROC-AUC: {grid_knn.best_score_:.4f}\")\n",
    "model_results['KNN'] = (grid_knn.best_score_, grid_knn.best_params_)"
   ],
   "id": "ef7ebaaeb6da048f",
   "outputs": [
    {
     "name": "stdout",
     "output_type": "stream",
     "text": [
      "Best CV ROC-AUC: 0.6970\n"
     ]
    }
   ],
   "execution_count": 24
  },
  {
   "cell_type": "markdown",
   "metadata": {},
   "source": [
    "#### Gaussian Naive Bayes"
   ],
   "id": "9abd3eb5e6dbd56b"
  },
  {
   "cell_type": "code",
   "metadata": {
    "ExecuteTime": {
     "end_time": "2025-09-28T05:38:13.133196Z",
     "start_time": "2025-09-28T05:37:59.682020Z"
    }
   },
   "source": [
    "pipeline_gnb = ImbPipeline([('preprocessor', preprocessor_nb), ('sampler', SMOTEENN(random_state=42)), ('classifier', GaussianNB())])\n",
    "param_grid_gnb = {'preprocessor__num__n_bins': [5, 10, 15]}\n",
    "grid_gnb = GridSearchCV(pipeline_gnb, param_grid_gnb, cv=5, scoring='roc_auc', n_jobs=-1)\n",
    "grid_gnb.fit(X_train, y_train)\n",
    "print(f\"Best CV ROC-AUC: {grid_gnb.best_score_:.4f}\")\n",
    "model_results['Gaussian NB'] = (grid_gnb.best_score_, grid_gnb.best_params_)"
   ],
   "id": "ce16adfc98bc4593",
   "outputs": [
    {
     "name": "stdout",
     "output_type": "stream",
     "text": [
      "Best CV ROC-AUC: 0.7731\n"
     ]
    }
   ],
   "execution_count": 25
  },
  {
   "cell_type": "markdown",
   "metadata": {},
   "source": [
    "#### Multi-layer Perceptron (MLP)"
   ],
   "id": "cba62f074fe1a1e9"
  },
  {
   "cell_type": "code",
   "metadata": {
    "ExecuteTime": {
     "end_time": "2025-09-28T05:38:59.695826Z",
     "start_time": "2025-09-28T05:38:13.704063Z"
    }
   },
   "source": [
    "pipeline_mlp = ImbPipeline([('preprocessor', preprocessor_linear), ('sampler', SMOTEENN(random_state=42)), ('classifier', MLPClassifier(random_state=42, max_iter=1000, early_stopping=True))])\n",
    "param_grid_mlp = {'classifier__hidden_layer_sizes': [(50, 25), (100, 50)], 'classifier__alpha': [0.001, 0.01]}\n",
    "grid_mlp = GridSearchCV(pipeline_mlp, param_grid_mlp, cv=5, scoring='roc_auc', n_jobs=-1)\n",
    "grid_mlp.fit(X_train, y_train)\n",
    "print(f\"Best CV ROC-AUC: {grid_mlp.best_score_:.4f}\")\n",
    "model_results['MLP'] = (grid_mlp.best_score_, grid_mlp.best_params_)"
   ],
   "id": "212125dc38d4490d",
   "outputs": [
    {
     "name": "stdout",
     "output_type": "stream",
     "text": [
      "Best CV ROC-AUC: 0.7401\n"
     ]
    }
   ],
   "execution_count": 26
  },
  {
   "cell_type": "markdown",
   "metadata": {},
   "source": [
    "## 9. Advanced Deep Learning Architectures"
   ],
   "id": "41f9a4825136937d"
  },
  {
   "cell_type": "markdown",
   "metadata": {},
   "source": [
    "### 9.1 Standard Keras NN with Embeddings (Baseline DL Model)"
   ],
   "id": "ad19e55965bd1061"
  },
  {
   "cell_type": "code",
   "id": "keras_code_restored",
   "metadata": {
    "ExecuteTime": {
     "end_time": "2025-09-28T05:39:11.939776Z",
     "start_time": "2025-09-28T05:39:00.294043Z"
    }
   },
   "source": [
    "X_train_keras = X_train.copy()\n",
    "X_test_keras = X_test.copy()\n",
    "cat_dims = {}\n",
    "for col in categorical_features:\n",
    "    X_train_keras[col] = X_train_keras[col].astype('category').cat.codes\n",
    "    X_test_keras[col] = X_test_keras[col].astype('category').cat.codes\n",
    "    cat_dims[col] = len(X_final[col].astype('category').cat.categories)\n",
    "scaler = StandardScaler()\n",
    "X_train_keras[numerical_features] = scaler.fit_transform(X_train_keras[numerical_features])\n",
    "X_test_keras[numerical_features] = scaler.transform(X_test_keras[numerical_features])\n",
    "train_inputs = {col: np.array(X_train_keras[col]) for col in categorical_features} | {'numerical_input': X_train_keras[numerical_features].values}\n",
    "test_inputs = {col: np.array(X_test_keras[col]) for col in categorical_features} | {'numerical_input': X_test_keras[numerical_features].values}\n",
    "def build_baseline_keras_model():\n",
    "    inputs, embeddings = [], []\n",
    "    for col in categorical_features:\n",
    "        input_cat = Input(shape=(1,), name=col)\n",
    "        embedding_size = min(np.ceil(cat_dims[col]/2), 50)\n",
    "        embedding = Embedding(input_dim=cat_dims[col], output_dim=int(embedding_size))(input_cat)\n",
    "        embedding = Flatten()(embedding)\n",
    "        inputs.append(input_cat)\n",
    "        embeddings.append(embedding)\n",
    "    input_num = Input(shape=(len(numerical_features),), name=\"numerical_input\")\n",
    "    inputs.append(input_num)\n",
    "    x = Concatenate()(embeddings + [input_num])\n",
    "    x = Dense(128, activation='relu')(x)\n",
    "    x = Dropout(0.3)(x)\n",
    "    x = Dense(64, activation='relu')(x)\n",
    "    x = Dropout(0.3)(x)\n",
    "    output = Dense(1, activation='sigmoid')(x)\n",
    "    return Model(inputs=inputs, outputs=output)\n",
    "keras_model = build_baseline_keras_model()\n",
    "keras_model.compile(optimizer='adam', loss='binary_crossentropy', metrics=['AUC'])\n",
    "early_stopping = EarlyStopping(monitor='val_loss', patience=10, restore_best_weights=True)\n",
    "keras_model.fit(train_inputs, y_train, epochs=100, batch_size=64, validation_split=0.2, callbacks=[early_stopping], verbose=0)\n",
    "y_proba_keras = keras_model.predict(test_inputs).ravel()\n",
    "keras_roc_auc = roc_auc_score(y_test, y_proba_keras)\n",
    "print(f\"--- Baseline Keras NN with Embeddings Test ROC-AUC: {keras_roc_auc:.4f} ---\")\n",
    "model_results['Keras NN'] = (keras_roc_auc, {'architecture': 'Embedding-128-64-1'})"
   ],
   "outputs": [
    {
     "name": "stdout",
     "output_type": "stream",
     "text": [
      "\u001B[1m50/50\u001B[0m \u001B[32m━━━━━━━━━━━━━━━━━━━━\u001B[0m\u001B[37m\u001B[0m \u001B[1m0s\u001B[0m 2ms/step\n",
      "--- Baseline Keras NN with Embeddings Test ROC-AUC: 0.7632 ---\n"
     ]
    }
   ],
   "execution_count": 27
  },
  {
   "cell_type": "markdown",
   "metadata": {},
   "source": [
    "### 9.2 Wide & Deep Network"
   ],
   "id": "47295fe2fa59ec74"
  },
  {
   "cell_type": "code",
   "metadata": {
    "ExecuteTime": {
     "end_time": "2025-09-28T05:39:16.855846Z",
     "start_time": "2025-09-28T05:39:12.544653Z"
    }
   },
   "source": [
    "def build_wide_and_deep_model():\n",
    "    inputs, embeddings = [], []\n",
    "    for col in categorical_features:\n",
    "        input_cat = Input(shape=(1,), name=col)\n",
    "        embedding_size = min(np.ceil(cat_dims[col]/2), 50)\n",
    "        embedding = Embedding(input_dim=cat_dims[col], output_dim=int(embedding_size))(input_cat)\n",
    "        embedding = Flatten()(embedding)\n",
    "        inputs.append(input_cat)\n",
    "        embeddings.append(embedding)\n",
    "    input_num = Input(shape=(len(numerical_features),), name=\"numerical_input\")\n",
    "    inputs.append(input_num)\n",
    "    deep_path = Concatenate()(embeddings + [input_num])\n",
    "    deep_path = Dense(128, activation='relu')(deep_path)\n",
    "    deep_path = Dropout(0.3)(deep_path)\n",
    "    deep_path = Dense(64, activation='relu')(deep_path)\n",
    "    wide_path = Concatenate()(embeddings + [input_num])\n",
    "    combined = Concatenate()([wide_path, deep_path])\n",
    "    output = Dense(1, activation='sigmoid')(combined)\n",
    "    return Model(inputs=inputs, outputs=output)\n",
    "wide_deep_model = build_wide_and_deep_model()\n",
    "wide_deep_model.compile(optimizer='adam', loss='binary_crossentropy', metrics=['AUC'])\n",
    "wide_deep_model.fit(train_inputs, y_train, epochs=100, batch_size=64, validation_split=0.2, callbacks=[early_stopping], verbose=0)\n",
    "y_proba_wd = wide_deep_model.predict(test_inputs).ravel()\n",
    "wd_roc_auc = roc_auc_score(y_test, y_proba_wd)\n",
    "print(f\"--- Wide & Deep Model Test ROC-AUC: {wd_roc_auc:.4f} ---\")\n",
    "model_results['Wide & Deep'] = (wd_roc_auc, {'architecture': 'Wide&Deep-128-64-1'})"
   ],
   "id": "27c9fcbe07a610c8",
   "outputs": [
    {
     "name": "stdout",
     "output_type": "stream",
     "text": [
      "\u001B[1m50/50\u001B[0m \u001B[32m━━━━━━━━━━━━━━━━━━━━\u001B[0m\u001B[37m\u001B[0m \u001B[1m0s\u001B[0m 2ms/step\n",
      "--- Wide & Deep Model Test ROC-AUC: 0.7299 ---\n"
     ]
    }
   ],
   "execution_count": 28
  },
  {
   "cell_type": "markdown",
   "metadata": {},
   "source": "### 9.3 Autoencoder for Feature Extraction",
   "id": "d9a388467d7d5492"
  },
  {
   "cell_type": "code",
   "metadata": {
    "ExecuteTime": {
     "end_time": "2025-09-28T05:39:24.296194Z",
     "start_time": "2025-09-28T05:39:17.482312Z"
    }
   },
   "source": [
    "input_dim = X_train_keras.shape[1]\n",
    "encoding_dim = 32\n",
    "input_layer = Input(shape=(input_dim,))\n",
    "encoder = Dense(128, activation='relu')(input_layer)\n",
    "encoder = Dense(64, activation='relu')(encoder)\n",
    "encoder = Dense(encoding_dim, activation='relu')(encoder)\n",
    "decoder = Dense(64, activation='relu')(encoder)\n",
    "decoder = Dense(128, activation='relu')(decoder)\n",
    "decoder = Dense(input_dim, activation='sigmoid')(decoder)\n",
    "autoencoder = Model(inputs=input_layer, outputs=decoder)\n",
    "autoencoder.compile(optimizer='adam', loss='mean_squared_error')\n",
    "autoencoder.fit(X_train_keras, X_train_keras, epochs=50, batch_size=64, shuffle=True, validation_split=0.2, verbose=0, callbacks=[early_stopping])\n",
    "encoder_model = Model(inputs=input_layer, outputs=encoder)\n",
    "X_train_encoded = encoder_model.predict(X_train_keras)\n",
    "X_test_encoded = encoder_model.predict(X_test_keras)\n",
    "xgb_on_ae = XGBClassifier(n_estimators=500, learning_rate=0.05, use_label_encoder=False, eval_metric='logloss', random_state=42)\n",
    "xgb_on_ae.fit(X_train_encoded, y_train)\n",
    "y_proba_ae = xgb_on_ae.predict_proba(X_test_encoded)[:, 1]\n",
    "ae_roc_auc = roc_auc_score(y_test, y_proba_ae)\n",
    "print(f\"--- XGBoost on Autoencoder Features Test ROC-AUC: {ae_roc_auc:.4f} ---\")\n",
    "model_results['XGB on AE Features'] = (ae_roc_auc, {'architecture': 'AE(32)-XGB'})"
   ],
   "id": "d2de53b5fea3841f",
   "outputs": [
    {
     "name": "stdout",
     "output_type": "stream",
     "text": [
      "\u001B[1m198/198\u001B[0m \u001B[32m━━━━━━━━━━━━━━━━━━━━\u001B[0m\u001B[37m\u001B[0m \u001B[1m0s\u001B[0m 965us/step\n",
      "\u001B[1m50/50\u001B[0m \u001B[32m━━━━━━━━━━━━━━━━━━━━\u001B[0m\u001B[37m\u001B[0m \u001B[1m0s\u001B[0m 2ms/step\n",
      "--- XGBoost on Autoencoder Features Test ROC-AUC: 0.7650 ---\n"
     ]
    }
   ],
   "execution_count": 29
  },
  {
   "cell_type": "markdown",
   "id": "comparison_header_restored",
   "metadata": {},
   "source": [
    "## 10. Model Comparison"
   ]
  },
  {
   "cell_type": "code",
   "id": "comparison_code_restored",
   "metadata": {
    "ExecuteTime": {
     "end_time": "2025-09-28T05:39:25.548572Z",
     "start_time": "2025-09-28T05:39:24.931908Z"
    }
   },
   "source": [
    "results_df = pd.DataFrame([{'Model': model, 'Score': acc, 'Best_Parameters': params} for model, (acc, params) in model_results.items()])\n",
    "results_df_sorted = results_df.sort_values('Score', ascending=False).reset_index(drop=True)\n",
    "print(\"--- Model Comparison (Sorted by Performance Score) ---\")\n",
    "display(results_df_sorted)\n",
    "plt.figure(figsize=(12, 12))\n",
    "sns.barplot(x='Score', y='Model', data=results_df_sorted, palette='mako')\n",
    "plt.title('Performance Score of All Models', fontsize=16)\n",
    "plt.xlabel('CV Score (ROC-AUC or Accuracy)', fontsize=12)\n",
    "plt.ylabel('Model', fontsize=12)\n",
    "plt.xlim(min(results_df_sorted['Score']) - 0.05, 1.0)\n",
    "plt.show()"
   ],
   "outputs": [
    {
     "name": "stdout",
     "output_type": "stream",
     "text": [
      "--- Model Comparison (Sorted by Performance Score) ---\n"
     ]
    },
    {
     "data": {
      "text/plain": [
       "                     Model     Score  \\\n",
       "0                 CatBoost  0.795785   \n",
       "1                 AdaBoost  0.790608   \n",
       "2            Random Forest  0.790075   \n",
       "3        Gradient Boosting  0.785868   \n",
       "4                 LightGBM  0.785381   \n",
       "5   SGD Classifier (Lasso)  0.784071   \n",
       "6      Logistic Regression  0.783238   \n",
       "7                  XGBoost  0.783011   \n",
       "8                      LDA  0.782971   \n",
       "9              Extra Trees  0.779732   \n",
       "10             Gaussian NB  0.773111   \n",
       "11                     QDA  0.766423   \n",
       "12      XGB on AE Features  0.765030   \n",
       "13                Keras NN  0.763238   \n",
       "14      Bagging Classifier  0.756989   \n",
       "15                     MLP  0.740088   \n",
       "16             Wide & Deep  0.729874   \n",
       "17  Support Vector Machine  0.721186   \n",
       "18                     KNN  0.696956   \n",
       "19        Ridge Classifier  0.690817   \n",
       "20           Decision Tree  0.640454   \n",
       "\n",
       "                                      Best_Parameters  \n",
       "0   {'classifier__depth': 6, 'classifier__iteratio...  \n",
       "1                    {'classifier__n_estimators': 50}  \n",
       "2   {'classifier__max_depth': 10, 'classifier__n_e...  \n",
       "3   {'classifier__max_depth': 5, 'classifier__n_es...  \n",
       "4   {'classifier__n_estimators': 200, 'classifier_...  \n",
       "5                         {'classifier__alpha': 0.01}  \n",
       "6                                {'classifier__C': 1}  \n",
       "7   {'classifier__max_depth': 5, 'classifier__n_es...  \n",
       "8                       {'classifier__solver': 'svd'}  \n",
       "9   {'classifier__max_depth': 20, 'classifier__n_e...  \n",
       "10                  {'preprocessor__num__n_bins': 10}  \n",
       "11                     {'classifier__reg_param': 0.5}  \n",
       "12                     {'architecture': 'AE(32)-XGB'}  \n",
       "13             {'architecture': 'Embedding-128-64-1'}  \n",
       "14                  {'classifier__n_estimators': 200}  \n",
       "15  {'classifier__alpha': 0.001, 'classifier__hidd...  \n",
       "16             {'architecture': 'Wide&Deep-128-64-1'}  \n",
       "17  {'classifier__C': 10, 'classifier__kernel': 'r...  \n",
       "18                     {'classifier__n_neighbors': 9}  \n",
       "19                         {'classifier__alpha': 1.0}  \n",
       "20                      {'classifier__max_depth': 10}  "
      ],
      "text/html": [
       "<div>\n",
       "<style scoped>\n",
       "    .dataframe tbody tr th:only-of-type {\n",
       "        vertical-align: middle;\n",
       "    }\n",
       "\n",
       "    .dataframe tbody tr th {\n",
       "        vertical-align: top;\n",
       "    }\n",
       "\n",
       "    .dataframe thead th {\n",
       "        text-align: right;\n",
       "    }\n",
       "</style>\n",
       "<table border=\"1\" class=\"dataframe\">\n",
       "  <thead>\n",
       "    <tr style=\"text-align: right;\">\n",
       "      <th></th>\n",
       "      <th>Model</th>\n",
       "      <th>Score</th>\n",
       "      <th>Best_Parameters</th>\n",
       "    </tr>\n",
       "  </thead>\n",
       "  <tbody>\n",
       "    <tr>\n",
       "      <th>0</th>\n",
       "      <td>CatBoost</td>\n",
       "      <td>0.795785</td>\n",
       "      <td>{'classifier__depth': 6, 'classifier__iteratio...</td>\n",
       "    </tr>\n",
       "    <tr>\n",
       "      <th>1</th>\n",
       "      <td>AdaBoost</td>\n",
       "      <td>0.790608</td>\n",
       "      <td>{'classifier__n_estimators': 50}</td>\n",
       "    </tr>\n",
       "    <tr>\n",
       "      <th>2</th>\n",
       "      <td>Random Forest</td>\n",
       "      <td>0.790075</td>\n",
       "      <td>{'classifier__max_depth': 10, 'classifier__n_e...</td>\n",
       "    </tr>\n",
       "    <tr>\n",
       "      <th>3</th>\n",
       "      <td>Gradient Boosting</td>\n",
       "      <td>0.785868</td>\n",
       "      <td>{'classifier__max_depth': 5, 'classifier__n_es...</td>\n",
       "    </tr>\n",
       "    <tr>\n",
       "      <th>4</th>\n",
       "      <td>LightGBM</td>\n",
       "      <td>0.785381</td>\n",
       "      <td>{'classifier__n_estimators': 200, 'classifier_...</td>\n",
       "    </tr>\n",
       "    <tr>\n",
       "      <th>5</th>\n",
       "      <td>SGD Classifier (Lasso)</td>\n",
       "      <td>0.784071</td>\n",
       "      <td>{'classifier__alpha': 0.01}</td>\n",
       "    </tr>\n",
       "    <tr>\n",
       "      <th>6</th>\n",
       "      <td>Logistic Regression</td>\n",
       "      <td>0.783238</td>\n",
       "      <td>{'classifier__C': 1}</td>\n",
       "    </tr>\n",
       "    <tr>\n",
       "      <th>7</th>\n",
       "      <td>XGBoost</td>\n",
       "      <td>0.783011</td>\n",
       "      <td>{'classifier__max_depth': 5, 'classifier__n_es...</td>\n",
       "    </tr>\n",
       "    <tr>\n",
       "      <th>8</th>\n",
       "      <td>LDA</td>\n",
       "      <td>0.782971</td>\n",
       "      <td>{'classifier__solver': 'svd'}</td>\n",
       "    </tr>\n",
       "    <tr>\n",
       "      <th>9</th>\n",
       "      <td>Extra Trees</td>\n",
       "      <td>0.779732</td>\n",
       "      <td>{'classifier__max_depth': 20, 'classifier__n_e...</td>\n",
       "    </tr>\n",
       "    <tr>\n",
       "      <th>10</th>\n",
       "      <td>Gaussian NB</td>\n",
       "      <td>0.773111</td>\n",
       "      <td>{'preprocessor__num__n_bins': 10}</td>\n",
       "    </tr>\n",
       "    <tr>\n",
       "      <th>11</th>\n",
       "      <td>QDA</td>\n",
       "      <td>0.766423</td>\n",
       "      <td>{'classifier__reg_param': 0.5}</td>\n",
       "    </tr>\n",
       "    <tr>\n",
       "      <th>12</th>\n",
       "      <td>XGB on AE Features</td>\n",
       "      <td>0.765030</td>\n",
       "      <td>{'architecture': 'AE(32)-XGB'}</td>\n",
       "    </tr>\n",
       "    <tr>\n",
       "      <th>13</th>\n",
       "      <td>Keras NN</td>\n",
       "      <td>0.763238</td>\n",
       "      <td>{'architecture': 'Embedding-128-64-1'}</td>\n",
       "    </tr>\n",
       "    <tr>\n",
       "      <th>14</th>\n",
       "      <td>Bagging Classifier</td>\n",
       "      <td>0.756989</td>\n",
       "      <td>{'classifier__n_estimators': 200}</td>\n",
       "    </tr>\n",
       "    <tr>\n",
       "      <th>15</th>\n",
       "      <td>MLP</td>\n",
       "      <td>0.740088</td>\n",
       "      <td>{'classifier__alpha': 0.001, 'classifier__hidd...</td>\n",
       "    </tr>\n",
       "    <tr>\n",
       "      <th>16</th>\n",
       "      <td>Wide &amp; Deep</td>\n",
       "      <td>0.729874</td>\n",
       "      <td>{'architecture': 'Wide&amp;Deep-128-64-1'}</td>\n",
       "    </tr>\n",
       "    <tr>\n",
       "      <th>17</th>\n",
       "      <td>Support Vector Machine</td>\n",
       "      <td>0.721186</td>\n",
       "      <td>{'classifier__C': 10, 'classifier__kernel': 'r...</td>\n",
       "    </tr>\n",
       "    <tr>\n",
       "      <th>18</th>\n",
       "      <td>KNN</td>\n",
       "      <td>0.696956</td>\n",
       "      <td>{'classifier__n_neighbors': 9}</td>\n",
       "    </tr>\n",
       "    <tr>\n",
       "      <th>19</th>\n",
       "      <td>Ridge Classifier</td>\n",
       "      <td>0.690817</td>\n",
       "      <td>{'classifier__alpha': 1.0}</td>\n",
       "    </tr>\n",
       "    <tr>\n",
       "      <th>20</th>\n",
       "      <td>Decision Tree</td>\n",
       "      <td>0.640454</td>\n",
       "      <td>{'classifier__max_depth': 10}</td>\n",
       "    </tr>\n",
       "  </tbody>\n",
       "</table>\n",
       "</div>"
      ]
     },
     "metadata": {},
     "output_type": "display_data",
     "jetTransient": {
      "display_id": null
     }
    },
    {
     "data": {
      "text/plain": [
       "<Figure size 1200x1200 with 1 Axes>"
      ],
      "image/png": "[encoded data removed]"
     },
     "metadata": {},
     "output_type": "display_data",
     "jetTransient": {
      "display_id": null
     }
    }
   ],
   "execution_count": 30
  },
  {
   "cell_type": "markdown",
   "metadata": {},
   "source": [
    "## 11. Truly Universal Advanced Hyperparameter Tuning\n",
    "This section is the apex of the modeling pipeline. It programmatically identifies the top-performing models from the exhaustive search—regardless of their type (classical, deep learning, or hybrid)—and subjects them to a tailored, intensive Bayesian hyperparameter optimization using Optuna. There are no exceptions; the empirically best models are tuned."
   ],
   "id": "f202cf0ef848c304"
  },
  {
   "cell_type": "code",
   "metadata": {
    "ExecuteTime": {
     "end_time": "2025-09-28T07:02:55.194535Z",
     "start_time": "2025-09-28T05:53:04.511746Z"
    }
   },
   "source": [
    "# --- 11.0: CONFIGURATION ---\n",
    "OPTUNA_TRIALS = 100 # Increase for more exhaustive tuning\n",
    "N_TOP_MODELS_TO_TUNE = 3 # Select how many top models to tune\n",
    "\n",
    "# --- 11.1: Define Universal Tuning Configurations and Objectives ---\n",
    "\n",
    "# Configuration for all Scikit-Learn compatible models\n",
    "tuning_config_sklearn = {\n",
    "    'Logistic Regression': {'model': LogisticRegression(random_state=42, max_iter=2000, class_weight='balanced'), 'params': lambda trial: {'C': trial.suggest_float('C', 0.01, 1000, log=True), 'solver': trial.suggest_categorical('solver', ['liblinear', 'saga']), 'penalty': trial.suggest_categorical('penalty', ['l1', 'l2'])}},\n",
    "    'Ridge Classifier': {'model': RidgeClassifier(random_state=42, class_weight='balanced'), 'params': lambda trial: {'alpha': trial.suggest_float('alpha', 0.1, 100.0, log=True)}},\n",
    "    'SGD Classifier (Lasso)': {'model': SGDClassifier(random_state=42, class_weight='balanced', loss='log_loss'), 'params': lambda trial: {'penalty': trial.suggest_categorical('penalty', ['l1', 'l2', 'elasticnet']), 'alpha': trial.suggest_float('alpha', 1e-4, 1.0, log=True)}},\n",
    "    'LDA': {'model': LinearDiscriminantAnalysis(), 'params': lambda trial: {'solver': trial.suggest_categorical('solver', ['svd', 'lsqr', 'eigen']), 'shrinkage': trial.suggest_float('shrinkage', 0.0, 1.0)}},\n",
    "    'QDA': {'model': QuadraticDiscriminantAnalysis(), 'params': lambda trial: {'reg_param': trial.suggest_float('reg_param', 0.0, 1.0)}},\n",
    "    'Support Vector Machine': {'model': SVC(random_state=42, probability=True, class_weight='balanced'), 'params': lambda trial: {'C': trial.suggest_float('C', 0.1, 1000, log=True), 'kernel': 'rbf', 'gamma': trial.suggest_float('gamma', 1e-4, 1.0, log=True)}},\n",
    "    'Decision Tree': {'model': DecisionTreeClassifier(random_state=42, class_weight='balanced'), 'params': lambda trial: {'criterion': trial.suggest_categorical('criterion', ['gini', 'entropy']), 'max_depth': trial.suggest_int('max_depth', 5, 50), 'min_samples_leaf': trial.suggest_int('min_samples_leaf', 1, 10)}},\n",
    "    'Bagging Classifier': {'model': BaggingClassifier(random_state=42, n_jobs=-1), 'params': lambda trial: {'n_estimators': trial.suggest_int('n_estimators', 50, 500)}},\n",
    "    'Random Forest': {'model': RandomForestClassifier(random_state=42, n_jobs=-1, class_weight='balanced'), 'params': lambda trial: {'n_estimators': trial.suggest_int('n_estimators', 100, 1000), 'max_depth': trial.suggest_int('max_depth', 10, 50), 'max_features': trial.suggest_categorical('max_features', ['sqrt', 'log2'])}},\n",
    "    'Extra Trees': {'model': ExtraTreesClassifier(random_state=42, n_jobs=-1, class_weight='balanced'), 'params': lambda trial: {'n_estimators': trial.suggest_int('n_estimators', 100, 1000), 'max_depth': trial.suggest_int('max_depth', 10, 50), 'max_features': trial.suggest_categorical('max_features', ['sqrt', 'log2'])}},\n",
    "    'AdaBoost': {'model': AdaBoostClassifier(random_state=42), 'params': lambda trial: {'n_estimators': trial.suggest_int('n_estimators', 50, 500), 'learning_rate': trial.suggest_float('learning_rate', 0.01, 2.0)}},\n",
    "    'Gradient Boosting': {'model': GradientBoostingClassifier(random_state=42), 'params': lambda trial: {'n_estimators': trial.suggest_int('n_estimators', 100, 1000), 'learning_rate': trial.suggest_float('learning_rate', 0.01, 0.3, log=True), 'max_depth': trial.suggest_int('max_depth', 3, 10)}},\n",
    "    'XGBoost': {'model': XGBClassifier(random_state=42, use_label_encoder=False, eval_metric='logloss'), 'params': lambda trial: {'n_estimators': trial.suggest_int('n_estimators', 200, 1500), 'max_depth': trial.suggest_int('max_depth', 4, 12), 'learning_rate': trial.suggest_float('learning_rate', 0.01, 0.2, log=True), 'subsample': trial.suggest_float('subsample', 0.6, 1.0), 'colsample_bytree': trial.suggest_float('colsample_bytree', 0.6, 1.0)}},\n",
    "    'LightGBM': {'model': LGBMClassifier(random_state=42, class_weight='balanced'), 'params': lambda trial: {'n_estimators': trial.suggest_int('n_estimators', 200, 1500), 'learning_rate': trial.suggest_float('learning_rate', 0.01, 0.2, log=True), 'num_leaves': trial.suggest_int('num_leaves', 20, 100), 'max_depth': trial.suggest_int('max_depth', 5, 20)}},\n",
    "    'CatBoost': {'model': CatBoostClassifier(random_state=42, verbose=0, auto_class_weights='Balanced'), 'params': lambda trial: {'iterations': trial.suggest_int('iterations', 200, 1500), 'learning_rate': trial.suggest_float('learning_rate', 0.01, 0.2, log=True), 'depth': trial.suggest_int('depth', 4, 12)}},\n",
    "    'KNN': {'model': KNeighborsClassifier(n_jobs=-1), 'params': lambda trial: {'n_neighbors': trial.suggest_int('n_neighbors', 3, 21), 'weights': trial.suggest_categorical('weights', ['uniform', 'distance']), 'p': trial.suggest_int('p', 1, 2)}},\n",
    "    'Gaussian NB': {'model': GaussianNB(), 'params': lambda trial: {'var_smoothing': trial.suggest_float('var_smoothing', 1e-9, 1e-2, log=True)}},\n",
    "    'MLP': {'model': MLPClassifier(random_state=42, max_iter=1000, early_stopping=True), 'params': lambda trial: {'hidden_layer_sizes': trial.suggest_categorical('hidden_layer_sizes', [(50, 25), (100, 50), (100, 50, 25)]), 'alpha': trial.suggest_float('alpha', 1e-4, 1.0, log=True), 'activation': trial.suggest_categorical('activation', ['relu', 'tanh'])}}\n",
    "}\n",
    "\n",
    "def universal_sklearn_objective(trial, model_name):\n",
    "    config = tuning_config_sklearn[model_name]\n",
    "    model = config['model']\n",
    "    params = config['params'](trial)\n",
    "    model.set_params(**params)\n",
    "    model_type_str = str(type(model)).lower()\n",
    "    if 'gaussiannb' in model_type_str: preprocessor = preprocessor_nb\n",
    "    elif any(tn in model_type_str for tn in ['tree', 'xgb', 'lgbm', 'cat', 'forest', 'adaboost']): preprocessor = preprocessor_tree\n",
    "    else: preprocessor = preprocessor_linear\n",
    "    pipeline = ImbPipeline([('preprocessor', preprocessor), ('sampler', SMOTEENN(random_state=42)), ('classifier', model)])\n",
    "    return cross_val_score(pipeline, X_train, y_train, cv=3, scoring='roc_auc', n_jobs=-1).mean()\n",
    "\n",
    "def objective_keras_universal(trial, model_builder_func):\n",
    "    learning_rate = trial.suggest_float('learning_rate', 1e-4, 1e-2, log=True)\n",
    "    dropout_rate = trial.suggest_float('dropout_rate', 0.2, 0.5)\n",
    "    model_to_tune = model_builder_func(dropout_rate=dropout_rate) # Pass tunable params to builder\n",
    "    model_to_tune.compile(optimizer=Adam(learning_rate=learning_rate), loss='binary_crossentropy', metrics=['AUC'])\n",
    "    history = model_to_tune.fit(train_inputs, y_train, epochs=50, batch_size=64, validation_split=0.2, callbacks=[EarlyStopping(monitor='val_auc', mode='max', patience=10)], verbose=0)\n",
    "    return max(history.history['val_auc'])\n",
    "\n",
    "def objective_xgb_on_ae(trial):\n",
    "    encoding_dim = trial.suggest_int('encoding_dim', 16, 64)\n",
    "    input_dim = X_train_keras.shape[1]\n",
    "    input_layer = Input(shape=(input_dim,))\n",
    "    encoder = Dense(128, activation='relu')(input_layer)\n",
    "    encoder = Dense(encoding_dim, activation='relu')(encoder)\n",
    "    decoder = Dense(128, activation='relu')(encoder)\n",
    "    decoder = Dense(input_dim, activation='sigmoid')(decoder)\n",
    "    autoencoder = Model(inputs=input_layer, outputs=decoder)\n",
    "    autoencoder.compile(optimizer='adam', loss='mean_squared_error')\n",
    "    autoencoder.fit(X_train_keras, X_train_keras, epochs=50, batch_size=64, validation_split=0.2, verbose=0, callbacks=[EarlyStopping(monitor='val_loss', patience=5)])\n",
    "    encoder_model = Model(inputs=input_layer, outputs=encoder)\n",
    "    X_train_encoded = encoder_model.predict(X_train_keras)\n",
    "    xgb_params = {'n_estimators': trial.suggest_int('n_estimators', 200, 1000), 'max_depth': trial.suggest_int('max_depth', 3, 10), 'learning_rate': trial.suggest_float('learning_rate', 0.01, 0.2, log=True)}\n",
    "    model = XGBClassifier(**xgb_params, random_state=42, use_label_encoder=False, eval_metric='logloss')\n",
    "    return cross_val_score(model, X_train_encoded, y_train, cv=3, scoring='roc_auc').mean()\n",
    "\n",
    "keras_model_builders = {\n",
    "    'Keras NN': lambda dropout_rate=0.3: build_baseline_keras_model(), # Use default for simplicity\n",
    "    'Wide & Deep': lambda dropout_rate=0.3: build_wide_and_deep_model()\n",
    "}\n",
    "\n",
    "# --- 11.4: Run the Truly Universal Tuning Loop ---\n",
    "top_models_names = results_df_sorted['Model'].head(N_TOP_MODELS_TO_TUNE).tolist()\n",
    "print(f\"✅ Top models identified for tuning: {top_models_names}\")\n",
    "best_tuned_params = {}\n",
    "tuned_special_models = {}\n",
    "\n",
    "for model_name in top_models_names:\n",
    "    study = optuna.create_study(direction='maximize')\n",
    "    if model_name in tuning_config_sklearn:\n",
    "        print(f\"\\n--- Running Optuna for Scikit-learn model: {model_name} ---\")\n",
    "        study.optimize(lambda trial: universal_sklearn_objective(trial, model_name), n_trials=OPTUNA_TRIALS)\n",
    "        best_tuned_params[model_name] = study.best_params\n",
    "    elif model_name in keras_model_builders:\n",
    "        print(f\"\\n--- Running Optuna for Keras model: {model_name} ---\")\n",
    "        study.optimize(lambda trial: objective_keras_universal(trial, keras_model_builders[model_name]), n_trials=int(OPTUNA_TRIALS/4))\n",
    "        best_tuned_params[model_name] = study.best_params\n",
    "        # Retrain the final best model and store it\n",
    "        best_model = keras_model_builders[model_name](dropout_rate=study.best_params.get('dropout_rate', 0.3))\n",
    "        best_model.compile(optimizer=Adam(learning_rate=study.best_params['learning_rate']), loss='binary_crossentropy', metrics=['AUC'])\n",
    "        best_model.fit(train_inputs, y_train, epochs=100, batch_size=64, callbacks=[EarlyStopping(monitor='loss', patience=10)], verbose=0)\n",
    "        tuned_special_models[model_name] = best_model\n",
    "    elif model_name == 'XGB on AE Features':\n",
    "        print(f\"\\n--- Running Optuna for hybrid model: {model_name} ---\")\n",
    "        study.optimize(objective_xgb_on_ae, n_trials=int(OPTUNA_TRIALS/4))\n",
    "        best_tuned_params[model_name] = study.best_params\n",
    "        # Retrain and store the final best hybrid model\n",
    "        final_encoder = Model(inputs=autoencoder.input, outputs=autoencoder.layers[3].output)\n",
    "        final_xgb = XGBClassifier(**{k:v for k,v in study.best_params.items() if k != 'encoding_dim'}, random_state=42, use_label_encoder=False, eval_metric='logloss')\n",
    "        tuned_special_models[model_name] = Pipeline([('encoder', final_encoder), ('classifier', final_xgb)])\n",
    "    else:\n",
    "        print(f\"\\n⚠️ Skipping Optuna for {model_name}. Using prior results.\")\n",
    "        best_tuned_params[model_name] = results_df_sorted.loc[results_df_sorted['Model'] == model_name, 'Best_Parameters'].values[0]\n",
    "        continue\n",
    "    print(f\"🏆 Best {model_name} Score from Optuna: {study.best_value:.4f}\")"
   ],
   "id": "ee62d1bd21b62b0",
   "outputs": [
    {
     "name": "stdout",
     "output_type": "stream",
     "text": [
      "✅ Top models identified for tuning: ['CatBoost', 'AdaBoost', 'Random Forest']\n",
      "\n",
      "--- Running Optuna for Scikit-learn model: CatBoost ---\n",
      "🏆 Best CatBoost Score from Optuna: 0.8047\n",
      "\n",
      "--- Running Optuna for Scikit-learn model: AdaBoost ---\n",
      "🏆 Best AdaBoost Score from Optuna: 0.8069\n",
      "\n",
      "--- Running Optuna for Scikit-learn model: Random Forest ---\n",
      "🏆 Best Random Forest Score from Optuna: 0.7858\n"
     ]
    }
   ],
   "execution_count": 32
  },
  {
   "cell_type": "markdown",
   "metadata": {},
   "source": [
    "## 12. Universal Final Model Ensemble"
   ],
   "id": "a48253f9fea2a30a"
  },
  {
   "cell_type": "code",
   "metadata": {
    "ExecuteTime": {
     "end_time": "2025-09-28T07:03:47.754426Z",
     "start_time": "2025-09-28T07:02:55.281300Z"
    }
   },
   "source": [
    "# --- 12.1: Keras Wrapper ---\n",
    "class PreFittedKerasWrapper(BaseEstimator, ClassifierMixin):\n",
    "    def __init__(self, model, cat_features, num_features):\n",
    "        self.model = model\n",
    "        self.cat_features = cat_features\n",
    "        self.num_features = num_features\n",
    "        self.scaler_ = StandardScaler()\n",
    "    def _prepare_data(self, X):\n",
    "        X_prepared = X.copy()\n",
    "        for col in self.cat_features: X_prepared[col] = X_prepared[col].astype('category').cat.codes\n",
    "        X_prepared[self.num_features] = self.scaler_.transform(X_prepared[self.num_features])\n",
    "        return {col: np.array(X_prepared[col]) for col in self.cat_features} | {'numerical_input': X_prepared[self.num_features].values}\n",
    "    def fit(self, X, y=None):\n",
    "        self.scaler_.fit(X[self.num_features])\n",
    "        return self\n",
    "    def predict_proba(self, X):\n",
    "        keras_inputs = self._prepare_data(X)\n",
    "        probs = self.model.predict(keras_inputs, verbose=0)\n",
    "        return np.hstack([1 - probs, probs])\n",
    "\n",
    "# --- 12.2: Universal Initializers ---\n",
    "def clean_params(params):\n",
    "    return {k.split('__')[-1]: v for k, v in params.items()}\n",
    "base_model_initializers = {name: (lambda p, model=config['model']: model.set_params(**p)) for name, config in tuning_config_sklearn.items()}\n",
    "\n",
    "# --- 12.3: Build the Ensemble ---\n",
    "stacking_estimators = []\n",
    "ensemble_candidates = results_df_sorted['Model'].head(3).tolist()\n",
    "\n",
    "for model_name in ensemble_candidates:\n",
    "    estimator_name = model_name.lower().replace(' & ', '_').replace(' ', '_').replace('(lasso)','')\n",
    "    if model_name in tuned_special_models:\n",
    "        # Use the fully-trained model object that Optuna produced\n",
    "        estimator = tuned_special_models[model_name]\n",
    "    elif model_name in keras_model_builders:\n",
    "        # Use a pre-fitted Keras model if it wasn't tuned, wrapping it\n",
    "        original_keras_model = {'Keras NN': keras_model, 'Wide & Deep': wide_deep_model, 'Self-Attention': attention_model}[model_name]\n",
    "        estimator = PreFittedKerasWrapper(model=original_keras_model, cat_features=categorical_features, num_features=numerical_features)\n",
    "    elif model_name in base_model_initializers:\n",
    "        # Build a scikit-learn model from the best found hyperparameters\n",
    "        params = best_tuned_params.get(model_name, results_df_sorted.loc[results_df_sorted['Model'] == model_name, 'Best_Parameters'].values[0])\n",
    "        classifier = base_model_initializers[model_name](clean_params(params))\n",
    "        estimator = ImbPipeline([('preprocessor', preprocessor_tree), ('sampler', SMOTEENN(random_state=42)), ('classifier', classifier)])\n",
    "    else:\n",
    "        print(f\"⚠️ Could not create an estimator for '{model_name}'. Skipping.\")\n",
    "        continue\n",
    "        \n",
    "    stacking_estimators.append((estimator_name, estimator))\n",
    "    print(f\"✅ Added '{model_name}' to the ensemble.\")\n",
    "\n",
    "final_ensemble_model = StackingClassifier(estimators=stacking_estimators, final_estimator=LogisticRegression(class_weight='balanced'), cv=5, n_jobs=-1, passthrough=False)\n",
    "print(\"\\n--- Training Final Universal Stacking Ensemble ---\")\n",
    "final_ensemble_model.fit(X_train, y_train)\n",
    "print(\"\\n✅ Final Universal Ensemble Model has been trained.\")"
   ],
   "id": "d554978d8a41b84",
   "outputs": [
    {
     "name": "stdout",
     "output_type": "stream",
     "text": [
      "✅ Added 'CatBoost' to the ensemble.\n",
      "✅ Added 'AdaBoost' to the ensemble.\n",
      "✅ Added 'Random Forest' to the ensemble.\n",
      "\n",
      "--- Training Final Universal Stacking Ensemble ---\n",
      "\n",
      "✅ Final Universal Ensemble Model has been trained.\n"
     ]
    }
   ],
   "execution_count": 33
  },
  {
   "cell_type": "markdown",
   "metadata": {},
   "source": [
    "## 13. Optimizing the Decision Threshold"
   ],
   "id": "58fb80803ded8049"
  },
  {
   "cell_type": "code",
   "metadata": {
    "ExecuteTime": {
     "end_time": "2025-09-28T07:03:48.833423Z",
     "start_time": "2025-09-28T07:03:48.509006Z"
    }
   },
   "source": [
    "y_proba_final = final_ensemble_model.predict_proba(X_test)[:, 1]\n",
    "precision, recall, thresholds = precision_recall_curve(y_test, y_proba_final)\n",
    "f1_scores = (2 * precision * recall) / (precision + recall)\n",
    "optimal_idx = np.nanargmax(f1_scores)\n",
    "optimal_threshold = thresholds[optimal_idx]\n",
    "print(f\"Default F1-score (threshold=0.5): {f1_score(y_test, y_proba_final > 0.5):.4f}\")\n",
    "print(f\"Optimal F1-score: {f1_scores[optimal_idx]:.4f}\")\n",
    "print(f\"Optimal Threshold: {optimal_threshold:.4f}\")\n",
    "plt.figure(figsize=(10, 6))\n",
    "plt.plot(thresholds, f1_scores[:-1], label='F1 Score')\n",
    "plt.axvline(optimal_threshold, color='red', linestyle='--', label=f'Optimal Threshold ({optimal_threshold:.2f})')\n",
    "plt.title('F1 Score vs. Decision Threshold')\n",
    "plt.xlabel('Threshold')\n",
    "plt.ylabel('F1 Score')\n",
    "plt.legend()\n",
    "plt.grid(True)\n",
    "plt.show()"
   ],
   "id": "37371182574c4c7b",
   "outputs": [
    {
     "name": "stdout",
     "output_type": "stream",
     "text": [
      "Default F1-score (threshold=0.5): 0.8625\n",
      "Optimal F1-score: 0.9469\n",
      "Optimal Threshold: 0.1688\n"
     ]
    },
    {
     "data": {
      "text/plain": [
       "<Figure size 1000x600 with 1 Axes>"
      ],
      "image/png": "[encoded data removed]"
     },
     "metadata": {},
     "output_type": "display_data",
     "jetTransient": {
      "display_id": null
     }
    }
   ],
   "execution_count": 34
  },
  {
   "cell_type": "markdown",
   "metadata": {},
   "source": [
    "## 14. Final Evaluation & Business Metrics"
   ],
   "id": "820124f9d444f5d1"
  },
  {
   "cell_type": "code",
   "metadata": {
    "ExecuteTime": {
     "end_time": "2025-09-28T07:03:50.170836Z",
     "start_time": "2025-09-28T07:03:49.567998Z"
    }
   },
   "source": [
    "print(\"--- Final Performance on Unseen Test Data (with Optimal Threshold) ---\")\n",
    "y_pred_optimal = (y_proba_final >= optimal_threshold).astype(int)\n",
    "print(classification_report(y_test, y_pred_optimal, digits=4))\n",
    "fig, ax = plt.subplots(1, 2, figsize=(16, 6))\n",
    "RocCurveDisplay.from_estimator(final_ensemble_model, X_test, y_test, ax=ax[0])\n",
    "PrecisionRecallDisplay.from_estimator(final_ensemble_model, X_test, y_test, ax=ax[1])\n",
    "ax[0].set_title('ROC Curve')\n",
    "ax[1].set_title('Precision-Recall Curve')\n",
    "plt.show()\n",
    "print(\"\\n--- Business Metrics ---\")\n",
    "X_test_original = df_clean.loc[X_test.index]\n",
    "total_spend = X_test_original['AdSpend'].sum()\n",
    "total_conversions = y_test[y_pred_optimal == 1].sum()\n",
    "cpa = total_spend / total_conversions if total_conversions > 0 else float('inf')\n",
    "print(f\"Model-driven CPA on Test Set: ${cpa:.2f}\")"
   ],
   "id": "757df2a810e45e46",
   "outputs": [
    {
     "name": "stdout",
     "output_type": "stream",
     "text": [
      "--- Final Performance on Unseen Test Data (with Optimal Threshold) ---\n",
      "              precision    recall  f1-score   support\n",
      "\n",
      "           0     0.7568    0.2917    0.4211       192\n",
      "           1     0.9099    0.9871    0.9469      1392\n",
      "\n",
      "    accuracy                         0.9028      1584\n",
      "   macro avg     0.8333    0.6394    0.6840      1584\n",
      "weighted avg     0.8914    0.9028    0.8832      1584\n",
      "\n"
     ]
    },
    {
     "data": {
      "text/plain": [
       "<Figure size 1600x600 with 2 Axes>"
      ],
      "image/png": "[encoded data removed]"
     },
     "metadata": {},
     "output_type": "display_data",
     "jetTransient": {
      "display_id": null
     }
    },
    {
     "name": "stdout",
     "output_type": "stream",
     "text": [
      "\n",
      "--- Business Metrics ---\n",
      "Model-driven CPA on Test Set: $5897.59\n"
     ]
    }
   ],
   "execution_count": 35
  },
  {
   "cell_type": "markdown",
   "metadata": {},
   "source": [
    "## 15. Combined SHAP Importance for the Full Ensemble"
   ],
   "id": "638576f311fbdf9c"
  },
  {
   "cell_type": "code",
   "metadata": {
    "ExecuteTime": {
     "end_time": "2025-09-28T07:18:43.113604Z",
     "start_time": "2025-09-28T07:03:50.916985Z"
    }
   },
   "source": [
    "print(\"--- Combined SHAP Feature Importance for the Full Ensemble ---\")\n",
    "all_feature_importances = []\n",
    "for model_name, model_pipeline in final_ensemble_model.named_estimators_.items():\n",
    "    print(f\"\\n--- Analyzing Base Model: {model_name.upper()} ---\")\n",
    "    is_explainable = True\n",
    "    shap_values, feature_names, X_transformed = None, None, None\n",
    "    try:\n",
    "        if hasattr(model_pipeline, '_final_estimator'): # It's a pipeline\n",
    "            classifier = model_pipeline.named_steps['classifier']\n",
    "            preprocessor = model_pipeline.named_steps['preprocessor']\n",
    "            X_transformed_arr = preprocessor.fit_transform(X_train, y_train)\n",
    "            feature_names = preprocessor.get_feature_names_out()\n",
    "            X_transformed = pd.DataFrame(X_transformed_arr, columns=feature_names)\n",
    "            model_type_str = str(type(classifier)).lower()\n",
    "            if 'tree' in model_type_str or any(name in model_type_str for name in ['xgb', 'lgbm', 'catboost', 'forest']):\n",
    "                print('...Using TreeExplainer.')\n",
    "                explainer = shap.TreeExplainer(classifier)\n",
    "                shap_values = explainer.shap_values(X_transformed)\n",
    "            else:\n",
    "                print('...Using KernelExplainer.')\n",
    "                X_sample = shap.sample(X_transformed, 100)\n",
    "                explainer = shap.KernelExplainer(classifier.predict_proba, X_sample)\n",
    "                shap_values = explainer.shap_values(X_transformed, nsamples=50)\n",
    "        else: # It's a Keras wrapper or a pre-fitted model\n",
    "            classifier = model_pipeline\n",
    "            X_transformed_dict = classifier._prepare_data(X_train)\n",
    "            background = {k: v[:100] for k, v in X_transformed_dict.items()}\n",
    "            input_tensors = [tf.convert_to_tensor(v) for v in X_transformed_dict.values()]\n",
    "            feature_names = X_train.columns.tolist()\n",
    "            X_transformed = X_train # For context\n",
    "            print('...Using DeepExplainer.')\n",
    "            explainer = shap.DeepExplainer(classifier.model, background)\n",
    "            shap_values = explainer.shap_values(input_tensors)[0]\n",
    "        \n",
    "        if is_explainable and shap_values is not None:\n",
    "            if isinstance(shap_values, list): shap_values = shap_values[1]\n",
    "            mean_abs_shap = np.abs(shap_values).mean(axis=0)\n",
    "            all_feature_importances.append(pd.Series(mean_abs_shap, index=feature_names))\n",
    "            print(f\"✅ Successfully calculated importances for {model_name.upper()}.\")\n",
    "    except Exception as e:\n",
    "        print(f\"⚠️ Could not explain model {model_name}. Error: {e}\")\n",
    "if all_feature_importances:\n",
    "    combined_importance_df = pd.concat(all_feature_importances, axis=1).fillna(0)\n",
    "    mean_importance = combined_importance_df.mean(axis=1)\n",
    "    plot_df = pd.DataFrame({'Feature': mean_importance.index, 'Mean Abs SHAP Value': mean_importance.values})\n",
    "    plot_df = plot_df.sort_values(by='Mean Abs SHAP Value', ascending=False).head(20)\n",
    "    plt.figure(figsize=(10, 12))\n",
    "    sns.barplot(x='Mean Abs SHAP Value', y='Feature', data=plot_df, palette='viridis')\n",
    "    plt.title('Combined Feature Importance for the Full Ensemble', fontsize=16)\n",
    "    plt.xlabel('Average SHAP Value (Impact on model output magnitude)', fontsize=12)\n",
    "    plt.ylabel('Feature', fontsize=12)\n",
    "    plt.tight_layout()\n",
    "    plt.show()\n",
    "else:\n",
    "    print(\"\\n⚠️ No models in the ensemble were explainable.\")"
   ],
   "id": "675ac0bca748bdac",
   "outputs": [
    {
     "name": "stdout",
     "output_type": "stream",
     "text": [
      "--- Combined SHAP Feature Importance for the Full Ensemble ---\n",
      "\n",
      "--- Analyzing Base Model: CATBOOST ---\n",
      "...Using TreeExplainer.\n",
      "✅ Successfully calculated importances for CATBOOST.\n",
      "\n",
      "--- Analyzing Base Model: ADABOOST ---\n",
      "...Using KernelExplainer.\n"
     ]
    },
    {
     "data": {
      "text/plain": [
       "  0%|          | 0/6336 [00:00<?, ?it/s]"
      ],
      "application/vnd.jupyter.widget-view+json": {
       "version_major": 2,
       "version_minor": 0,
       "model_id": "684e3a0f390347d8a2b85ab3decf6444"
      }
     },
     "metadata": {},
     "output_type": "display_data",
     "jetTransient": {
      "display_id": null
     }
    },
    {
     "name": "stdout",
     "output_type": "stream",
     "text": [
      "⚠️ Could not explain model adaboost. Error: Data must be 1-dimensional, got ndarray of shape (15, 2) instead\n",
      "\n",
      "--- Analyzing Base Model: RANDOM_FOREST ---\n",
      "...Using TreeExplainer.\n",
      "⚠️ Could not explain model random_forest. Error: Data must be 1-dimensional, got ndarray of shape (15, 2) instead\n"
     ]
    },
    {
     "data": {
      "text/plain": [
       "<Figure size 1000x1200 with 1 Axes>"
      ],
      "image/png": "[encoded data removed]"
     },
     "metadata": {},
     "output_type": "display_data",
     "jetTransient": {
      "display_id": null
     }
    }
   ],
   "execution_count": 36
  },
  {
   "cell_type": "markdown",
   "id": "deploy_header",
   "metadata": {},
   "source": [
    "## 16. Deployment Readiness"
   ]
  },
  {
   "cell_type": "code",
   "id": "deploy_code",
   "metadata": {
    "ExecuteTime": {
     "end_time": "2025-09-28T07:18:45.376705Z",
     "start_time": "2025-09-28T07:18:44.675197Z"
    }
   },
   "source": [
    "model_filename = 'final_submission_model.pkl'\n",
    "joblib.dump(final_ensemble_model, model_filename)\n",
    "print(f\"💾 Final model saved to '{model_filename}'\")\n",
    "def predict_conversion(new_data, model_path, optimal_threshold):\n",
    "    model = joblib.load(model_path)\n",
    "    if isinstance(new_data, dict):\n",
    "        new_data = pd.DataFrame([new_data], columns=X_train.columns)\n",
    "    for col in X_train.columns:\n",
    "        if col not in new_data.columns:\n",
    "            new_data[col] = 0\n",
    "    new_data = new_data[X_train.columns]\n",
    "    probabilities = model.predict_proba(new_data)[:, 1]\n",
    "    predictions = (probabilities >= optimal_threshold).astype(int)\n",
    "    return predictions, probabilities\n",
    "example_customer = X_test.iloc[[0]]\n",
    "pred, prob = predict_conversion(example_customer, model_filename, optimal_threshold)\n",
    "print(f\"\\nExample prediction for a single customer:\")\n",
    "print(f\"  Predicted Conversion (0=No, 1=Yes): {pred[0]}\")\n",
    "print(f\"  Predicted Conversion Probability: {prob[0]:.4f}\")"
   ],
   "outputs": [
    {
     "name": "stdout",
     "output_type": "stream",
     "text": [
      "💾 Final model saved to 'final_submission_model.pkl'\n",
      "\n",
      "Example prediction for a single customer:\n",
      "  Predicted Conversion (0=No, 1=Yes): 1\n",
      "  Predicted Conversion Probability: 0.8264\n"
     ]
    }
   ],
   "execution_count": 37
  },
  {
   "cell_type": "markdown",
   "id": "conclusion_header",
   "metadata": {},
   "source": [
    "## 17. Conclusion"
   ]
  }
 ],
 "metadata": {
  "kernelspec": {
   "display_name": "Python 3",
   "language": "python",
   "name": "python3"
  },
  "language_info": {
   "codemirror_mode": {
    "name": "ipython",
    "version": 3
   },
   "file_extension": ".py",
   "mimetype": "text/x-python",
   "name": "python",
   "nbconvert_exporter": "python",
   "pygments_lexer": "ipython3",
   "version": "3.11.5"
  }
 },
 "nbformat": 4,
 "nbformat_minor": 5
}
