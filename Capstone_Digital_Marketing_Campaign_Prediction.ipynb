{
 "cells": [
  {
   "cell_type": "markdown",
   "metadata": {},
   "source": [
    "# <p style=\"background-color:#003366; font-family:calibri; color:white; font-size:150%; text-align:center; border-radius:15px 50px;\">Capstone Project | Digital Marketing Campaign Conversion Prediction</p>"
   ],
   "id": "c0d50b7a60d39d4c"
  },
  {
   "cell_type": "markdown",
   "metadata": {},
   "source": [
    "### **Author:** Sanyam Sanjay Sharma\n",
    "### **Date:** 24th September 2025"
   ],
   "id": "84683ec5e50b6d50"
  },
  {
   "cell_type": "markdown",
   "metadata": {},
   "source": [
    "<img src=\"https://images.unsplash.com/photo-1557862921-37829c790f19?q=80&w=2071&auto=format&fit=crop\" width=\"1800\">"
   ],
   "id": "522c02634c354c76"
  },
  {
   "cell_type": "markdown",
   "metadata": {},
   "source": [
    "## **1. Library Imports**\n",
    "\n",
    "**Metadata Comment:** This cell imports all necessary Python libraries for the project. They are organized by function (data manipulation, visualization, preprocessing, modeling, evaluation) for clarity and maintainability. This is the foundational step for any data science workflow."
   ],
   "id": "7649ce1d1fba4d0c"
  },
  {
   "cell_type": "code",
   "metadata": {
    "ExecuteTime": {
     "end_time": "2025-09-24T16:26:03.079546Z",
     "start_time": "2025-09-24T16:26:03.067962Z"
    }
   },
   "source": [
    "# === Core Libraries for Data Handling and Analysis ===\n",
    "import pandas as pd\n",
    "import numpy as np\n",
    "import time\n",
    "\n",
    "# === Libraries for Data Visualization ===\n",
    "import seaborn as sns\n",
    "import matplotlib.pyplot as plt\n",
    "sns.set_style(\"whitegrid\")\n",
    "\n",
    "# === Libraries for Data Preprocessing and Feature Engineering ===\n",
    "from sklearn.preprocessing import StandardScaler, OneHotEncoder\n",
    "from sklearn.compose import ColumnTransformer\n",
    "from sklearn.pipeline import Pipeline\n",
    "from imblearn.pipeline import Pipeline as ImbPipeline\n",
    "from imblearn.over_sampling import SMOTE\n",
    "from imblearn.ensemble import RUSBoostClassifier\n",
    "\n",
    "# === Libraries for Model Selection, Tuning, and Evaluation ===\n",
    "from sklearn.model_selection import train_test_split, GridSearchCV\n",
    "from sklearn.metrics import classification_report, confusion_matrix, accuracy_score, roc_auc_score, roc_curve\n",
    "\n",
    "# === Machine Learning Models (Importing all specified candidates) ===\n",
    "from sklearn.linear_model import LogisticRegression, RidgeClassifier, SGDClassifier\n",
    "from sklearn.svm import SVC\n",
    "from sklearn.tree import DecisionTreeClassifier\n",
    "from sklearn.ensemble import (\n",
    "    RandomForestClassifier,\n",
    "    ExtraTreesClassifier,\n",
    "    BaggingClassifier,\n",
    "    GradientBoostingClassifier,\n",
    "    AdaBoostClassifier,\n",
    "    IsolationForest,\n",
    "    VotingClassifier\n",
    ")\n",
    "from xgboost import XGBClassifier\n",
    "from lightgbm import LGBMClassifier\n",
    "from catboost import CatBoostClassifier\n",
    "from sklearn.naive_bayes import GaussianNB, BernoulliNB, ComplementNB\n",
    "from sklearn.neighbors import KNeighborsClassifier\n",
    "from sklearn.discriminant_analysis import LinearDiscriminantAnalysis, QuadraticDiscriminantAnalysis\n",
    "from sklearn.neural_network import MLPClassifier\n",
    "\n",
    "# === Model Persistence ===\n",
    "import joblib\n",
    "\n",
    "# === Utility ===\n",
    "import warnings\n",
    "warnings.filterwarnings('ignore')\n",
    "\n",
    "print(\"✅ All libraries imported successfully.\")"
   ],
   "id": "6c01ce2db2290690",
   "outputs": [
    {
     "name": "stdout",
     "output_type": "stream",
     "text": [
      "✅ All libraries imported successfully.\n"
     ]
    }
   ],
   "execution_count": 32
  },
  {
   "cell_type": "markdown",
   "metadata": {},
   "source": [
    "## **2. Data Loading and Initial Cleaning**\n",
    "\n",
    "**Metadata Comment:** We load the dataset and perform initial cleaning by removing columns with no predictive value (unique IDs, constant values)."
   ],
   "id": "ba7eb7e6277a1dc6"
  },
  {
   "cell_type": "code",
   "metadata": {
    "ExecuteTime": {
     "end_time": "2025-09-24T16:26:03.200657Z",
     "start_time": "2025-09-24T16:26:03.107249Z"
    }
   },
   "source": [
    "df = pd.read_csv('digital_marketing_campaign_dataset.csv')\n",
    "useless_columns = ['CustomerID', 'AdvertisingPlatform', 'AdvertisingTool']\n",
    "df.drop(columns=useless_columns, inplace=True)\n",
    "print(\"--- Data Head After Cleaning ---\")\n",
    "display(df.head())"
   ],
   "id": "1fc9e23c45524eb1",
   "outputs": [
    {
     "name": "stdout",
     "output_type": "stream",
     "text": [
      "--- Data Head After Cleaning ---\n"
     ]
    },
    {
     "data": {
      "text/plain": [
       "   Age  Gender  Income CampaignChannel CampaignType      AdSpend  \\\n",
       "0   56  Female  136912    Social Media    Awareness  6497.870068   \n",
       "1   69    Male   41760           Email    Retention  3898.668606   \n",
       "2   46  Female   88456             PPC    Awareness  1546.429596   \n",
       "3   32  Female   44085             PPC   Conversion   539.525936   \n",
       "4   60  Female   83964             PPC   Conversion  1678.043573   \n",
       "\n",
       "   ClickThroughRate  ConversionRate  WebsiteVisits  PagesPerVisit  TimeOnSite  \\\n",
       "0          0.043919        0.088031              0       2.399017    7.396803   \n",
       "1          0.155725        0.182725             42       2.917138    5.352549   \n",
       "2          0.277490        0.076423              2       8.223619   13.794901   \n",
       "3          0.137611        0.088004             47       4.540939   14.688363   \n",
       "4          0.252851        0.109940              0       2.046847   13.993370   \n",
       "\n",
       "   SocialShares  EmailOpens  EmailClicks  PreviousPurchases  LoyaltyPoints  \\\n",
       "0            19           6            9                  4            688   \n",
       "1             5           2            7                  2           3459   \n",
       "2             0          11            2                  8           2337   \n",
       "3            89           2            2                  0           2463   \n",
       "4             6           6            6                  8           4345   \n",
       "\n",
       "   Conversion  \n",
       "0           1  \n",
       "1           1  \n",
       "2           1  \n",
       "3           1  \n",
       "4           1  "
      ],
      "text/html": [
       "<div>\n",
       "<style scoped>\n",
       "    .dataframe tbody tr th:only-of-type {\n",
       "        vertical-align: middle;\n",
       "    }\n",
       "\n",
       "    .dataframe tbody tr th {\n",
       "        vertical-align: top;\n",
       "    }\n",
       "\n",
       "    .dataframe thead th {\n",
       "        text-align: right;\n",
       "    }\n",
       "</style>\n",
       "<table border=\"1\" class=\"dataframe\">\n",
       "  <thead>\n",
       "    <tr style=\"text-align: right;\">\n",
       "      <th></th>\n",
       "      <th>Age</th>\n",
       "      <th>Gender</th>\n",
       "      <th>Income</th>\n",
       "      <th>CampaignChannel</th>\n",
       "      <th>CampaignType</th>\n",
       "      <th>AdSpend</th>\n",
       "      <th>ClickThroughRate</th>\n",
       "      <th>ConversionRate</th>\n",
       "      <th>WebsiteVisits</th>\n",
       "      <th>PagesPerVisit</th>\n",
       "      <th>TimeOnSite</th>\n",
       "      <th>SocialShares</th>\n",
       "      <th>EmailOpens</th>\n",
       "      <th>EmailClicks</th>\n",
       "      <th>PreviousPurchases</th>\n",
       "      <th>LoyaltyPoints</th>\n",
       "      <th>Conversion</th>\n",
       "    </tr>\n",
       "  </thead>\n",
       "  <tbody>\n",
       "    <tr>\n",
       "      <th>0</th>\n",
       "      <td>56</td>\n",
       "      <td>Female</td>\n",
       "      <td>136912</td>\n",
       "      <td>Social Media</td>\n",
       "      <td>Awareness</td>\n",
       "      <td>6497.870068</td>\n",
       "      <td>0.043919</td>\n",
       "      <td>0.088031</td>\n",
       "      <td>0</td>\n",
       "      <td>2.399017</td>\n",
       "      <td>7.396803</td>\n",
       "      <td>19</td>\n",
       "      <td>6</td>\n",
       "      <td>9</td>\n",
       "      <td>4</td>\n",
       "      <td>688</td>\n",
       "      <td>1</td>\n",
       "    </tr>\n",
       "    <tr>\n",
       "      <th>1</th>\n",
       "      <td>69</td>\n",
       "      <td>Male</td>\n",
       "      <td>41760</td>\n",
       "      <td>Email</td>\n",
       "      <td>Retention</td>\n",
       "      <td>3898.668606</td>\n",
       "      <td>0.155725</td>\n",
       "      <td>0.182725</td>\n",
       "      <td>42</td>\n",
       "      <td>2.917138</td>\n",
       "      <td>5.352549</td>\n",
       "      <td>5</td>\n",
       "      <td>2</td>\n",
       "      <td>7</td>\n",
       "      <td>2</td>\n",
       "      <td>3459</td>\n",
       "      <td>1</td>\n",
       "    </tr>\n",
       "    <tr>\n",
       "      <th>2</th>\n",
       "      <td>46</td>\n",
       "      <td>Female</td>\n",
       "      <td>88456</td>\n",
       "      <td>PPC</td>\n",
       "      <td>Awareness</td>\n",
       "      <td>1546.429596</td>\n",
       "      <td>0.277490</td>\n",
       "      <td>0.076423</td>\n",
       "      <td>2</td>\n",
       "      <td>8.223619</td>\n",
       "      <td>13.794901</td>\n",
       "      <td>0</td>\n",
       "      <td>11</td>\n",
       "      <td>2</td>\n",
       "      <td>8</td>\n",
       "      <td>2337</td>\n",
       "      <td>1</td>\n",
       "    </tr>\n",
       "    <tr>\n",
       "      <th>3</th>\n",
       "      <td>32</td>\n",
       "      <td>Female</td>\n",
       "      <td>44085</td>\n",
       "      <td>PPC</td>\n",
       "      <td>Conversion</td>\n",
       "      <td>539.525936</td>\n",
       "      <td>0.137611</td>\n",
       "      <td>0.088004</td>\n",
       "      <td>47</td>\n",
       "      <td>4.540939</td>\n",
       "      <td>14.688363</td>\n",
       "      <td>89</td>\n",
       "      <td>2</td>\n",
       "      <td>2</td>\n",
       "      <td>0</td>\n",
       "      <td>2463</td>\n",
       "      <td>1</td>\n",
       "    </tr>\n",
       "    <tr>\n",
       "      <th>4</th>\n",
       "      <td>60</td>\n",
       "      <td>Female</td>\n",
       "      <td>83964</td>\n",
       "      <td>PPC</td>\n",
       "      <td>Conversion</td>\n",
       "      <td>1678.043573</td>\n",
       "      <td>0.252851</td>\n",
       "      <td>0.109940</td>\n",
       "      <td>0</td>\n",
       "      <td>2.046847</td>\n",
       "      <td>13.993370</td>\n",
       "      <td>6</td>\n",
       "      <td>6</td>\n",
       "      <td>6</td>\n",
       "      <td>8</td>\n",
       "      <td>4345</td>\n",
       "      <td>1</td>\n",
       "    </tr>\n",
       "  </tbody>\n",
       "</table>\n",
       "</div>"
      ]
     },
     "metadata": {},
     "output_type": "display_data",
     "jetTransient": {
      "display_id": null
     }
    }
   ],
   "execution_count": 33
  },
  {
   "cell_type": "markdown",
   "metadata": {},
   "source": [
    "## **3. Feature Engineering, Encoding, and Data Splitting**\n",
    "\n",
    "**Metadata Comment:** This section defines the feature engineering and the data splitting strategy. The class balancing (SMOTE) is now correctly integrated into the model training pipelines later on to prevent data leakage, which is the industry best practice."
   ],
   "id": "b2b6cbc4b986f9ca"
  },
  {
   "cell_type": "code",
   "metadata": {
    "ExecuteTime": {
     "end_time": "2025-09-24T16:26:03.301072Z",
     "start_time": "2025-09-24T16:26:03.262970Z"
    }
   },
   "source": [
    "# In-script Comment: Separate features (X) from the target variable (y)\n",
    "X = df.drop('Conversion', axis=1)\n",
    "y = df['Conversion']\n",
    "\n",
    "print(f\"Original class distribution:\\n{y.value_counts()}\")\n",
    "\n",
    "# In-script Comment: trainval test split (20% for final test)\n",
    "X_train_val, X_test, y_train_val, y_test = train_test_split(X, y, test_size=0.20, random_state=42, stratify=y)\n",
    "\n",
    "# In-script Comment: train val split (15% of the 80% for validation)\n",
    "X_train, X_val, y_train, y_val = train_test_split(X_train_val, y_train_val, test_size=0.15, random_state=42, stratify=y_train_val)\n",
    "\n",
    "# In-script Comment: Reduce training set to 1% for rapid hyperparameter tuning\n",
    "_, X_train_reduced, _, y_train_reduced = train_test_split(X_train, y_train, train_size=0.01, random_state=42, stratify=y_train)\n",
    "\n",
    "print(\"\\n✅ Data Splitting Complete.\")\n",
    "print(f\"Full Training Set Shape: {X_train.shape}\")\n",
    "print(f\"Reduced Training Set Shape for Tuning: {X_train_reduced.shape}\")\n",
    "print(f\"Test Set Shape: {X_test.shape}\")"
   ],
   "id": "f610657e22345c66",
   "outputs": [
    {
     "name": "stdout",
     "output_type": "stream",
     "text": [
      "Original class distribution:\n",
      "Conversion\n",
      "1    7012\n",
      "0     988\n",
      "Name: count, dtype: int64\n",
      "\n",
      "✅ Data Splitting Complete.\n",
      "Full Training Set Shape: (5440, 16)\n",
      "Reduced Training Set Shape for Tuning: (5386, 16)\n",
      "Test Set Shape: (1600, 16)\n"
     ]
    }
   ],
   "execution_count": 34
  },
  {
   "cell_type": "markdown",
   "metadata": {},
   "source": [
    "## **4. Preprocessing Pipelines and Model Training (on 1% Sample)**\n",
    "\n",
    "**Metadata Comment:** We define two separate preprocessing pipelines. The main `preprocessor` includes `StandardScaler` for most models. A second `preprocessor_nb` is created for Naive Bayes models that require non-negative data and thus omits scaling. We then individually train and tune each model on the small, 1% dataset to quickly find the best hyperparameters using `GridSearchCV`."
   ],
   "id": "aa99fb98b9ffe6cf"
  },
  {
   "cell_type": "code",
   "metadata": {
    "ExecuteTime": {
     "end_time": "2025-09-24T16:26:03.444709Z",
     "start_time": "2025-09-24T16:26:03.435633Z"
    }
   },
   "source": [
    "# In-script Comment: Define feature types\n",
    "numerical_features = X.select_dtypes(include=np.number).columns.tolist()\n",
    "categorical_features = X.select_dtypes(exclude=np.number).columns.tolist()\n",
    "\n",
    "# In-script Comment: Main preprocessor with StandardScaler for most models\n",
    "preprocessor = ColumnTransformer(\n",
    "    transformers=[\n",
    "        ('num', StandardScaler(), numerical_features),\n",
    "        ('cat', OneHotEncoder(handle_unknown='ignore'), categorical_features)\n",
    "    ])\n",
    "\n",
    "# In-script Comment: Create a separate preprocessor for Naive Bayes models that require non-negative data.\n",
    "# This version applies one-hot encoding but does not scale the numerical features.\n",
    "preprocessor_nb = ColumnTransformer(\n",
    "    transformers=[\n",
    "        ('num', 'passthrough', numerical_features),\n",
    "        ('cat', OneHotEncoder(handle_unknown='ignore'), categorical_features)\n",
    "    ])\n",
    "\n",
    "model_results = {}"
   ],
   "id": "792fab001816b24f",
   "outputs": [],
   "execution_count": 35
  },
  {
   "cell_type": "markdown",
   "metadata": {},
   "source": [
    "### **5.1 Linear Models**"
   ],
   "id": "95faf24f1cdad827"
  },
  {
   "cell_type": "markdown",
   "metadata": {},
   "source": [
    "#### **Logistic Regression**\n",
    "\n",
    "**How it Works (for a 5-minute old):**\n",
    "Imagine you have a line, and you want to use it to separate red balls from blue balls. Logistic Regression finds the best possible wiggly line (called a Sigmoid curve) to separate the two groups. When a new ball comes, it looks at which side of the line it falls on to decide if it's red or blue. It predicts the *probability* or chance of being in one group.\n",
    "\n",
    "**Mathematical Formula:**\n",
    "The core formula is the Sigmoid function, which squishes any value into a probability between 0 and 1:\n",
    "\n",
    "$$ P(Y=1) = \\frac{1}{1 + e^{-z}} $$\n",
    "\n",
    "Where `z` is a linear combination of the features (like a straight line equation): `z = b₀ + b₁X₁ + b₂X₂ + ...`"
   ],
   "id": "c03b46c2effa59bf"
  },
  {
   "cell_type": "code",
   "metadata": {
    "ExecuteTime": {
     "end_time": "2025-09-24T16:26:25.387712Z",
     "start_time": "2025-09-24T16:26:03.481660Z"
    }
   },
   "source": [
    "# --- Logistic Regression ---\n",
    "pipeline_lr = ImbPipeline([('preprocessor', preprocessor), ('smote', SMOTE(random_state=42)), ('classifier', LogisticRegression(random_state=42, max_iter=2000))])\n",
    "param_grid_lr = {'classifier__C': [0.01, 0.1, 1, 10, 100], 'classifier__solver': ['liblinear', 'saga']}\n",
    "grid_lr = GridSearchCV(pipeline_lr, param_grid_lr, cv=3, scoring='accuracy', n_jobs=-1)\n",
    "grid_lr.fit(X_train_reduced, y_train_reduced)\n",
    "print(\"--- Logistic Regression ---\")\n",
    "print(f\"Best Parameters: {grid_lr.best_params_}\")\n",
    "print(f\"Best CV Accuracy: {grid_lr.best_score_:.4f}\")\n",
    "model_results['Logistic Regression'] = (grid_lr.best_score_, grid_lr.best_params_)"
   ],
   "id": "a4af1f3c41ea0d05",
   "outputs": [
    {
     "name": "stdout",
     "output_type": "stream",
     "text": [
      "--- Logistic Regression ---\n",
      "Best Parameters: {'classifier__C': 0.1, 'classifier__solver': 'saga'}\n",
      "Best CV Accuracy: 0.7323\n"
     ]
    }
   ],
   "execution_count": 36
  },
  {
   "cell_type": "markdown",
   "metadata": {},
   "source": [
    "#### **Ridge & Lasso Classifiers**\n",
    "\n",
    "**How it Works:**\n",
    "These are like Logistic Regression but with a special rule to keep things simple. Imagine some features are very loud and bossy. Ridge Classifier tells all the features to 'quiet down a bit' (shrinking their importance), while Lasso Classifier tells the least important features to 'be completely silent' (reducing their importance to zero). This helps prevent the model from getting confused by noisy, unimportant information.\n",
    "\n",
    "**Mathematical Formula:**\n",
    "They add a penalty term to the cost function. \n",
    "* **Ridge (L2 Penalty):** `Cost + λ * Σ(coefficient²)` (shrinks coefficients)\n",
    "* **Lasso (L1 Penalty):** `Cost + λ * Σ|coefficient|` (can shrink coefficients to zero)"
   ],
   "id": "c472d01676b9505d"
  },
  {
   "cell_type": "code",
   "metadata": {
    "ExecuteTime": {
     "end_time": "2025-09-24T16:26:27.483768Z",
     "start_time": "2025-09-24T16:26:27.249842Z"
    }
   },
   "source": [
    "# --- Ridge Classifier ---\n",
    "pipeline_ridge = ImbPipeline([('preprocessor', preprocessor), ('smote', SMOTE(random_state=42)), ('classifier', RidgeClassifier(random_state=42))])\n",
    "param_grid_ridge = {'classifier__alpha': [0.1, 1.0, 10.0, 100.0]}\n",
    "grid_ridge = GridSearchCV(pipeline_ridge, param_grid_ridge, cv=3, scoring='accuracy', n_jobs=-1)\n",
    "grid_ridge.fit(X_train_reduced, y_train_reduced)\n",
    "print(\"--- Ridge Classifier ---\")\n",
    "print(f\"Best Parameters: {grid_ridge.best_params_}\")\n",
    "print(f\"Best CV Accuracy: {grid_ridge.best_score_:.4f}\")\n",
    "model_results['Ridge Classifier'] = (grid_ridge.best_score_, grid_ridge.best_params_)"
   ],
   "id": "9f4d537114ab2d6e",
   "outputs": [
    {
     "name": "stdout",
     "output_type": "stream",
     "text": [
      "--- Ridge Classifier ---\n",
      "Best Parameters: {'classifier__alpha': 10.0}\n",
      "Best CV Accuracy: 0.7250\n"
     ]
    }
   ],
   "execution_count": 37
  },
  {
   "cell_type": "code",
   "metadata": {
    "ExecuteTime": {
     "end_time": "2025-09-24T16:26:27.903099Z",
     "start_time": "2025-09-24T16:26:27.507610Z"
    }
   },
   "source": [
    "# --- Lasso Classifier (implemented via SGDClassifier with L1 penalty) ---\n",
    "pipeline_lasso = ImbPipeline([('preprocessor', preprocessor), ('smote', SMOTE(random_state=42)), ('classifier', SGDClassifier(random_state=42, penalty='l1', loss='log_loss'))])\n",
    "param_grid_lasso = {'classifier__alpha': [0.0001, 0.001, 0.01, 0.1]}\n",
    "grid_lasso = GridSearchCV(pipeline_lasso, param_grid_lasso, cv=3, scoring='accuracy', n_jobs=-1)\n",
    "grid_lasso.fit(X_train_reduced, y_train_reduced)\n",
    "print(\"--- Lasso Classifier (SGD L1) ---\")\n",
    "print(f\"Best Parameters: {grid_lasso.best_params_}\")\n",
    "print(f\"Best CV Accuracy: {grid_lasso.best_score_:.4f}\")\n",
    "model_results['Lasso Classifier'] = (grid_lasso.best_score_, grid_lasso.best_params_)"
   ],
   "id": "8e183fc2639b8da0",
   "outputs": [
    {
     "name": "stdout",
     "output_type": "stream",
     "text": [
      "--- Lasso Classifier (SGD L1) ---\n",
      "Best Parameters: {'classifier__alpha': 0.01}\n",
      "Best CV Accuracy: 0.7280\n"
     ]
    }
   ],
   "execution_count": 38
  },
  {
   "cell_type": "markdown",
   "metadata": {},
   "source": [
    "#### **Support Vector Machine (SVM)**\n",
    "\n",
    "**How it Works:**\n",
    "Imagine drawing the widest possible road between the red balls and blue balls. This road is the 'margin'. SVM tries to make this margin as wide as possible. The balls that are right on the edge of the road are the 'Support Vectors', and they are the most important for defining the boundary. For a new ball, SVM checks which side of the road it's on.\n",
    "\n",
    "**Mathematical Goal:**\n",
    "It aims to maximize the margin `2/||w||` where `w` is the vector perpendicular to the separating hyperplane."
   ],
   "id": "b47498e7ceb31fe"
  },
  {
   "cell_type": "code",
   "metadata": {
    "ExecuteTime": {
     "end_time": "2025-09-24T16:29:48.834603Z",
     "start_time": "2025-09-24T16:26:27.931813Z"
    }
   },
   "source": [
    "# --- Support Vector Machine (SVM) ---\n",
    "pipeline_svc = ImbPipeline([('preprocessor', preprocessor), ('smote', SMOTE(random_state=42)), ('classifier', SVC(random_state=42, probability=True))])\n",
    "param_grid_svc = {\n",
    "    'classifier__C': [1, 10, 100],\n",
    "    'classifier__gamma': ['scale', 'auto'],\n",
    "    'classifier__kernel': ['rbf', 'poly']\n",
    "}\n",
    "grid_svc = GridSearchCV(pipeline_svc, param_grid_svc, cv=3, scoring='accuracy', n_jobs=-1)\n",
    "grid_svc.fit(X_train_reduced, y_train_reduced)\n",
    "print(\"--- Support Vector Machine ---\")\n",
    "print(f\"Best Parameters: {grid_svc.best_params_}\")\n",
    "print(f\"Best CV Accuracy: {grid_svc.best_score_:.4f}\")\n",
    "model_results['Support Vector Machine'] = (grid_svc.best_score_, grid_svc.best_params_)"
   ],
   "id": "9e810967de5b22f2",
   "outputs": [
    {
     "name": "stdout",
     "output_type": "stream",
     "text": [
      "--- Support Vector Machine ---\n",
      "Best Parameters: {'classifier__C': 10, 'classifier__gamma': 'scale', 'classifier__kernel': 'rbf'}\n",
      "Best CV Accuracy: 0.8600\n"
     ]
    }
   ],
   "execution_count": 39
  },
  {
   "cell_type": "markdown",
   "metadata": {},
   "source": [
    "### **5.2 Tree-Based and Ensemble Models**"
   ],
   "id": "e70a48aa56114840"
  },
  {
   "cell_type": "markdown",
   "metadata": {},
   "source": [
    "#### **Decision Tree Classifier**\n",
    "\n",
    "**How it Works:**\n",
    "This is like playing a game of '20 Questions'. The model asks a series of yes/no questions about the data's features. For example, 'Is the customer's income > $50k?'. Each question splits the data into smaller groups. It keeps splitting until it creates groups that are mostly all red balls or all blue balls. The path of questions it takes is the 'decision tree'.\n",
    "\n",
    "**Mathematical Goal:**\n",
    "At each split, it tries to minimize impurity (how mixed up the groups are). It often uses measures like **Gini Impurity** or **Entropy** to find the best question to ask."
   ],
   "id": "10eb3d1a88b89086"
  },
  {
   "cell_type": "code",
   "metadata": {
    "ExecuteTime": {
     "end_time": "2025-09-24T16:29:57.360153Z",
     "start_time": "2025-09-24T16:29:50.614353Z"
    }
   },
   "source": [
    "# --- Decision Tree Classifier ---\n",
    "pipeline_dt = ImbPipeline([('preprocessor', preprocessor), ('smote', SMOTE(random_state=42)), ('classifier', DecisionTreeClassifier(random_state=42))])\n",
    "param_grid_dt = {'classifier__max_depth': [10, 20, 30, None], 'classifier__min_samples_split': [2, 5, 10], 'classifier__min_samples_leaf': [1, 2, 4]}\n",
    "grid_dt = GridSearchCV(pipeline_dt, param_grid_dt, cv=3, scoring='accuracy', n_jobs=-1)\n",
    "grid_dt.fit(X_train_reduced, y_train_reduced)\n",
    "print(\"--- Decision Tree ---\")\n",
    "print(f\"Best Parameters: {grid_dt.best_params_}\")\n",
    "print(f\"Best CV Accuracy: {grid_dt.best_score_:.4f}\")\n",
    "model_results['Decision Tree'] = (grid_dt.best_score_, grid_dt.best_params_)"
   ],
   "id": "efa4c6f466d8a957",
   "outputs": [
    {
     "name": "stdout",
     "output_type": "stream",
     "text": [
      "--- Decision Tree ---\n",
      "Best Parameters: {'classifier__max_depth': 10, 'classifier__min_samples_leaf': 1, 'classifier__min_samples_split': 2}\n",
      "Best CV Accuracy: 0.8026\n"
     ]
    }
   ],
   "execution_count": 40
  },
  {
   "cell_type": "markdown",
   "metadata": {},
   "source": [
    "#### **Random Forest & Bagging**\n",
    "\n",
    "**How it Works:**\n",
    "Instead of relying on one Decision Tree (which might be wrong), a Random Forest builds hundreds of different, slightly stupider Decision Trees. Each tree only gets to see a random part of the data. To make a final decision, all the trees vote, and the majority vote wins. This is like asking a big group of slightly informed friends for their opinion instead of just one expert friend. **Bagging** is the general name for this voting process.\n",
    "\n",
    "**Mathematical Idea:**\n",
    "This is an example of **Bootstrap Aggregating (Bagging)**. It reduces variance and prevents the model from memorizing the training data (overfitting)."
   ],
   "id": "46584bd8b4619fcd"
  },
  {
   "cell_type": "code",
   "metadata": {
    "ExecuteTime": {
     "end_time": "2025-09-24T16:30:32.759381Z",
     "start_time": "2025-09-24T16:29:57.392205Z"
    }
   },
   "source": [
    "# --- Bagging Classifier ---\n",
    "pipeline_bag = ImbPipeline([('preprocessor', preprocessor), ('smote', SMOTE(random_state=42)), ('classifier', BaggingClassifier(random_state=42))])\n",
    "param_grid_bag = {'classifier__n_estimators': [10, 50, 100]}\n",
    "grid_bag = GridSearchCV(pipeline_bag, param_grid_bag, cv=3, scoring='accuracy', n_jobs=-1)\n",
    "grid_bag.fit(X_train_reduced, y_train_reduced)\n",
    "print(\"--- Bagging Classifier ---\")\n",
    "print(f\"Best Parameters: {grid_bag.best_params_}\")\n",
    "print(f\"Best CV Accuracy: {grid_bag.best_score_:.4f}\")\n",
    "model_results['Bagging Classifier'] = (grid_bag.best_score_, grid_bag.best_params_)"
   ],
   "id": "8864a9882a91878c",
   "outputs": [
    {
     "name": "stdout",
     "output_type": "stream",
     "text": [
      "--- Bagging Classifier ---\n",
      "Best Parameters: {'classifier__n_estimators': 100}\n",
      "Best CV Accuracy: 0.8828\n"
     ]
    }
   ],
   "execution_count": 41
  },
  {
   "cell_type": "code",
   "metadata": {
    "ExecuteTime": {
     "end_time": "2025-09-24T16:31:53.937613Z",
     "start_time": "2025-09-24T16:30:34.580695Z"
    }
   },
   "source": [
    "# --- Random Forest Classifier ---\n",
    "pipeline_rf = ImbPipeline([('preprocessor', preprocessor), ('smote', SMOTE(random_state=42)), ('classifier', RandomForestClassifier(random_state=42))])\n",
    "param_grid_rf = {'classifier__n_estimators': [100, 200], 'classifier__max_depth': [10, 20, 30], 'classifier__min_samples_leaf': [1, 2], 'classifier__max_features': ['sqrt', 'log2']}\n",
    "grid_rf = GridSearchCV(pipeline_rf, param_grid_rf, cv=3, scoring='accuracy', n_jobs=-1)\n",
    "grid_rf.fit(X_train_reduced, y_train_reduced)\n",
    "print(\"--- Random Forest ---\")\n",
    "print(f\"Best Parameters: {grid_rf.best_params_}\")\n",
    "print(f\"Best CV Accuracy: {grid_rf.best_score_:.4f}\")\n",
    "model_results['Random Forest'] = (grid_rf.best_score_, grid_rf.best_params_)"
   ],
   "id": "1ffb66352a6f9512",
   "outputs": [
    {
     "name": "stdout",
     "output_type": "stream",
     "text": [
      "--- Random Forest ---\n",
      "Best Parameters: {'classifier__max_depth': 20, 'classifier__max_features': 'sqrt', 'classifier__min_samples_leaf': 2, 'classifier__n_estimators': 200}\n",
      "Best CV Accuracy: 0.8940\n"
     ]
    }
   ],
   "execution_count": 42
  },
  {
   "cell_type": "markdown",
   "metadata": {},
   "source": [
    "#### **Gradient Boosting, XGBoost, LightGBM & CatBoost (Boosting Models)**\n",
    "\n",
    "**How it Works:**\n",
    "This is like building a team of experts one by one. The first expert (a simple tree) makes a guess. The second expert looks at all the mistakes the first one made and focuses only on fixing those mistakes. The third expert then looks at the remaining mistakes and tries to fix them, and so on. Each new expert is trained to correct the errors of the team before it. This creates a very powerful and accurate team. XGBoost, LightGBM, and CatBoost are just super-fast and clever versions of this idea.\n",
    "\n",
    "**Mathematical Idea:**\n",
    "This is known as **Boosting**. Specifically, it uses an algorithm called **Gradient Descent** to minimize the errors (or 'residuals') at each step."
   ],
   "id": "ce48ba7e1da151e5"
  },
  {
   "cell_type": "code",
   "metadata": {
    "ExecuteTime": {
     "end_time": "2025-09-24T16:34:07.100224Z",
     "start_time": "2025-09-24T16:31:54.011633Z"
    }
   },
   "source": [
    "# --- Gradient Boosting Machine (GBM) ---\n",
    "pipeline_gbm = ImbPipeline([('preprocessor', preprocessor), ('smote', SMOTE(random_state=42)), ('classifier', GradientBoostingClassifier(random_state=42))])\n",
    "param_grid_gbm = {'classifier__n_estimators': [100, 200], 'classifier__learning_rate': [0.05, 0.1, 0.2], 'classifier__max_depth': [3, 5]}\n",
    "grid_gbm = GridSearchCV(pipeline_gbm, param_grid_gbm, cv=3, scoring='accuracy', n_jobs=-1)\n",
    "grid_gbm.fit(X_train_reduced, y_train_reduced)\n",
    "print(\"--- Gradient Boosting ---\")\n",
    "print(f\"Best Parameters: {grid_gbm.best_params_}\")\n",
    "print(f\"Best CV Accuracy: {grid_gbm.best_score_:.4f}\")\n",
    "model_results['Gradient Boosting'] = (grid_gbm.best_score_, grid_gbm.best_params_)"
   ],
   "id": "9e05407778a5338",
   "outputs": [
    {
     "name": "stdout",
     "output_type": "stream",
     "text": [
      "--- Gradient Boosting ---\n",
      "Best Parameters: {'classifier__learning_rate': 0.1, 'classifier__max_depth': 3, 'classifier__n_estimators': 200}\n",
      "Best CV Accuracy: 0.9129\n"
     ]
    }
   ],
   "execution_count": 43
  },
  {
   "cell_type": "code",
   "metadata": {
    "ExecuteTime": {
     "end_time": "2025-09-24T16:34:17.100215Z",
     "start_time": "2025-09-24T16:34:09.437622Z"
    }
   },
   "source": [
    "# --- XGBoost Classifier ---\n",
    "pipeline_xgb = ImbPipeline([('preprocessor', preprocessor), ('smote', SMOTE(random_state=42)), ('classifier', XGBClassifier(random_state=42, use_label_encoder=False, eval_metric='logloss'))])\n",
    "param_grid_xgb = {'classifier__n_estimators': [100, 200], 'classifier__learning_rate': [0.05, 0.1], 'classifier__max_depth': [3, 5]}\n",
    "grid_xgb = GridSearchCV(pipeline_xgb, param_grid_xgb, cv=3, scoring='accuracy', n_jobs=-1)\n",
    "grid_xgb.fit(X_train_reduced, y_train_reduced)\n",
    "print(\"--- XGBoost ---\")\n",
    "print(f\"Best Parameters: {grid_xgb.best_params_}\")\n",
    "print(f\"Best CV Accuracy: {grid_xgb.best_score_:.4f}\")\n",
    "model_results['XGBoost'] = (grid_xgb.best_score_, grid_xgb.best_params_)"
   ],
   "id": "20a63f9f7e9f34cd",
   "outputs": [
    {
     "name": "stdout",
     "output_type": "stream",
     "text": [
      "--- XGBoost ---\n",
      "Best Parameters: {'classifier__learning_rate': 0.1, 'classifier__max_depth': 3, 'classifier__n_estimators': 200}\n",
      "Best CV Accuracy: 0.9126\n"
     ]
    }
   ],
   "execution_count": 44
  },
  {
   "cell_type": "code",
   "metadata": {
    "ExecuteTime": {
     "end_time": "2025-09-24T16:34:34.010306Z",
     "start_time": "2025-09-24T16:34:17.140473Z"
    }
   },
   "source": [
    "# --- LightGBM Classifier ---\n",
    "pipeline_lgbm = ImbPipeline([('preprocessor', preprocessor), ('smote', SMOTE(random_state=42)), ('classifier', LGBMClassifier(random_state=42))])\n",
    "param_grid_lgbm = {'classifier__n_estimators': [100, 200], 'classifier__learning_rate': [0.05, 0.1], 'classifier__num_leaves': [20, 31, 40]}\n",
    "grid_lgbm = GridSearchCV(pipeline_lgbm, param_grid_lgbm, cv=3, scoring='accuracy', n_jobs=-1)\n",
    "grid_lgbm.fit(X_train_reduced, y_train_reduced)\n",
    "print(\"--- LightGBM ---\")\n",
    "print(f\"Best Parameters: {grid_lgbm.best_params_}\")\n",
    "print(f\"Best CV Accuracy: {grid_lgbm.best_score_:.4f}\")\n",
    "model_results['LightGBM'] = (grid_lgbm.best_score_, grid_lgbm.best_params_)"
   ],
   "id": "65783272f11afe19",
   "outputs": [
    {
     "name": "stdout",
     "output_type": "stream",
     "text": [
      "[LightGBM] [Info] Number of positive: 4722, number of negative: 4722\n",
      "[LightGBM] [Info] Auto-choosing row-wise multi-threading, the overhead of testing was 0.001313 seconds.\n",
      "You can set `force_row_wise=true` to remove the overhead.\n",
      "And if memory is not enough, you can set `force_col_wise=true`.\n",
      "[LightGBM] [Info] Total Bins 6120\n",
      "[LightGBM] [Info] Number of data points in the train set: 9444, number of used features: 24\n",
      "[LightGBM] [Info] [binary:BoostFromScore]: pavg=0.500000 -> initscore=0.000000\n",
      "--- LightGBM ---\n",
      "Best Parameters: {'classifier__learning_rate': 0.05, 'classifier__n_estimators': 200, 'classifier__num_leaves': 31}\n",
      "Best CV Accuracy: 0.9113\n"
     ]
    }
   ],
   "execution_count": 45
  },
  {
   "cell_type": "code",
   "metadata": {
    "ExecuteTime": {
     "end_time": "2025-09-24T16:35:11.129320Z",
     "start_time": "2025-09-24T16:34:36.138942Z"
    }
   },
   "source": [
    "# --- CatBoost Classifier ---\n",
    "pipeline_cat = ImbPipeline([('preprocessor', preprocessor), ('smote', SMOTE(random_state=42)), ('classifier', CatBoostClassifier(random_state=42, verbose=0))])\n",
    "param_grid_cat = {'classifier__iterations': [100, 200], 'classifier__learning_rate': [0.05, 0.1], 'classifier__depth': [4, 6]}\n",
    "grid_cat = GridSearchCV(pipeline_cat, param_grid_cat, cv=3, scoring='accuracy', n_jobs=-1)\n",
    "grid_cat.fit(X_train_reduced, y_train_reduced)\n",
    "print(\"--- CatBoost ---\")\n",
    "print(f\"Best Parameters: {grid_cat.best_params_}\")\n",
    "print(f\"Best CV Accuracy: {grid_cat.best_score_:.4f}\")\n",
    "model_results['CatBoost'] = (grid_cat.best_score_, grid_cat.best_params_)"
   ],
   "id": "fb3f9faca678913f",
   "outputs": [
    {
     "name": "stdout",
     "output_type": "stream",
     "text": [
      "--- CatBoost ---\n",
      "Best Parameters: {'classifier__depth': 4, 'classifier__iterations': 200, 'classifier__learning_rate': 0.1}\n",
      "Best CV Accuracy: 0.9168\n"
     ]
    }
   ],
   "execution_count": 46
  },
  {
   "cell_type": "markdown",
   "metadata": {},
   "source": [
    "## **6. Model Comparison**\n",
    "\n",
    "**Metadata Comment:** We compile the tuning results into a table, sorted by accuracy, to clearly identify the best-performing models for our final ensemble."
   ],
   "id": "7e7ffcc27b04fce7"
  },
  {
   "cell_type": "code",
   "metadata": {
    "ExecuteTime": {
     "end_time": "2025-09-24T16:35:11.223820Z",
     "start_time": "2025-09-24T16:35:11.198954Z"
    }
   },
   "source": [
    "results_data = []\n",
    "for model, (acc, params) in model_results.items():\n",
    "    results_data.append({'Model': model, 'CV_Accuracy': acc, 'Best_Parameters': params})\n",
    "\n",
    "results_df = pd.DataFrame(results_data)\n",
    "results_df_sorted = results_df.sort_values('CV_Accuracy', ascending=False).reset_index(drop=True)\n",
    "\n",
    "print(\"--- Model Comparison (Sorted by Accuracy on 1% Sample) ---\")\n",
    "display(results_df_sorted)\n"
   ],
   "id": "8038a131b57bfa60",
   "outputs": [
    {
     "name": "stdout",
     "output_type": "stream",
     "text": [
      "--- Model Comparison (Sorted by Accuracy on 1% Sample) ---\n"
     ]
    },
    {
     "data": {
      "text/plain": [
       "                     Model  CV_Accuracy  \\\n",
       "0                 CatBoost     0.916821   \n",
       "1        Gradient Boosting     0.912923   \n",
       "2                  XGBoost     0.912551   \n",
       "3                 LightGBM     0.911251   \n",
       "4            Random Forest     0.893984   \n",
       "5       Bagging Classifier     0.882843   \n",
       "6   Support Vector Machine     0.860008   \n",
       "7            Decision Tree     0.802639   \n",
       "8      Logistic Regression     0.732268   \n",
       "9         Lasso Classifier     0.727999   \n",
       "10        Ridge Classifier     0.725027   \n",
       "\n",
       "                                      Best_Parameters  \n",
       "0   {'classifier__depth': 4, 'classifier__iteratio...  \n",
       "1   {'classifier__learning_rate': 0.1, 'classifier...  \n",
       "2   {'classifier__learning_rate': 0.1, 'classifier...  \n",
       "3   {'classifier__learning_rate': 0.05, 'classifie...  \n",
       "4   {'classifier__max_depth': 20, 'classifier__max...  \n",
       "5                   {'classifier__n_estimators': 100}  \n",
       "6   {'classifier__C': 10, 'classifier__gamma': 'sc...  \n",
       "7   {'classifier__max_depth': 10, 'classifier__min...  \n",
       "8   {'classifier__C': 0.1, 'classifier__solver': '...  \n",
       "9                         {'classifier__alpha': 0.01}  \n",
       "10                        {'classifier__alpha': 10.0}  "
      ],
      "text/html": [
       "<div>\n",
       "<style scoped>\n",
       "    .dataframe tbody tr th:only-of-type {\n",
       "        vertical-align: middle;\n",
       "    }\n",
       "\n",
       "    .dataframe tbody tr th {\n",
       "        vertical-align: top;\n",
       "    }\n",
       "\n",
       "    .dataframe thead th {\n",
       "        text-align: right;\n",
       "    }\n",
       "</style>\n",
       "<table border=\"1\" class=\"dataframe\">\n",
       "  <thead>\n",
       "    <tr style=\"text-align: right;\">\n",
       "      <th></th>\n",
       "      <th>Model</th>\n",
       "      <th>CV_Accuracy</th>\n",
       "      <th>Best_Parameters</th>\n",
       "    </tr>\n",
       "  </thead>\n",
       "  <tbody>\n",
       "    <tr>\n",
       "      <th>0</th>\n",
       "      <td>CatBoost</td>\n",
       "      <td>0.916821</td>\n",
       "      <td>{'classifier__depth': 4, 'classifier__iteratio...</td>\n",
       "    </tr>\n",
       "    <tr>\n",
       "      <th>1</th>\n",
       "      <td>Gradient Boosting</td>\n",
       "      <td>0.912923</td>\n",
       "      <td>{'classifier__learning_rate': 0.1, 'classifier...</td>\n",
       "    </tr>\n",
       "    <tr>\n",
       "      <th>2</th>\n",
       "      <td>XGBoost</td>\n",
       "      <td>0.912551</td>\n",
       "      <td>{'classifier__learning_rate': 0.1, 'classifier...</td>\n",
       "    </tr>\n",
       "    <tr>\n",
       "      <th>3</th>\n",
       "      <td>LightGBM</td>\n",
       "      <td>0.911251</td>\n",
       "      <td>{'classifier__learning_rate': 0.05, 'classifie...</td>\n",
       "    </tr>\n",
       "    <tr>\n",
       "      <th>4</th>\n",
       "      <td>Random Forest</td>\n",
       "      <td>0.893984</td>\n",
       "      <td>{'classifier__max_depth': 20, 'classifier__max...</td>\n",
       "    </tr>\n",
       "    <tr>\n",
       "      <th>5</th>\n",
       "      <td>Bagging Classifier</td>\n",
       "      <td>0.882843</td>\n",
       "      <td>{'classifier__n_estimators': 100}</td>\n",
       "    </tr>\n",
       "    <tr>\n",
       "      <th>6</th>\n",
       "      <td>Support Vector Machine</td>\n",
       "      <td>0.860008</td>\n",
       "      <td>{'classifier__C': 10, 'classifier__gamma': 'sc...</td>\n",
       "    </tr>\n",
       "    <tr>\n",
       "      <th>7</th>\n",
       "      <td>Decision Tree</td>\n",
       "      <td>0.802639</td>\n",
       "      <td>{'classifier__max_depth': 10, 'classifier__min...</td>\n",
       "    </tr>\n",
       "    <tr>\n",
       "      <th>8</th>\n",
       "      <td>Logistic Regression</td>\n",
       "      <td>0.732268</td>\n",
       "      <td>{'classifier__C': 0.1, 'classifier__solver': '...</td>\n",
       "    </tr>\n",
       "    <tr>\n",
       "      <th>9</th>\n",
       "      <td>Lasso Classifier</td>\n",
       "      <td>0.727999</td>\n",
       "      <td>{'classifier__alpha': 0.01}</td>\n",
       "    </tr>\n",
       "    <tr>\n",
       "      <th>10</th>\n",
       "      <td>Ridge Classifier</td>\n",
       "      <td>0.725027</td>\n",
       "      <td>{'classifier__alpha': 10.0}</td>\n",
       "    </tr>\n",
       "  </tbody>\n",
       "</table>\n",
       "</div>"
      ]
     },
     "metadata": {},
     "output_type": "display_data",
     "jetTransient": {
      "display_id": null
     }
    }
   ],
   "execution_count": 47
  },
  {
   "cell_type": "markdown",
   "metadata": {},
   "source": [
    "## **7. Final Model Training: Advanced Ensemble Approach**\n",
    "\n",
    "**Metadata Comment:** To achieve the highest possible accuracy, we will not rely on a single best model. Instead, we will create a **Voting Classifier**, an advanced ensemble that combines the predictions of the top 3 best-performing models from our tuning phase. This approach leverages the diverse strengths of multiple models to create a more robust and accurate final predictor."
   ],
   "id": "6123beadb0a8e1a5"
  },
  {
   "cell_type": "code",
   "metadata": {
    "ExecuteTime": {
     "end_time": "2025-09-24T16:35:36.568880Z",
     "start_time": "2025-09-24T16:35:11.315853Z"
    }
   },
   "source": [
    "# In-script Comment: Select the top 3 models from the results\n",
    "top_models = results_df_sorted.nlargest(3, 'CV_Accuracy')\n",
    "print(\"--- Top 3 Models for Ensemble ---\")\n",
    "display(top_models)\n",
    "\n",
    "# In-script Comment: Define the model map for easy instantiation\n",
    "model_map = {\n",
    "    'Random Forest': RandomForestClassifier(random_state=42),\n",
    "    'Extra Trees': ExtraTreesClassifier(random_state=42),\n",
    "    'XGBoost': XGBClassifier(random_state=42, use_label_encoder=False, eval_metric='logloss'),\n",
    "    'LightGBM': LGBMClassifier(random_state=42),\n",
    "    'CatBoost': CatBoostClassifier(random_state=42, verbose=0),\n",
    "    'Gradient Boosting': GradientBoostingClassifier(random_state=42)\n",
    "}\n",
    "\n",
    "# In-script Comment: Create a list of configured model instances for the Voting Classifier\n",
    "estimators = []\n",
    "for index, row in top_models.iterrows():\n",
    "    model_name = row['Model']\n",
    "    model_params = {key.split('__')[1]: value for key, value in row['Best_Parameters'].items()}\n",
    "    if model_name in model_map:\n",
    "        instance = model_map[model_name]\n",
    "        instance.set_params(**model_params)\n",
    "        # Create a full pipeline for each estimator for the VotingClassifier\n",
    "        pipe = ImbPipeline([\n",
    "            ('preprocessor', preprocessor),\n",
    "            ('smote', SMOTE(random_state=42)),\n",
    "            ('classifier', instance)\n",
    "        ])\n",
    "        estimators.append((model_name, pipe))\n",
    "\n",
    "# In-script Comment: Create the Voting Classifier\n",
    "# 'soft' voting often performs better as it uses predicted probabilities.\n",
    "voting_clf = VotingClassifier(estimators=estimators, voting='soft')\n",
    "\n",
    "print(\"\\n--- Training Final Voting Classifier Ensemble ---\")\n",
    "# In-script Comment: The final ensemble is trained on the full training dataset.\n",
    "voting_clf.fit(X_train, y_train)\n",
    "\n",
    "print(\"\\n✅ Final Voting Classifier has been successfully trained on the full training dataset.\")"
   ],
   "id": "1e51cd24e9ee0c34",
   "outputs": [
    {
     "name": "stdout",
     "output_type": "stream",
     "text": [
      "--- Top 3 Models for Ensemble ---\n"
     ]
    },
    {
     "data": {
      "text/plain": [
       "               Model  CV_Accuracy  \\\n",
       "0           CatBoost     0.916821   \n",
       "1  Gradient Boosting     0.912923   \n",
       "2            XGBoost     0.912551   \n",
       "\n",
       "                                     Best_Parameters  \n",
       "0  {'classifier__depth': 4, 'classifier__iteratio...  \n",
       "1  {'classifier__learning_rate': 0.1, 'classifier...  \n",
       "2  {'classifier__learning_rate': 0.1, 'classifier...  "
      ],
      "text/html": [
       "<div>\n",
       "<style scoped>\n",
       "    .dataframe tbody tr th:only-of-type {\n",
       "        vertical-align: middle;\n",
       "    }\n",
       "\n",
       "    .dataframe tbody tr th {\n",
       "        vertical-align: top;\n",
       "    }\n",
       "\n",
       "    .dataframe thead th {\n",
       "        text-align: right;\n",
       "    }\n",
       "</style>\n",
       "<table border=\"1\" class=\"dataframe\">\n",
       "  <thead>\n",
       "    <tr style=\"text-align: right;\">\n",
       "      <th></th>\n",
       "      <th>Model</th>\n",
       "      <th>CV_Accuracy</th>\n",
       "      <th>Best_Parameters</th>\n",
       "    </tr>\n",
       "  </thead>\n",
       "  <tbody>\n",
       "    <tr>\n",
       "      <th>0</th>\n",
       "      <td>CatBoost</td>\n",
       "      <td>0.916821</td>\n",
       "      <td>{'classifier__depth': 4, 'classifier__iteratio...</td>\n",
       "    </tr>\n",
       "    <tr>\n",
       "      <th>1</th>\n",
       "      <td>Gradient Boosting</td>\n",
       "      <td>0.912923</td>\n",
       "      <td>{'classifier__learning_rate': 0.1, 'classifier...</td>\n",
       "    </tr>\n",
       "    <tr>\n",
       "      <th>2</th>\n",
       "      <td>XGBoost</td>\n",
       "      <td>0.912551</td>\n",
       "      <td>{'classifier__learning_rate': 0.1, 'classifier...</td>\n",
       "    </tr>\n",
       "  </tbody>\n",
       "</table>\n",
       "</div>"
      ]
     },
     "metadata": {},
     "output_type": "display_data",
     "jetTransient": {
      "display_id": null
     }
    },
    {
     "name": "stdout",
     "output_type": "stream",
     "text": [
      "\n",
      "--- Training Final Voting Classifier Ensemble ---\n",
      "\n",
      "✅ Final Voting Classifier has been successfully trained on the full training dataset.\n"
     ]
    }
   ],
   "execution_count": 48
  },
  {
   "cell_type": "markdown",
   "metadata": {},
   "source": [
    "## **8. Save the Final Model**\n",
    "\n",
    "**Metadata Comment:** We serialize the fully trained Voting Classifier object to a file for deployment."
   ],
   "id": "6feb0005ae7c464f"
  },
  {
   "cell_type": "code",
   "metadata": {
    "ExecuteTime": {
     "end_time": "2025-09-24T16:35:38.337322Z",
     "start_time": "2025-09-24T16:35:38.305079Z"
    }
   },
   "source": [
    "model_filename = 'final_ensemble_model.pkl'\n",
    "joblib.dump(voting_clf, model_filename)\n",
    "\n",
    "print(f\"💾 Final model saved to '{model_filename}'\")"
   ],
   "id": "bef9f5587f8f60b8",
   "outputs": [
    {
     "name": "stdout",
     "output_type": "stream",
     "text": [
      "💾 Final model saved to 'final_ensemble_model.pkl'\n"
     ]
    }
   ],
   "execution_count": 49
  },
  {
   "cell_type": "markdown",
   "metadata": {},
   "source": [
    "## **9. Final Model Evaluation on Test Set**\n",
    "\n",
    "**Metadata Comment:** This is the most critical evaluation step. We load our saved model and evaluate its performance on the completely unseen test set. This provides an unbiased estimate of how the model will perform on new, real-world data."
   ],
   "id": "865d9ed628d17423"
  },
  {
   "cell_type": "code",
   "metadata": {
    "ExecuteTime": {
     "end_time": "2025-09-24T16:35:38.963209Z",
     "start_time": "2025-09-24T16:35:38.379524Z"
    }
   },
   "source": [
    "loaded_model = joblib.load(model_filename)\n",
    "y_pred_test = loaded_model.predict(X_test)\n",
    "y_proba_test = loaded_model.predict_proba(X_test)[:, 1]\n",
    "\n",
    "print(\"--- Final Performance of Ensemble Model on Unseen Test Data ---\")\n",
    "print(classification_report(y_test, y_pred_test, digits=4))\n",
    "\n",
    "cm = confusion_matrix(y_test, y_pred_test)\n",
    "sns.heatmap(cm, annot=True, fmt='d', cmap='Greens',\n",
    "            xticklabels=['No Conversion', 'Conversion'],\n",
    "            yticklabels=['No Conversion', 'Conversion'])\n",
    "plt.title('Final Confusion Matrix on Test Set', fontsize=16)\n",
    "plt.ylabel('Actual Class')\n",
    "plt.xlabel('Predicted Class')\n",
    "plt.show()\n",
    "\n",
    "fpr, tpr, _ = roc_curve(y_test, y_proba_test)\n",
    "auc_score = roc_auc_score(y_test, y_proba_test)\n",
    "\n",
    "plt.figure(figsize=(8, 6))\n",
    "plt.plot(fpr, tpr, color='darkorange', lw=2, label=f'ROC curve (AUC = {auc_score:.4f})')\n",
    "plt.plot([0, 1], [0, 1], color='navy', lw=2, linestyle='--')\n",
    "plt.title('Receiver Operating Characteristic (ROC) Curve', fontsize=16)\n",
    "plt.legend(loc=\"lower right\")\n",
    "plt.show()"
   ],
   "id": "e9a96c1babfa03e1",
   "outputs": [
    {
     "name": "stdout",
     "output_type": "stream",
     "text": [
      "--- Final Performance of Ensemble Model on Unseen Test Data ---\n",
      "              precision    recall  f1-score   support\n",
      "\n",
      "           0     0.8265    0.4091    0.5473       198\n",
      "           1     0.9221    0.9879    0.9539      1402\n",
      "\n",
      "    accuracy                         0.9163      1600\n",
      "   macro avg     0.8743    0.6985    0.7506      1600\n",
      "weighted avg     0.9103    0.9163    0.9035      1600\n",
      "\n"
     ]
    },
    {
     "data": {
      "text/plain": [
       "<Figure size 640x480 with 2 Axes>"
      ],
      "image/png": "[encoded data removed]"
     },
     "metadata": {},
     "output_type": "display_data",
     "jetTransient": {
      "display_id": null
     }
    },
    {
     "data": {
      "text/plain": [
       "<Figure size 800x600 with 1 Axes>"
      ],
      "image/png": "[encoded data removed]"
     },
     "metadata": {},
     "output_type": "display_data",
     "jetTransient": {
      "display_id": null
     }
    }
   ],
   "execution_count": 50
  },
  {
   "cell_type": "markdown",
   "metadata": {},
   "source": [
    "<div style=\"background-color: #e6f7ff; border-left: 6px solid #1890ff; padding: 15px; font-size: 120%; text-align: center;\">\n",
    "<strong>🎯 If you need more information or want to explore the code, feel free to visit the project repository on <a href=\\\"https://github.com/sanyam-sanjay-sharma/marketing-conversion-prediction\\\">GitHub</a> 🎯</strong>\n",
    "</div>"
   ],
   "id": "4fb942b6622e784e"
  },
  {
   "cell_type": "markdown",
   "metadata": {},
   "source": [
    "<h2 align=\"left\"><font color='green'>Best Regards!</font></h2>"
   ],
   "id": "b1492b34112a9a75"
  }
 ],
 "metadata": {
  "kernelspec": {
   "display_name": "Python 3 (ipykernel)",
   "language": "python",
   "name": "python3"
  },
  "language_info": {
   "codemirror_mode": {
    "name": "ipython",
    "version": 3
   },
   "file_extension": ".py",
   "mimetype": "text/x-python",
   "name": "python",
   "nbconvert_exporter": "python",
   "pygments_lexer": "ipython3",
   "version": "3.9.12"
  }
 },
 "nbformat": 4,
 "nbformat_minor": 5
}
