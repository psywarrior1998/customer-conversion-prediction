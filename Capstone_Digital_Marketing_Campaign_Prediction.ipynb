{
 "cells": [
  {
   "cell_type": "markdown",
   "metadata": {},
   "source": [
    "# <p style=\"background-color:#003366; font-family:calibri; color:white; font-size:150%; text-align:center; border-radius:15px 50px;\">Capstone Project | Digital Marketing Campaign Conversion Prediction</p>"
   ],
   "id": "c0d50b7a60d39d4c"
  },
  {
   "cell_type": "markdown",
   "metadata": {},
   "source": [
    "### **Author:** Sanyam Sanjay Sharma\n",
    "### **Date:** 24th September 2025"
   ],
   "id": "84683ec5e50b6d50"
  },
  {
   "cell_type": "markdown",
   "metadata": {},
   "source": [
    "## **1. Library Imports**\n",
    "\n",
    "**Metadata Comment:** This cell imports all necessary Python libraries for the project. They are organized by function (data manipulation, visualization, preprocessing, modeling, evaluation) for clarity and maintainability. This is the foundational step for any data science workflow."
   ],
   "id": "7649ce1d1fba4d0c"
  },
  {
   "cell_type": "code",
   "metadata": {
    "ExecuteTime": {
     "end_time": "2025-09-24T16:55:43.065585Z",
     "start_time": "2025-09-24T16:55:42.382825Z"
    }
   },
   "source": [
    "# === Core Libraries for Data Handling and Analysis ===\n",
    "import pandas as pd\n",
    "import numpy as np\n",
    "import time\n",
    "\n",
    "# === Libraries for Data Visualization ===\n",
    "import seaborn as sns\n",
    "import matplotlib.pyplot as plt\n",
    "sns.set_style(\"whitegrid\")\n",
    "\n",
    "# === Libraries for Data Preprocessing and Feature Engineering ===\n",
    "from sklearn.preprocessing import StandardScaler, OneHotEncoder\n",
    "from sklearn.compose import ColumnTransformer\n",
    "from sklearn.pipeline import Pipeline\n",
    "from imblearn.pipeline import Pipeline as ImbPipeline\n",
    "from imblearn.over_sampling import SMOTE\n",
    "\n",
    "# === Libraries for Model Selection, Tuning, and Evaluation ===\n",
    "from sklearn.model_selection import train_test_split, GridSearchCV\n",
    "from sklearn.metrics import classification_report, confusion_matrix, accuracy_score, roc_auc_score, roc_curve\n",
    "\n",
    "# === Machine Learning Models (Full Suite for Comprehensive Comparison) ===\n",
    "from sklearn.linear_model import LogisticRegression, RidgeClassifier, SGDClassifier\n",
    "from sklearn.svm import SVC\n",
    "from sklearn.tree import DecisionTreeClassifier\n",
    "from sklearn.ensemble import (\n",
    "    RandomForestClassifier,\n",
    "    ExtraTreesClassifier,\n",
    "    BaggingClassifier,\n",
    "    GradientBoostingClassifier,\n",
    "    AdaBoostClassifier,\n",
    "    VotingClassifier\n",
    ")\n",
    "from xgboost import XGBClassifier\n",
    "from lightgbm import LGBMClassifier\n",
    "from catboost import CatBoostClassifier\n",
    "from sklearn.naive_bayes import GaussianNB, BernoulliNB, ComplementNB\n",
    "from sklearn.neighbors import KNeighborsClassifier\n",
    "from sklearn.discriminant_analysis import LinearDiscriminantAnalysis, QuadraticDiscriminantAnalysis\n",
    "from sklearn.neural_network import MLPClassifier\n",
    "\n",
    "# === Model Persistence ===\n",
    "import joblib\n",
    "\n",
    "# === Utility ===\n",
    "import warnings\n",
    "warnings.filterwarnings('ignore')\n",
    "\n",
    "print(\"✅ All libraries imported successfully.\")"
   ],
   "id": "6c01ce2db2290690",
   "outputs": [
    {
     "name": "stdout",
     "output_type": "stream",
     "text": [
      "✅ All libraries imported successfully.\n"
     ]
    }
   ],
   "execution_count": 1
  },
  {
   "cell_type": "markdown",
   "metadata": {},
   "source": [
    "## **2. Data Loading and Initial Cleaning**\n",
    "\n",
    "**Metadata Comment:** We load the dataset and perform initial cleaning by removing columns with no predictive value."
   ],
   "id": "ba7eb7e6277a1dc6"
  },
  {
   "cell_type": "code",
   "metadata": {
    "ExecuteTime": {
     "end_time": "2025-09-24T16:55:43.152280Z",
     "start_time": "2025-09-24T16:55:43.074589Z"
    }
   },
   "source": [
    "df = pd.read_csv('digital_marketing_campaign_dataset.csv')\n",
    "useless_columns = ['CustomerID', 'AdvertisingPlatform', 'AdvertisingTool']\n",
    "df.drop(columns=useless_columns, inplace=True)\n",
    "print(\"--- Data Head After Cleaning ---\")\n",
    "display(df.head())"
   ],
   "id": "1fc9e23c45524eb1",
   "outputs": [
    {
     "name": "stdout",
     "output_type": "stream",
     "text": [
      "--- Data Head After Cleaning ---\n"
     ]
    },
    {
     "data": {
      "text/plain": [
       "   Age  Gender  Income CampaignChannel CampaignType      AdSpend  \\\n",
       "0   56  Female  136912    Social Media    Awareness  6497.870068   \n",
       "1   69    Male   41760           Email    Retention  3898.668606   \n",
       "2   46  Female   88456             PPC    Awareness  1546.429596   \n",
       "3   32  Female   44085             PPC   Conversion   539.525936   \n",
       "4   60  Female   83964             PPC   Conversion  1678.043573   \n",
       "\n",
       "   ClickThroughRate  ConversionRate  WebsiteVisits  PagesPerVisit  TimeOnSite  \\\n",
       "0          0.043919        0.088031              0       2.399017    7.396803   \n",
       "1          0.155725        0.182725             42       2.917138    5.352549   \n",
       "2          0.277490        0.076423              2       8.223619   13.794901   \n",
       "3          0.137611        0.088004             47       4.540939   14.688363   \n",
       "4          0.252851        0.109940              0       2.046847   13.993370   \n",
       "\n",
       "   SocialShares  EmailOpens  EmailClicks  PreviousPurchases  LoyaltyPoints  \\\n",
       "0            19           6            9                  4            688   \n",
       "1             5           2            7                  2           3459   \n",
       "2             0          11            2                  8           2337   \n",
       "3            89           2            2                  0           2463   \n",
       "4             6           6            6                  8           4345   \n",
       "\n",
       "   Conversion  \n",
       "0           1  \n",
       "1           1  \n",
       "2           1  \n",
       "3           1  \n",
       "4           1  "
      ],
      "text/html": [
       "<div>\n",
       "<style scoped>\n",
       "    .dataframe tbody tr th:only-of-type {\n",
       "        vertical-align: middle;\n",
       "    }\n",
       "\n",
       "    .dataframe tbody tr th {\n",
       "        vertical-align: top;\n",
       "    }\n",
       "\n",
       "    .dataframe thead th {\n",
       "        text-align: right;\n",
       "    }\n",
       "</style>\n",
       "<table border=\"1\" class=\"dataframe\">\n",
       "  <thead>\n",
       "    <tr style=\"text-align: right;\">\n",
       "      <th></th>\n",
       "      <th>Age</th>\n",
       "      <th>Gender</th>\n",
       "      <th>Income</th>\n",
       "      <th>CampaignChannel</th>\n",
       "      <th>CampaignType</th>\n",
       "      <th>AdSpend</th>\n",
       "      <th>ClickThroughRate</th>\n",
       "      <th>ConversionRate</th>\n",
       "      <th>WebsiteVisits</th>\n",
       "      <th>PagesPerVisit</th>\n",
       "      <th>TimeOnSite</th>\n",
       "      <th>SocialShares</th>\n",
       "      <th>EmailOpens</th>\n",
       "      <th>EmailClicks</th>\n",
       "      <th>PreviousPurchases</th>\n",
       "      <th>LoyaltyPoints</th>\n",
       "      <th>Conversion</th>\n",
       "    </tr>\n",
       "  </thead>\n",
       "  <tbody>\n",
       "    <tr>\n",
       "      <th>0</th>\n",
       "      <td>56</td>\n",
       "      <td>Female</td>\n",
       "      <td>136912</td>\n",
       "      <td>Social Media</td>\n",
       "      <td>Awareness</td>\n",
       "      <td>6497.870068</td>\n",
       "      <td>0.043919</td>\n",
       "      <td>0.088031</td>\n",
       "      <td>0</td>\n",
       "      <td>2.399017</td>\n",
       "      <td>7.396803</td>\n",
       "      <td>19</td>\n",
       "      <td>6</td>\n",
       "      <td>9</td>\n",
       "      <td>4</td>\n",
       "      <td>688</td>\n",
       "      <td>1</td>\n",
       "    </tr>\n",
       "    <tr>\n",
       "      <th>1</th>\n",
       "      <td>69</td>\n",
       "      <td>Male</td>\n",
       "      <td>41760</td>\n",
       "      <td>Email</td>\n",
       "      <td>Retention</td>\n",
       "      <td>3898.668606</td>\n",
       "      <td>0.155725</td>\n",
       "      <td>0.182725</td>\n",
       "      <td>42</td>\n",
       "      <td>2.917138</td>\n",
       "      <td>5.352549</td>\n",
       "      <td>5</td>\n",
       "      <td>2</td>\n",
       "      <td>7</td>\n",
       "      <td>2</td>\n",
       "      <td>3459</td>\n",
       "      <td>1</td>\n",
       "    </tr>\n",
       "    <tr>\n",
       "      <th>2</th>\n",
       "      <td>46</td>\n",
       "      <td>Female</td>\n",
       "      <td>88456</td>\n",
       "      <td>PPC</td>\n",
       "      <td>Awareness</td>\n",
       "      <td>1546.429596</td>\n",
       "      <td>0.277490</td>\n",
       "      <td>0.076423</td>\n",
       "      <td>2</td>\n",
       "      <td>8.223619</td>\n",
       "      <td>13.794901</td>\n",
       "      <td>0</td>\n",
       "      <td>11</td>\n",
       "      <td>2</td>\n",
       "      <td>8</td>\n",
       "      <td>2337</td>\n",
       "      <td>1</td>\n",
       "    </tr>\n",
       "    <tr>\n",
       "      <th>3</th>\n",
       "      <td>32</td>\n",
       "      <td>Female</td>\n",
       "      <td>44085</td>\n",
       "      <td>PPC</td>\n",
       "      <td>Conversion</td>\n",
       "      <td>539.525936</td>\n",
       "      <td>0.137611</td>\n",
       "      <td>0.088004</td>\n",
       "      <td>47</td>\n",
       "      <td>4.540939</td>\n",
       "      <td>14.688363</td>\n",
       "      <td>89</td>\n",
       "      <td>2</td>\n",
       "      <td>2</td>\n",
       "      <td>0</td>\n",
       "      <td>2463</td>\n",
       "      <td>1</td>\n",
       "    </tr>\n",
       "    <tr>\n",
       "      <th>4</th>\n",
       "      <td>60</td>\n",
       "      <td>Female</td>\n",
       "      <td>83964</td>\n",
       "      <td>PPC</td>\n",
       "      <td>Conversion</td>\n",
       "      <td>1678.043573</td>\n",
       "      <td>0.252851</td>\n",
       "      <td>0.109940</td>\n",
       "      <td>0</td>\n",
       "      <td>2.046847</td>\n",
       "      <td>13.993370</td>\n",
       "      <td>6</td>\n",
       "      <td>6</td>\n",
       "      <td>6</td>\n",
       "      <td>8</td>\n",
       "      <td>4345</td>\n",
       "      <td>1</td>\n",
       "    </tr>\n",
       "  </tbody>\n",
       "</table>\n",
       "</div>"
      ]
     },
     "metadata": {},
     "output_type": "display_data",
     "jetTransient": {
      "display_id": null
     }
    }
   ],
   "execution_count": 2
  },
  {
   "cell_type": "markdown",
   "metadata": {},
   "source": [
    "## **3. Data Splitting**\n",
    "\n",
    "**Metadata Comment:** We split the original, imbalanced data into training and testing sets. Resampling (SMOTE) will be handled *inside* the GridSearchCV pipeline on the training folds ONLY. This is the correct procedure to prevent data leakage from the test set and to resolve the `ValueError` from attempting to resample non-numeric data."
   ],
   "id": "b2b6cbc4b986f9ca"
  },
  {
   "cell_type": "code",
   "metadata": {
    "ExecuteTime": {
     "end_time": "2025-09-24T16:55:43.198070Z",
     "start_time": "2025-09-24T16:55:43.174287Z"
    }
   },
   "source": [
    "# In-script Comment: Separate features (X) from the target variable (y)\n",
    "X = df.drop('Conversion', axis=1)\n",
    "y = df['Conversion']\n",
    "\n",
    "print(f\"Original class distribution:\\n{y.value_counts()}\")\n",
    "\n",
    "# In-script Comment: Split the original, imbalanced data into training and testing sets.\n",
    "X_train, X_test, y_train, y_test = train_test_split(X, y, test_size=0.20, random_state=42, stratify=y)\n",
    "\n",
    "print(\"\\n✅ Data Splitting Complete.\")\n",
    "print(f\"Training Set Shape: {X_train.shape}\")\n",
    "print(f\"Test Set Shape: {X_test.shape}\")\n",
    "print(f\"Training Set Class Distribution:\\n{y_train.value_counts()}\")"
   ],
   "id": "f610657e22345c66",
   "outputs": [
    {
     "name": "stdout",
     "output_type": "stream",
     "text": [
      "Original class distribution:\n",
      "Conversion\n",
      "1    7012\n",
      "0     988\n",
      "Name: count, dtype: int64\n",
      "\n",
      "✅ Data Splitting Complete.\n",
      "Training Set Shape: (6400, 16)\n",
      "Test Set Shape: (1600, 16)\n",
      "Training Set Class Distribution:\n",
      "Conversion\n",
      "1    5610\n",
      "0     790\n",
      "Name: count, dtype: int64\n"
     ]
    }
   ],
   "execution_count": 3
  },
  {
   "cell_type": "markdown",
   "metadata": {},
   "source": [
    "## **4. Preprocessing Pipelines and Model Training**\n",
    "\n",
    "**Metadata Comment:** We define two separate preprocessing pipelines. The main `preprocessor` includes `StandardScaler` for most models. A second `preprocessor_nb` is created for Naive Bayes models that require non-negative data and thus omits scaling. We then individually train and tune each model on the **full training dataset** to find the absolute best hyperparameters."
   ],
   "id": "aa99fb98b9ffe6cf"
  },
  {
   "cell_type": "code",
   "metadata": {
    "ExecuteTime": {
     "end_time": "2025-09-24T16:55:43.404631Z",
     "start_time": "2025-09-24T16:55:43.392645Z"
    }
   },
   "source": [
    "# In-script Comment: Define feature types\n",
    "numerical_features = X.select_dtypes(include=np.number).columns.tolist()\n",
    "categorical_features = X.select_dtypes(exclude=np.number).columns.tolist()\n",
    "\n",
    "# In-script Comment: Main preprocessor with StandardScaler for most models\n",
    "preprocessor = ColumnTransformer(\n",
    "    transformers=[\n",
    "        ('num', StandardScaler(), numerical_features),\n",
    "        ('cat', OneHotEncoder(handle_unknown='ignore'), categorical_features)\n",
    "    ])\n",
    "\n",
    "# In-script Comment: Create a separate preprocessor for Naive Bayes models that require non-negative data.\n",
    "preprocessor_nb = ColumnTransformer(\n",
    "    transformers=[\n",
    "        ('num', 'passthrough', numerical_features),\n",
    "        ('cat', OneHotEncoder(handle_unknown='ignore'), categorical_features)\n",
    "    ])\n",
    "\n",
    "model_results = {}"
   ],
   "id": "792fab001816b24f",
   "outputs": [],
   "execution_count": 4
  },
  {
   "cell_type": "markdown",
   "metadata": {},
   "source": [
    "### **5.1 Linear Models**"
   ],
   "id": "95faf24f1cdad827"
  },
  {
   "cell_type": "markdown",
   "metadata": {},
   "source": [
    "#### **Logistic Regression**\n",
    "\n",
    "**How it Works:**\n",
    "Finds the best possible wiggly line (a Sigmoid curve) to separate the two classes. It predicts the *probability* of an instance belonging to a class.\n",
    "\n",
    "**Mathematical Formula:**\n",
    "$$ P(Y=1) = \\frac{1}{1 + e^{-z}} $$"
   ],
   "id": "c03b46c2effa59bf"
  },
  {
   "cell_type": "code",
   "metadata": {
    "ExecuteTime": {
     "end_time": "2025-09-24T17:04:22.879794Z",
     "start_time": "2025-09-24T17:03:45.163235Z"
    }
   },
   "source": [
    "# --- Logistic Regression ---\n",
    "pipeline_lr = ImbPipeline([('preprocessor', preprocessor), ('smote', SMOTE(random_state=42)), ('classifier', LogisticRegression(random_state=42, max_iter=1000))])\n",
    "param_grid_lr = {\n",
    "    'smote__k_neighbors': [3, 5, 7, 9],\n",
    "    'classifier__C': [0.1, 1, 10, 100],\n",
    "    'classifier__solver': ['liblinear', 'saga']\n",
    "}\n",
    "grid_lr = GridSearchCV(pipeline_lr, param_grid_lr, cv=5, scoring='accuracy', n_jobs=-1)\n",
    "grid_lr.fit(X_train, y_train)\n",
    "print(\"--- Logistic Regression ---\")\n",
    "print(f\"Best Parameters: {grid_lr.best_params_}\")\n",
    "print(f\"Best CV Accuracy: {grid_lr.best_score_:.4f}\")\n",
    "model_results['Logistic Regression'] = (grid_lr.best_score_, grid_lr.best_params_)"
   ],
   "id": "a4af1f3c41ea0d05",
   "outputs": [
    {
     "name": "stdout",
     "output_type": "stream",
     "text": [
      "--- Logistic Regression ---\n",
      "Best Parameters: {'classifier__C': 100, 'classifier__solver': 'liblinear', 'smote__k_neighbors': 9}\n",
      "Best CV Accuracy: 0.7364\n"
     ]
    }
   ],
   "execution_count": 11
  },
  {
   "cell_type": "markdown",
   "metadata": {},
   "source": [
    "#### **Ridge & Lasso Classifiers**\n",
    "\n",
    "**How it Works:**\n",
    "These are linear models with a penalty for complexity. **Ridge** tells all features to 'quiet down a bit' (shrinking their importance), while **Lasso** tells the least important features to 'be completely silent' (reducing their importance to zero), effectively performing feature selection.\n",
    "\n",
    "**Mathematical Formula:**\n",
    "They add a penalty term to the cost function. \n",
    "* **Ridge (L2 Penalty):** `Cost + λ * Σ(coefficient²)`\n",
    "* **Lasso (L1 Penalty):** `Cost + λ * Σ|coefficient|`"
   ],
   "id": "c472d01676b9505d"
  },
  {
   "cell_type": "code",
   "metadata": {
    "ExecuteTime": {
     "end_time": "2025-09-24T17:04:24.662620Z",
     "start_time": "2025-09-24T17:04:22.932988Z"
    }
   },
   "source": [
    "# --- Ridge Classifier ---\n",
    "pipeline_ridge = ImbPipeline([('preprocessor', preprocessor), ('smote', SMOTE(random_state=42)), ('classifier', RidgeClassifier(random_state=42))])\n",
    "param_grid_ridge = {\n",
    "    'smote__k_neighbors': [3, 5, 7],\n",
    "    'classifier__alpha': [0.1, 1.0, 10.0, 100.0]\n",
    "}\n",
    "grid_ridge = GridSearchCV(pipeline_ridge, param_grid_ridge, cv=5, scoring='accuracy', n_jobs=-1)\n",
    "grid_ridge.fit(X_train, y_train)\n",
    "print(\"--- Ridge Classifier ---\")\n",
    "print(f\"Best Parameters: {grid_ridge.best_params_}\")\n",
    "print(f\"Best CV Accuracy: {grid_ridge.best_score_:.4f}\")\n",
    "model_results['Ridge Classifier'] = (grid_ridge.best_score_, grid_ridge.best_params_)"
   ],
   "id": "9f4d537114ab2d6e",
   "outputs": [
    {
     "name": "stdout",
     "output_type": "stream",
     "text": [
      "--- Ridge Classifier ---\n",
      "Best Parameters: {'classifier__alpha': 0.1, 'smote__k_neighbors': 7}\n",
      "Best CV Accuracy: 0.7291\n"
     ]
    }
   ],
   "execution_count": 12
  },
  {
   "cell_type": "code",
   "metadata": {
    "ExecuteTime": {
     "end_time": "2025-09-24T17:04:28.838175Z",
     "start_time": "2025-09-24T17:04:25.075624Z"
    }
   },
   "source": [
    "# --- Lasso Classifier (implemented via SGDClassifier with L1 penalty) ---\n",
    "pipeline_lasso = ImbPipeline([('preprocessor', preprocessor), ('smote', SMOTE(random_state=42)), ('classifier', SGDClassifier(random_state=42, penalty='l1', loss='log_loss'))])\n",
    "param_grid_lasso = {\n",
    "    'smote__k_neighbors': [3, 5, 7],\n",
    "    'classifier__alpha': [0.0001, 0.001, 0.01, 0.1]\n",
    "}\n",
    "grid_lasso = GridSearchCV(pipeline_lasso, param_grid_lasso, cv=5, scoring='accuracy', n_jobs=-1)\n",
    "grid_lasso.fit(X_train, y_train)\n",
    "print(\"--- Lasso Classifier (SGD L1) ---\")\n",
    "print(f\"Best Parameters: {grid_lasso.best_params_}\")\n",
    "print(f\"Best CV Accuracy: {grid_lasso.best_score_:.4f}\")\n",
    "model_results['Lasso Classifier'] = (grid_lasso.best_score_, grid_lasso.best_params_)"
   ],
   "id": "8e183fc2639b8da0",
   "outputs": [
    {
     "name": "stdout",
     "output_type": "stream",
     "text": [
      "--- Lasso Classifier (SGD L1) ---\n",
      "Best Parameters: {'classifier__alpha': 0.0001, 'smote__k_neighbors': 3}\n",
      "Best CV Accuracy: 0.7339\n"
     ]
    }
   ],
   "execution_count": 13
  },
  {
   "cell_type": "markdown",
   "metadata": {},
   "source": [
    "#### **Support Vector Machine (SVM)**\n",
    "\n",
    "**How it Works:**\n",
    "Draws the widest possible road (or 'margin') between the two classes. The data points on the edge of this road are the 'Support Vectors', which are critical for defining the boundary.\n",
    "\n",
    "**Mathematical Goal:**\n",
    "It aims to maximize the margin `2/||w||` where `w` is the vector perpendicular to the separating hyperplane."
   ],
   "id": "b47498e7ceb31fe"
  },
  {
   "cell_type": "code",
   "metadata": {
    "ExecuteTime": {
     "end_time": "2025-09-24T17:17:14.985732Z",
     "start_time": "2025-09-24T17:04:29.041987Z"
    }
   },
   "source": [
    "# --- Support Vector Machine (SVM) ---\n",
    "pipeline_svc = ImbPipeline([('preprocessor', preprocessor), ('smote', SMOTE(random_state=42)), ('classifier', SVC(random_state=42, probability=True))])\n",
    "param_grid_svc = {\n",
    "    'smote__k_neighbors': [5, 7],\n",
    "    'classifier__C': [1, 10, 50],\n",
    "    'classifier__gamma': ['scale', 'auto'],\n",
    "    'classifier__kernel': ['rbf']\n",
    "}\n",
    "grid_svc = GridSearchCV(pipeline_svc, param_grid_svc, cv=5, scoring='accuracy', n_jobs=-1)\n",
    "grid_svc.fit(X_train, y_train)\n",
    "print(\"--- Support Vector Machine ---\")\n",
    "print(f\"Best Parameters: {grid_svc.best_params_}\")\n",
    "print(f\"Best CV Accuracy: {grid_svc.best_score_:.4f}\")\n",
    "model_results['Support Vector Machine'] = (grid_svc.best_score_, grid_svc.best_params_)"
   ],
   "id": "9e810967de5b22f2",
   "outputs": [
    {
     "name": "stdout",
     "output_type": "stream",
     "text": [
      "--- Support Vector Machine ---\n",
      "Best Parameters: {'classifier__C': 10, 'classifier__gamma': 'scale', 'classifier__kernel': 'rbf', 'smote__k_neighbors': 5}\n",
      "Best CV Accuracy: 0.8634\n"
     ]
    }
   ],
   "execution_count": 14
  },
  {
   "cell_type": "markdown",
   "metadata": {},
   "source": [
    "### **5.2 Tree-Based and Ensemble Models**"
   ],
   "id": "e70a48aa56114840"
  },
  {
   "cell_type": "markdown",
   "metadata": {},
   "source": [
    "#### **Decision Tree Classifier**\n",
    "\n",
    "**How it Works:**\n",
    "Like playing '20 Questions'. The model asks a series of yes/no questions about features to split the data into pure groups. The path of questions forms the 'decision tree'.\n",
    "\n",
    "**Mathematical Goal:**\n",
    "At each split, it tries to minimize impurity using measures like **Gini Impurity** or **Entropy**."
   ],
   "id": "10eb3d1a88b89086"
  },
  {
   "cell_type": "code",
   "metadata": {
    "ExecuteTime": {
     "end_time": "2025-09-24T17:18:10.319551Z",
     "start_time": "2025-09-24T17:17:15.334846Z"
    }
   },
   "source": [
    "# --- Decision Tree Classifier ---\n",
    "pipeline_dt = ImbPipeline([('preprocessor', preprocessor), ('smote', SMOTE(random_state=42)), ('classifier', DecisionTreeClassifier(random_state=42))])\n",
    "param_grid_dt = {'smote__k_neighbors': [3, 5, 7], 'classifier__max_depth': [10, 20, 30, None], 'classifier__min_samples_split': [2, 5, 10], 'classifier__min_samples_leaf': [1, 2, 4]}\n",
    "grid_dt = GridSearchCV(pipeline_dt, param_grid_dt, cv=5, scoring='accuracy', n_jobs=-1)\n",
    "grid_dt.fit(X_train, y_train)\n",
    "print(\"--- Decision Tree ---\")\n",
    "print(f\"Best Parameters: {grid_dt.best_params_}\")\n",
    "print(f\"Best CV Accuracy: {grid_dt.best_score_:.4f}\")\n",
    "model_results['Decision Tree'] = (grid_dt.best_score_, grid_dt.best_params_)"
   ],
   "id": "efa4c6f466d8a957",
   "outputs": [
    {
     "name": "stdout",
     "output_type": "stream",
     "text": [
      "--- Decision Tree ---\n",
      "Best Parameters: {'classifier__max_depth': 10, 'classifier__min_samples_leaf': 1, 'classifier__min_samples_split': 2, 'smote__k_neighbors': 7}\n",
      "Best CV Accuracy: 0.8048\n"
     ]
    }
   ],
   "execution_count": 15
  },
  {
   "cell_type": "markdown",
   "metadata": {},
   "source": [
    "#### **Bagging, Random Forest & Extra Trees**\n",
    "\n",
    "**How it Works:**\n",
    "These are all based on the same idea: **Bagging (Bootstrap Aggregating)**. Instead of one perfect model, build hundreds of simpler models on random subsets of the data and let them vote. **Random Forest** is a type of bagging that uses decision trees and adds randomness to feature selection. **Extra Trees** goes a step further by also randomizing the split points in the trees, which can sometimes create an even more robust model.\n"
   ],
   "id": "46584bd8b4619fcd"
  },
  {
   "cell_type": "code",
   "metadata": {
    "ExecuteTime": {
     "end_time": "2025-09-24T17:21:47.967545Z",
     "start_time": "2025-09-24T17:18:10.527221Z"
    }
   },
   "source": [
    "# --- Bagging Classifier ---\n",
    "pipeline_bag = ImbPipeline([('preprocessor', preprocessor), ('smote', SMOTE(random_state=42)), ('classifier', BaggingClassifier(random_state=42))])\n",
    "param_grid_bag = {\n",
    "    'smote__k_neighbors': [5, 7],\n",
    "    'classifier__n_estimators': [50, 100, 200]}\n",
    "grid_bag = GridSearchCV(pipeline_bag, param_grid_bag, cv=5, scoring='accuracy', n_jobs=-1)\n",
    "grid_bag.fit(X_train, y_train)\n",
    "print(\"--- Bagging Classifier ---\")\n",
    "print(f\"Best Parameters: {grid_bag.best_params_}\")\n",
    "print(f\"Best CV Accuracy: {grid_bag.best_score_:.4f}\")\n",
    "model_results['Bagging Classifier'] = (grid_bag.best_score_, grid_bag.best_params_)"
   ],
   "id": "8864a9882a91878c",
   "outputs": [
    {
     "name": "stdout",
     "output_type": "stream",
     "text": [
      "--- Bagging Classifier ---\n",
      "Best Parameters: {'classifier__n_estimators': 200, 'smote__k_neighbors': 5}\n",
      "Best CV Accuracy: 0.8869\n"
     ]
    }
   ],
   "execution_count": 16
  },
  {
   "cell_type": "code",
   "metadata": {
    "ExecuteTime": {
     "end_time": "2025-09-24T17:34:00.227102Z",
     "start_time": "2025-09-24T17:21:48.632304Z"
    }
   },
   "source": [
    "# --- Random Forest Classifier ---\n",
    "pipeline_rf = ImbPipeline([('preprocessor', preprocessor), ('smote', SMOTE(random_state=42)), ('classifier', RandomForestClassifier(random_state=42, n_jobs=-1))])\n",
    "param_grid_rf = {\n",
    "    'smote__k_neighbors': [5, 7],\n",
    "    'classifier__n_estimators': [100, 200, 300], \n",
    "    'classifier__max_depth': [20, 30, None], \n",
    "    'classifier__min_samples_leaf': [1, 2],\n",
    "    'classifier__max_features': ['sqrt', 'log2']\n",
    "}\n",
    "grid_rf = GridSearchCV(pipeline_rf, param_grid_rf, cv=5, scoring='accuracy', n_jobs=-1)\n",
    "grid_rf.fit(X_train, y_train)\n",
    "print(\"--- Random Forest ---\")\n",
    "print(f\"Best Parameters: {grid_rf.best_params_}\")\n",
    "print(f\"Best CV Accuracy: {grid_rf.best_score_:.4f}\")\n",
    "model_results['Random Forest'] = (grid_rf.best_score_, grid_rf.best_params_)"
   ],
   "id": "1ffb66352a6f9512",
   "outputs": [
    {
     "name": "stdout",
     "output_type": "stream",
     "text": [
      "--- Random Forest ---\n",
      "Best Parameters: {'classifier__max_depth': 30, 'classifier__max_features': 'sqrt', 'classifier__min_samples_leaf': 2, 'classifier__n_estimators': 300, 'smote__k_neighbors': 5}\n",
      "Best CV Accuracy: 0.9052\n"
     ]
    }
   ],
   "execution_count": 17
  },
  {
   "cell_type": "code",
   "metadata": {
    "ExecuteTime": {
     "end_time": "2025-09-24T17:39:46.651449Z",
     "start_time": "2025-09-24T17:34:00.789339Z"
    }
   },
   "source": [
    "# --- Extra Trees Classifier ---\n",
    "pipeline_et = ImbPipeline([('preprocessor', preprocessor), ('smote', SMOTE(random_state=42)), ('classifier', ExtraTreesClassifier(random_state=42, n_jobs=-1))])\n",
    "param_grid_et = {\n",
    "    'smote__k_neighbors': [5, 7],\n",
    "    'classifier__n_estimators': [100, 200, 300],\n",
    "    'classifier__max_depth': [20, 30, None],\n",
    "    'classifier__min_samples_leaf': [1, 2],\n",
    "    'classifier__max_features': ['sqrt', 'log2']\n",
    "}\n",
    "grid_et = GridSearchCV(pipeline_et, param_grid_et, cv=5, scoring='accuracy', n_jobs=-1)\n",
    "grid_et.fit(X_train, y_train)\n",
    "print(\"--- Extra Trees ---\")\n",
    "print(f\"Best Parameters: {grid_et.best_params_}\")\n",
    "print(f\"Best CV Accuracy: {grid_et.best_score_:.4f}\")\n",
    "model_results['Extra Trees'] = (grid_et.best_score_, grid_et.best_params_)"
   ],
   "id": "a1b2c3d4e5f6",
   "outputs": [
    {
     "name": "stdout",
     "output_type": "stream",
     "text": [
      "--- Extra Trees ---\n",
      "Best Parameters: {'classifier__max_depth': 20, 'classifier__max_features': 'sqrt', 'classifier__min_samples_leaf': 2, 'classifier__n_estimators': 200, 'smote__k_neighbors': 5}\n",
      "Best CV Accuracy: 0.8945\n"
     ]
    }
   ],
   "execution_count": 18
  },
  {
   "cell_type": "markdown",
   "metadata": {},
   "source": [
    "#### **Boosting Models (AdaBoost, GBM, XGBoost, LightGBM, CatBoost)**\n",
    "\n",
    "**How it Works:**\n",
    "This is like building a team of experts sequentially. The first expert (a simple model) makes a guess. The next expert focuses on fixing the mistakes the first one made. The third expert fixes the remaining mistakes, and so on. Each new model is trained to correct the errors of the team before it. This creates a very powerful and accurate final model.\n"
   ],
   "id": "ce48ba7e1da151e5"
  },
  {
   "cell_type": "code",
   "metadata": {
    "ExecuteTime": {
     "end_time": "2025-09-24T17:41:43.697939Z",
     "start_time": "2025-09-24T17:39:47.280080Z"
    }
   },
   "source": [
    "# --- AdaBoost Classifier ---\n",
    "pipeline_ada = ImbPipeline([('preprocessor', preprocessor), ('smote', SMOTE(random_state=42)), ('classifier', AdaBoostClassifier(random_state=42))])\n",
    "param_grid_ada = {\n",
    "    'smote__k_neighbors': [5, 7],\n",
    "    'classifier__n_estimators': [50, 100, 200],\n",
    "    'classifier__learning_rate': [0.01, 0.1, 1.0]\n",
    "}\n",
    "grid_ada = GridSearchCV(pipeline_ada, param_grid_ada, cv=5, scoring='accuracy', n_jobs=-1)\n",
    "grid_ada.fit(X_train, y_train)\n",
    "print(\"--- AdaBoost ---\")\n",
    "print(f\"Best Parameters: {grid_ada.best_params_}\")\n",
    "print(f\"Best CV Accuracy: {grid_ada.best_score_:.4f}\")\n",
    "model_results['AdaBoost'] = (grid_ada.best_score_, grid_ada.best_params_)"
   ],
   "id": "b1c2d3e4f5g6",
   "outputs": [
    {
     "name": "stdout",
     "output_type": "stream",
     "text": [
      "--- AdaBoost ---\n",
      "Best Parameters: {'classifier__learning_rate': 1.0, 'classifier__n_estimators': 200, 'smote__k_neighbors': 7}\n",
      "Best CV Accuracy: 0.9022\n"
     ]
    }
   ],
   "execution_count": 19
  },
  {
   "cell_type": "code",
   "metadata": {
    "ExecuteTime": {
     "end_time": "2025-09-24T18:12:59.977110Z",
     "start_time": "2025-09-24T17:41:44.239033Z"
    }
   },
   "source": [
    "# --- Gradient Boosting Machine (GBM) ---\n",
    "pipeline_gbm = ImbPipeline([('preprocessor', preprocessor), ('smote', SMOTE(random_state=42)), ('classifier', GradientBoostingClassifier(random_state=42))])\n",
    "param_grid_gbm = {\n",
    "    'smote__k_neighbors': [5, 7],\n",
    "    'classifier__n_estimators': [100, 200, 300], \n",
    "    'classifier__learning_rate': [0.05, 0.1, 0.2], \n",
    "    'classifier__max_depth': [3, 5, 7]\n",
    "}\n",
    "grid_gbm = GridSearchCV(pipeline_gbm, param_grid_gbm, cv=5, scoring='accuracy', n_jobs=-1)\n",
    "grid_gbm.fit(X_train, y_train)\n",
    "print(\"--- Gradient Boosting ---\")\n",
    "print(f\"Best Parameters: {grid_gbm.best_params_}\")\n",
    "print(f\"Best CV Accuracy: {grid_gbm.best_score_:.4f}\")\n",
    "model_results['Gradient Boosting'] = (grid_gbm.best_score_, grid_gbm.best_params_)"
   ],
   "id": "9e05407778a5338",
   "outputs": [
    {
     "name": "stdout",
     "output_type": "stream",
     "text": [
      "--- Gradient Boosting ---\n",
      "Best Parameters: {'classifier__learning_rate': 0.1, 'classifier__max_depth': 3, 'classifier__n_estimators': 300, 'smote__k_neighbors': 7}\n",
      "Best CV Accuracy: 0.9183\n"
     ]
    }
   ],
   "execution_count": 20
  },
  {
   "cell_type": "code",
   "metadata": {
    "ExecuteTime": {
     "end_time": "2025-09-24T18:15:07.034481Z",
     "start_time": "2025-09-24T18:13:00.320594Z"
    }
   },
   "source": [
    "# --- XGBoost Classifier ---\n",
    "pipeline_xgb = ImbPipeline([('preprocessor', preprocessor), ('smote', SMOTE(random_state=42)), ('classifier', XGBClassifier(random_state=42, use_label_encoder=False, eval_metric='logloss'))])\n",
    "param_grid_xgb = {\n",
    "    'smote__k_neighbors': [5, 7],\n",
    "    'classifier__n_estimators': [100, 200, 300], \n",
    "    'classifier__learning_rate': [0.05, 0.1, 0.2], \n",
    "    'classifier__max_depth': [3, 5, 7]\n",
    "}\n",
    "grid_xgb = GridSearchCV(pipeline_xgb, param_grid_xgb, cv=5, scoring='accuracy', n_jobs=-1)\n",
    "grid_xgb.fit(X_train, y_train)\n",
    "print(\"--- XGBoost ---\")\n",
    "print(f\"Best Parameters: {grid_xgb.best_params_}\")\n",
    "print(f\"Best CV Accuracy: {grid_xgb.best_score_:.4f}\")\n",
    "model_results['XGBoost'] = (grid_xgb.best_score_, grid_xgb.best_params_)"
   ],
   "id": "20a63f9f7e9f34cd",
   "outputs": [
    {
     "name": "stdout",
     "output_type": "stream",
     "text": [
      "--- XGBoost ---\n",
      "Best Parameters: {'classifier__learning_rate': 0.1, 'classifier__max_depth': 3, 'classifier__n_estimators': 200, 'smote__k_neighbors': 7}\n",
      "Best CV Accuracy: 0.9211\n"
     ]
    }
   ],
   "execution_count": 21
  },
  {
   "cell_type": "code",
   "metadata": {
    "ExecuteTime": {
     "end_time": "2025-09-24T18:16:41.825914Z",
     "start_time": "2025-09-24T18:15:07.475607Z"
    }
   },
   "source": [
    "# --- LightGBM Classifier ---\n",
    "pipeline_lgbm = ImbPipeline([('preprocessor', preprocessor), ('smote', SMOTE(random_state=42)), ('classifier', LGBMClassifier(random_state=42, n_jobs=-1))])\n",
    "param_grid_lgbm = {\n",
    "    'smote__k_neighbors': [5, 7],\n",
    "    'classifier__n_estimators': [100, 200, 300], \n",
    "    'classifier__learning_rate': [0.05, 0.1],\n",
    "    'classifier__num_leaves': [20, 31, 40]\n",
    "}\n",
    "grid_lgbm = GridSearchCV(pipeline_lgbm, param_grid_lgbm, cv=5, scoring='accuracy', n_jobs=-1)\n",
    "grid_lgbm.fit(X_train, y_train)\n",
    "print(\"--- LightGBM ---\")\n",
    "print(f\"Best Parameters: {grid_lgbm.best_params_}\")\n",
    "print(f\"Best CV Accuracy: {grid_lgbm.best_score_:.4f}\")\n",
    "model_results['LightGBM'] = (grid_lgbm.best_score_, grid_lgbm.best_params_)"
   ],
   "id": "65783272f11afe19",
   "outputs": [
    {
     "name": "stdout",
     "output_type": "stream",
     "text": [
      "[LightGBM] [Info] Number of positive: 5610, number of negative: 5610\n",
      "[LightGBM] [Info] Auto-choosing row-wise multi-threading, the overhead of testing was 0.001911 seconds.\n",
      "You can set `force_row_wise=true` to remove the overhead.\n",
      "And if memory is not enough, you can set `force_col_wise=true`.\n",
      "[LightGBM] [Info] Total Bins 6120\n",
      "[LightGBM] [Info] Number of data points in the train set: 11220, number of used features: 24\n",
      "[LightGBM] [Info] [binary:BoostFromScore]: pavg=0.500000 -> initscore=0.000000\n",
      "--- LightGBM ---\n",
      "Best Parameters: {'classifier__learning_rate': 0.05, 'classifier__n_estimators': 200, 'classifier__num_leaves': 31, 'smote__k_neighbors': 7}\n",
      "Best CV Accuracy: 0.9194\n"
     ]
    }
   ],
   "execution_count": 22
  },
  {
   "cell_type": "code",
   "metadata": {
    "ExecuteTime": {
     "end_time": "2025-09-24T18:26:03.655643Z",
     "start_time": "2025-09-24T18:16:42.309377Z"
    }
   },
   "source": [
    "# --- CatBoost Classifier ---\n",
    "pipeline_cat = ImbPipeline([('preprocessor', preprocessor), ('smote', SMOTE(random_state=42)), ('classifier', CatBoostClassifier(random_state=42, verbose=0))])\n",
    "param_grid_cat = {\n",
    "    'smote__k_neighbors': [5, 7],\n",
    "    'classifier__iterations': [200, 300, 500], \n",
    "    'classifier__learning_rate': [0.05, 0.1],\n",
    "    'classifier__depth': [4, 6, 8]\n",
    "}\n",
    "grid_cat = GridSearchCV(pipeline_cat, param_grid_cat, cv=5, scoring='accuracy', n_jobs=-1)\n",
    "grid_cat.fit(X_train, y_train)\n",
    "print(\"--- CatBoost ---\")\n",
    "print(f\"Best Parameters: {grid_cat.best_params_}\")\n",
    "print(f\"Best CV Accuracy: {grid_cat.best_score_:.4f}\")\n",
    "model_results['CatBoost'] = (grid_cat.best_score_, grid_cat.best_params_)"
   ],
   "id": "fb3f9faca678913f",
   "outputs": [
    {
     "name": "stdout",
     "output_type": "stream",
     "text": [
      "--- CatBoost ---\n",
      "Best Parameters: {'classifier__depth': 4, 'classifier__iterations': 300, 'classifier__learning_rate': 0.05, 'smote__k_neighbors': 7}\n",
      "Best CV Accuracy: 0.9244\n"
     ]
    }
   ],
   "execution_count": 23
  },
  {
   "cell_type": "markdown",
   "metadata": {},
   "source": [
    "### **5.3 Other Model Types**"
   ],
   "id": "c1d2e3f4a5b6"
  },
  {
   "cell_type": "markdown",
   "metadata": {},
   "source": [
    "#### **K-Nearest Neighbors (KNN)**\n",
    "\n",
    "**How it Works:**\n",
    "A simple and intuitive algorithm. To classify a new data point, it looks at its 'k' closest neighbors in the training data and takes a majority vote among them. It's based on the idea that similar things exist in close proximity."
   ],
   "id": "d1e2f3a4b5c6"
  },
  {
   "cell_type": "code",
   "metadata": {
    "ExecuteTime": {
     "end_time": "2025-09-24T18:26:08.559365Z",
     "start_time": "2025-09-24T18:26:04.124189Z"
    }
   },
   "source": [
    "# --- K-Nearest Neighbors ---\n",
    "pipeline_knn = ImbPipeline([('preprocessor', preprocessor), ('smote', SMOTE(random_state=42)), ('classifier', KNeighborsClassifier(n_jobs=-1))])\n",
    "param_grid_knn = {\n",
    "    'smote__k_neighbors': [5, 7],\n",
    "    'classifier__n_neighbors': [3, 5, 7, 9],\n",
    "    'classifier__weights': ['uniform', 'distance']\n",
    "}\n",
    "grid_knn = GridSearchCV(pipeline_knn, param_grid_knn, cv=5, scoring='accuracy', n_jobs=-1)\n",
    "grid_knn.fit(X_train, y_train)\n",
    "print(\"--- K-Nearest Neighbors ---\")\n",
    "print(f\"Best Parameters: {grid_knn.best_params_}\")\n",
    "print(f\"Best CV Accuracy: {grid_knn.best_score_:.4f}\")\n",
    "model_results['K-Nearest Neighbors'] = (grid_knn.best_score_, grid_knn.best_params_)"
   ],
   "id": "e1f2a3b4c5d6",
   "outputs": [
    {
     "name": "stdout",
     "output_type": "stream",
     "text": [
      "--- K-Nearest Neighbors ---\n",
      "Best Parameters: {'classifier__n_neighbors': 3, 'classifier__weights': 'uniform', 'smote__k_neighbors': 5}\n",
      "Best CV Accuracy: 0.6881\n"
     ]
    }
   ],
   "execution_count": 24
  },
  {
   "cell_type": "markdown",
   "metadata": {},
   "source": [
    "#### **Naive Bayes**\n",
    "\n",
    "**How it Works:**\n",
    "This is a probabilistic classifier based on Bayes' Theorem. It calculates the probability of an outcome given a set of features. It's called 'naive' because it makes a strong assumption that all features are independent of one another.\n",
    "\n",
    "**Note:** This model family requires non-negative feature values, so we use a special preprocessor (`preprocessor_nb`) that does not scale the numerical data."
   ],
   "id": "f1a2b3c4d5e6"
  },
  {
   "cell_type": "code",
   "metadata": {
    "ExecuteTime": {
     "end_time": "2025-09-24T18:26:09.381515Z",
     "start_time": "2025-09-24T18:26:09.033360Z"
    }
   },
   "source": [
    "# --- Gaussian Naive Bayes ---\n",
    "# In-script Comment: Using the 'preprocessor_nb' which omits StandardScaler, as Naive Bayes works better with raw distributions.\n",
    "pipeline_gnb = ImbPipeline([('preprocessor', preprocessor_nb), ('smote', SMOTE(random_state=42)), ('classifier', GaussianNB())])\n",
    "param_grid_gnb = {'smote__k_neighbors': [3, 5, 7]}\n",
    "grid_gnb = GridSearchCV(pipeline_gnb, param_grid_gnb, cv=5, scoring='accuracy', n_jobs=-1)\n",
    "grid_gnb.fit(X_train, y_train)\n",
    "print(\"--- Gaussian Naive Bayes ---\")\n",
    "print(f\"Best Parameters: {grid_gnb.best_params_}\")\n",
    "print(f\"Best CV Accuracy: {grid_gnb.best_score_:.4f}\")\n",
    "model_results['Gaussian Naive Bayes'] = (grid_gnb.best_score_, grid_gnb.best_params_)"
   ],
   "id": "a2b3c4d5e6f7",
   "outputs": [
    {
     "name": "stdout",
     "output_type": "stream",
     "text": [
      "--- Gaussian Naive Bayes ---\n",
      "Best Parameters: {'smote__k_neighbors': 7}\n",
      "Best CV Accuracy: 0.6583\n"
     ]
    }
   ],
   "execution_count": 25
  },
  {
   "cell_type": "markdown",
   "metadata": {},
   "source": [
    "#### **Multi-layer Perceptron (MLP)**\n",
    "\n",
    "**How it Works:**\n",
    "This is a fundamental type of neural network. It consists of an input layer, one or more hidden layers of 'neurons', and an output layer. It's capable of learning complex, non-linear relationships between the features and the target."
   ],
   "id": "b2c3d4e5f6a7"
  },
  {
   "cell_type": "code",
   "metadata": {
    "ExecuteTime": {
     "end_time": "2025-09-24T18:36:43.831293Z",
     "start_time": "2025-09-24T18:26:09.903688Z"
    }
   },
   "source": [
    "# --- Multi-layer Perceptron ---\n",
    "pipeline_mlp = ImbPipeline([('preprocessor', preprocessor), ('smote', SMOTE(random_state=42)), ('classifier', MLPClassifier(random_state=42, max_iter=1000))])\n",
    "param_grid_mlp = {\n",
    "    'smote__k_neighbors': [5, 7],\n",
    "    'classifier__hidden_layer_sizes': [(50,), (100,), (50, 50)],\n",
    "    'classifier__alpha': [0.0001, 0.001, 0.01]\n",
    "}\n",
    "grid_mlp = GridSearchCV(pipeline_mlp, param_grid_mlp, cv=5, scoring='accuracy', n_jobs=-1)\n",
    "grid_mlp.fit(X_train, y_train)\n",
    "print(\"--- Multi-layer Perceptron ---\")\n",
    "print(f\"Best Parameters: {grid_mlp.best_params_}\")\n",
    "print(f\"Best CV Accuracy: {grid_mlp.best_score_:.4f}\")\n",
    "model_results['MLP'] = (grid_mlp.best_score_, grid_mlp.best_params_)"
   ],
   "id": "c2d3e4f5a6b7",
   "outputs": [
    {
     "name": "stdout",
     "output_type": "stream",
     "text": [
      "--- Multi-layer Perceptron ---\n",
      "Best Parameters: {'classifier__alpha': 0.01, 'classifier__hidden_layer_sizes': (100,), 'smote__k_neighbors': 5}\n",
      "Best CV Accuracy: 0.8577\n"
     ]
    }
   ],
   "execution_count": 26
  },
  {
   "cell_type": "markdown",
   "metadata": {},
   "source": [
    "## **6. Model Comparison**\n",
    "\n",
    "**Metadata Comment:** We compile the comprehensive tuning results into a table, sorted by accuracy, to definitively identify the best-performing models for our final state-of-the-art ensemble."
   ],
   "id": "7e7ffcc27b04fce7"
  },
  {
   "cell_type": "code",
   "metadata": {
    "ExecuteTime": {
     "end_time": "2025-09-24T18:36:44.477972Z",
     "start_time": "2025-09-24T18:36:44.454033Z"
    }
   },
   "source": [
    "results_data = []\n",
    "for model, (acc, params) in model_results.items():\n",
    "    results_data.append({'Model': model, 'CV_Accuracy': acc, 'Best_Parameters': params})\n",
    "\n",
    "results_df = pd.DataFrame(results_data)\n",
    "results_df_sorted = results_df.sort_values('CV_Accuracy', ascending=False).reset_index(drop=True)\n",
    "\n",
    "print(\"--- Model Comparison (Sorted by Accuracy on Full Training Set) ---\")\n",
    "display(results_df_sorted)"
   ],
   "id": "8038a131b57bfa60",
   "outputs": [
    {
     "name": "stdout",
     "output_type": "stream",
     "text": [
      "--- Model Comparison (Sorted by Accuracy on Full Training Set) ---\n"
     ]
    },
    {
     "data": {
      "text/plain": [
       "                     Model  CV_Accuracy  \\\n",
       "0                 CatBoost     0.924375   \n",
       "1                  XGBoost     0.921094   \n",
       "2                 LightGBM     0.919375   \n",
       "3        Gradient Boosting     0.918281   \n",
       "4            Random Forest     0.905156   \n",
       "5                 AdaBoost     0.902188   \n",
       "6              Extra Trees     0.894531   \n",
       "7       Bagging Classifier     0.886875   \n",
       "8   Support Vector Machine     0.863438   \n",
       "9                      MLP     0.857656   \n",
       "10           Decision Tree     0.804844   \n",
       "11     Logistic Regression     0.736406   \n",
       "12        Lasso Classifier     0.733906   \n",
       "13        Ridge Classifier     0.729063   \n",
       "14     K-Nearest Neighbors     0.688125   \n",
       "15    Gaussian Naive Bayes     0.658281   \n",
       "\n",
       "                                      Best_Parameters  \n",
       "0   {'classifier__depth': 4, 'classifier__iteratio...  \n",
       "1   {'classifier__learning_rate': 0.1, 'classifier...  \n",
       "2   {'classifier__learning_rate': 0.05, 'classifie...  \n",
       "3   {'classifier__learning_rate': 0.1, 'classifier...  \n",
       "4   {'classifier__max_depth': 30, 'classifier__max...  \n",
       "5   {'classifier__learning_rate': 1.0, 'classifier...  \n",
       "6   {'classifier__max_depth': 20, 'classifier__max...  \n",
       "7   {'classifier__n_estimators': 200, 'smote__k_ne...  \n",
       "8   {'classifier__C': 10, 'classifier__gamma': 'sc...  \n",
       "9   {'classifier__alpha': 0.01, 'classifier__hidde...  \n",
       "10  {'classifier__max_depth': 10, 'classifier__min...  \n",
       "11  {'classifier__C': 100, 'classifier__solver': '...  \n",
       "12  {'classifier__alpha': 0.0001, 'smote__k_neighb...  \n",
       "13  {'classifier__alpha': 0.1, 'smote__k_neighbors...  \n",
       "14  {'classifier__n_neighbors': 3, 'classifier__we...  \n",
       "15                          {'smote__k_neighbors': 7}  "
      ],
      "text/html": [
       "<div>\n",
       "<style scoped>\n",
       "    .dataframe tbody tr th:only-of-type {\n",
       "        vertical-align: middle;\n",
       "    }\n",
       "\n",
       "    .dataframe tbody tr th {\n",
       "        vertical-align: top;\n",
       "    }\n",
       "\n",
       "    .dataframe thead th {\n",
       "        text-align: right;\n",
       "    }\n",
       "</style>\n",
       "<table border=\"1\" class=\"dataframe\">\n",
       "  <thead>\n",
       "    <tr style=\"text-align: right;\">\n",
       "      <th></th>\n",
       "      <th>Model</th>\n",
       "      <th>CV_Accuracy</th>\n",
       "      <th>Best_Parameters</th>\n",
       "    </tr>\n",
       "  </thead>\n",
       "  <tbody>\n",
       "    <tr>\n",
       "      <th>0</th>\n",
       "      <td>CatBoost</td>\n",
       "      <td>0.924375</td>\n",
       "      <td>{'classifier__depth': 4, 'classifier__iteratio...</td>\n",
       "    </tr>\n",
       "    <tr>\n",
       "      <th>1</th>\n",
       "      <td>XGBoost</td>\n",
       "      <td>0.921094</td>\n",
       "      <td>{'classifier__learning_rate': 0.1, 'classifier...</td>\n",
       "    </tr>\n",
       "    <tr>\n",
       "      <th>2</th>\n",
       "      <td>LightGBM</td>\n",
       "      <td>0.919375</td>\n",
       "      <td>{'classifier__learning_rate': 0.05, 'classifie...</td>\n",
       "    </tr>\n",
       "    <tr>\n",
       "      <th>3</th>\n",
       "      <td>Gradient Boosting</td>\n",
       "      <td>0.918281</td>\n",
       "      <td>{'classifier__learning_rate': 0.1, 'classifier...</td>\n",
       "    </tr>\n",
       "    <tr>\n",
       "      <th>4</th>\n",
       "      <td>Random Forest</td>\n",
       "      <td>0.905156</td>\n",
       "      <td>{'classifier__max_depth': 30, 'classifier__max...</td>\n",
       "    </tr>\n",
       "    <tr>\n",
       "      <th>5</th>\n",
       "      <td>AdaBoost</td>\n",
       "      <td>0.902188</td>\n",
       "      <td>{'classifier__learning_rate': 1.0, 'classifier...</td>\n",
       "    </tr>\n",
       "    <tr>\n",
       "      <th>6</th>\n",
       "      <td>Extra Trees</td>\n",
       "      <td>0.894531</td>\n",
       "      <td>{'classifier__max_depth': 20, 'classifier__max...</td>\n",
       "    </tr>\n",
       "    <tr>\n",
       "      <th>7</th>\n",
       "      <td>Bagging Classifier</td>\n",
       "      <td>0.886875</td>\n",
       "      <td>{'classifier__n_estimators': 200, 'smote__k_ne...</td>\n",
       "    </tr>\n",
       "    <tr>\n",
       "      <th>8</th>\n",
       "      <td>Support Vector Machine</td>\n",
       "      <td>0.863438</td>\n",
       "      <td>{'classifier__C': 10, 'classifier__gamma': 'sc...</td>\n",
       "    </tr>\n",
       "    <tr>\n",
       "      <th>9</th>\n",
       "      <td>MLP</td>\n",
       "      <td>0.857656</td>\n",
       "      <td>{'classifier__alpha': 0.01, 'classifier__hidde...</td>\n",
       "    </tr>\n",
       "    <tr>\n",
       "      <th>10</th>\n",
       "      <td>Decision Tree</td>\n",
       "      <td>0.804844</td>\n",
       "      <td>{'classifier__max_depth': 10, 'classifier__min...</td>\n",
       "    </tr>\n",
       "    <tr>\n",
       "      <th>11</th>\n",
       "      <td>Logistic Regression</td>\n",
       "      <td>0.736406</td>\n",
       "      <td>{'classifier__C': 100, 'classifier__solver': '...</td>\n",
       "    </tr>\n",
       "    <tr>\n",
       "      <th>12</th>\n",
       "      <td>Lasso Classifier</td>\n",
       "      <td>0.733906</td>\n",
       "      <td>{'classifier__alpha': 0.0001, 'smote__k_neighb...</td>\n",
       "    </tr>\n",
       "    <tr>\n",
       "      <th>13</th>\n",
       "      <td>Ridge Classifier</td>\n",
       "      <td>0.729063</td>\n",
       "      <td>{'classifier__alpha': 0.1, 'smote__k_neighbors...</td>\n",
       "    </tr>\n",
       "    <tr>\n",
       "      <th>14</th>\n",
       "      <td>K-Nearest Neighbors</td>\n",
       "      <td>0.688125</td>\n",
       "      <td>{'classifier__n_neighbors': 3, 'classifier__we...</td>\n",
       "    </tr>\n",
       "    <tr>\n",
       "      <th>15</th>\n",
       "      <td>Gaussian Naive Bayes</td>\n",
       "      <td>0.658281</td>\n",
       "      <td>{'smote__k_neighbors': 7}</td>\n",
       "    </tr>\n",
       "  </tbody>\n",
       "</table>\n",
       "</div>"
      ]
     },
     "metadata": {},
     "output_type": "display_data",
     "jetTransient": {
      "display_id": null
     }
    }
   ],
   "execution_count": 27
  },
  {
   "cell_type": "markdown",
   "metadata": {},
   "source": [
    "## **7. Final Model Training: Advanced Ensemble Approach**\n",
    "\n",
    "**Metadata Comment:** To achieve the highest possible performance, we create a **Voting Classifier**, an advanced ensemble that combines the predictions of the top 3 best-performing models from our rigorous tuning phase. This approach leverages the diverse strengths of multiple elite models to create a more robust and accurate final predictor."
   ],
   "id": "6123beadb0a8e1a5"
  },
  {
   "cell_type": "code",
   "metadata": {
    "ExecuteTime": {
     "end_time": "2025-09-24T18:36:46.253586Z",
     "start_time": "2025-09-24T18:36:44.533272Z"
    }
   },
   "source": [
    "# In-script Comment: Select the top 3 models from the results\n",
    "top_models = results_df_sorted.nlargest(3, 'CV_Accuracy')\n",
    "print(\"--- Top 3 Models for Ensemble ---\")\n",
    "display(top_models)\n",
    "\n",
    "# In-script Comment: Define the model map for easy instantiation\n",
    "model_map = {\n",
    "    'Random Forest': RandomForestClassifier(random_state=42, n_jobs=-1),\n",
    "    'Extra Trees': ExtraTreesClassifier(random_state=42, n_jobs=-1),\n",
    "    'XGBoost': XGBClassifier(random_state=42, use_label_encoder=False, eval_metric='logloss'),\n",
    "    'LightGBM': LGBMClassifier(random_state=42, n_jobs=-1),\n",
    "    'CatBoost': CatBoostClassifier(random_state=42, verbose=0),\n",
    "    'Gradient Boosting': GradientBoostingClassifier(random_state=42),\n",
    "    'MLP': MLPClassifier(random_state=42, max_iter=1000),\n",
    "    'Support Vector Machine': SVC(random_state=42, probability=True)\n",
    "}\n",
    "\n",
    "# In-script Comment: Create a list of configured model instances for the Voting Classifier\n",
    "estimators = []\n",
    "for index, row in top_models.iterrows():\n",
    "    model_name = row['Model']\n",
    "    # In-script Comment: Correctly parse the parameters for the final model instance\n",
    "    model_params = {key.split('__')[1]: value for key, value in row['Best_Parameters'].items() if 'classifier__' in key}\n",
    "    \n",
    "    if model_name in model_map:\n",
    "        instance = model_map[model_name]\n",
    "        instance.set_params(**model_params)\n",
    "        # In-script Comment: The pipeline for each estimator includes preprocessing but not SMOTE,\n",
    "        # as the final model will be trained on the already-balanced full training set.\n",
    "        pipe = Pipeline([\n",
    "            ('preprocessor', preprocessor),\n",
    "            ('classifier', instance)\n",
    "        ])\n",
    "        estimators.append((model_name.lower().replace(' ', '_'), pipe))\n",
    "\n",
    "# In-script Comment: Create the Voting Classifier\n",
    "# 'soft' voting is superior as it averages the predicted probabilities, capturing more nuance.\n",
    "voting_clf = VotingClassifier(estimators=estimators, voting='soft', n_jobs=-1)\n",
    "\n",
    "print(\"\\n--- Training Final Voting Classifier Ensemble ---\")\n",
    "# In-script Comment: Train the final ensemble on the full training dataset.\n",
    "voting_clf.fit(X_train, y_train)\n",
    "\n",
    "print(\"\\n✅ Final Voting Classifier has been successfully trained on the full training dataset.\")"
   ],
   "id": "1e51cd24e9ee0c34",
   "outputs": [
    {
     "name": "stdout",
     "output_type": "stream",
     "text": [
      "--- Top 3 Models for Ensemble ---\n"
     ]
    },
    {
     "data": {
      "text/plain": [
       "      Model  CV_Accuracy                                    Best_Parameters\n",
       "0  CatBoost     0.924375  {'classifier__depth': 4, 'classifier__iteratio...\n",
       "1   XGBoost     0.921094  {'classifier__learning_rate': 0.1, 'classifier...\n",
       "2  LightGBM     0.919375  {'classifier__learning_rate': 0.05, 'classifie..."
      ],
      "text/html": [
       "<div>\n",
       "<style scoped>\n",
       "    .dataframe tbody tr th:only-of-type {\n",
       "        vertical-align: middle;\n",
       "    }\n",
       "\n",
       "    .dataframe tbody tr th {\n",
       "        vertical-align: top;\n",
       "    }\n",
       "\n",
       "    .dataframe thead th {\n",
       "        text-align: right;\n",
       "    }\n",
       "</style>\n",
       "<table border=\"1\" class=\"dataframe\">\n",
       "  <thead>\n",
       "    <tr style=\"text-align: right;\">\n",
       "      <th></th>\n",
       "      <th>Model</th>\n",
       "      <th>CV_Accuracy</th>\n",
       "      <th>Best_Parameters</th>\n",
       "    </tr>\n",
       "  </thead>\n",
       "  <tbody>\n",
       "    <tr>\n",
       "      <th>0</th>\n",
       "      <td>CatBoost</td>\n",
       "      <td>0.924375</td>\n",
       "      <td>{'classifier__depth': 4, 'classifier__iteratio...</td>\n",
       "    </tr>\n",
       "    <tr>\n",
       "      <th>1</th>\n",
       "      <td>XGBoost</td>\n",
       "      <td>0.921094</td>\n",
       "      <td>{'classifier__learning_rate': 0.1, 'classifier...</td>\n",
       "    </tr>\n",
       "    <tr>\n",
       "      <th>2</th>\n",
       "      <td>LightGBM</td>\n",
       "      <td>0.919375</td>\n",
       "      <td>{'classifier__learning_rate': 0.05, 'classifie...</td>\n",
       "    </tr>\n",
       "  </tbody>\n",
       "</table>\n",
       "</div>"
      ]
     },
     "metadata": {},
     "output_type": "display_data",
     "jetTransient": {
      "display_id": null
     }
    },
    {
     "name": "stdout",
     "output_type": "stream",
     "text": [
      "\n",
      "--- Training Final Voting Classifier Ensemble ---\n",
      "\n",
      "✅ Final Voting Classifier has been successfully trained on the full training dataset.\n"
     ]
    }
   ],
   "execution_count": 28
  },
  {
   "cell_type": "markdown",
   "metadata": {},
   "source": [
    "## **8. Save the Final Model**\n",
    "\n",
    "**Metadata Comment:** We serialize the fully trained Voting Classifier object to a file. This model is now ready for deployment in a production environment."
   ],
   "id": "6feb0005ae7c464f"
  },
  {
   "cell_type": "code",
   "metadata": {
    "ExecuteTime": {
     "end_time": "2025-09-24T18:36:46.916538Z",
     "start_time": "2025-09-24T18:36:46.870882Z"
    }
   },
   "source": [
    "model_filename = 'final_ensemble_model_v3.pkl'\n",
    "joblib.dump(voting_clf, model_filename)\n",
    "\n",
    "print(f\"💾 Final model saved to '{model_filename}'\")"
   ],
   "id": "bef9f5587f8f60b8",
   "outputs": [
    {
     "name": "stdout",
     "output_type": "stream",
     "text": [
      "💾 Final model saved to 'final_ensemble_model_v3.pkl'\n"
     ]
    }
   ],
   "execution_count": 29
  },
  {
   "cell_type": "markdown",
   "metadata": {},
   "source": [
    "## **9. Final Model Evaluation on Test Set**\n",
    "\n",
    "**Metadata Comment:** This is the moment of truth. We load our saved, optimized model and evaluate its performance on the completely unseen test set. This provides an unbiased, honest estimate of how the model will perform on new, real-world data. The results will reflect the significant improvements from our enhanced tuning and resampling strategy."
   ],
   "id": "865d9ed628d17423"
  },
  {
   "cell_type": "code",
   "metadata": {
    "ExecuteTime": {
     "end_time": "2025-09-24T18:36:47.704762Z",
     "start_time": "2025-09-24T18:36:46.944012Z"
    }
   },
   "source": [
    "loaded_model = joblib.load(model_filename)\n",
    "y_pred_test = loaded_model.predict(X_test)\n",
    "y_proba_test = loaded_model.predict_proba(X_test)[:, 1]\n",
    "\n",
    "print(\"--- Final Performance of Optimized Ensemble Model on Unseen Test Data ---\")\n",
    "print(f\"Test Accuracy: {accuracy_score(y_test, y_pred_test):.4f}\")\n",
    "print(classification_report(y_test, y_pred_test, digits=4))\n",
    "\n",
    "cm = confusion_matrix(y_test, y_pred_test)\n",
    "sns.heatmap(cm, annot=True, fmt='d', cmap='Greens',\n",
    "            xticklabels=['No Conversion', 'Conversion'],\n",
    "            yticklabels=['No Conversion', 'Conversion'])\n",
    "plt.title('Final Confusion Matrix on Test Set', fontsize=16)\n",
    "plt.ylabel('Actual Class')\n",
    "plt.xlabel('Predicted Class')\n",
    "plt.show()\n",
    "\n",
    "fpr, tpr, _ = roc_curve(y_test, y_proba_test)\n",
    "auc_score = roc_auc_score(y_test, y_proba_test)\n",
    "\n",
    "plt.figure(figsize=(8, 6))\n",
    "plt.plot(fpr, tpr, color='darkorange', lw=2, label=f'ROC curve (AUC = {auc_score:.4f})')\n",
    "plt.plot([0, 1], [0, 1], color='navy', lw=2, linestyle='--')\n",
    "plt.title('Receiver Operating Characteristic (ROC) Curve', fontsize=16)\n",
    "plt.legend(loc=\"lower right\")\n",
    "plt.show()"
   ],
   "id": "e9a96c1babfa03e1",
   "outputs": [
    {
     "name": "stdout",
     "output_type": "stream",
     "text": [
      "--- Final Performance of Optimized Ensemble Model on Unseen Test Data ---\n",
      "Test Accuracy: 0.9250\n",
      "              precision    recall  f1-score   support\n",
      "\n",
      "           0     0.8980    0.4444    0.5946       198\n",
      "           1     0.9268    0.9929    0.9587      1402\n",
      "\n",
      "    accuracy                         0.9250      1600\n",
      "   macro avg     0.9124    0.7187    0.7766      1600\n",
      "weighted avg     0.9232    0.9250    0.9136      1600\n",
      "\n"
     ]
    },
    {
     "data": {
      "text/plain": [
       "<Figure size 640x480 with 2 Axes>"
      ],
      "image/png": "[encoded data removed]"
     },
     "metadata": {},
     "output_type": "display_data",
     "jetTransient": {
      "display_id": null
     }
    },
    {
     "data": {
      "text/plain": [
       "<Figure size 800x600 with 1 Axes>"
      ],
      "image/png": "[encoded data removed]"
     },
     "metadata": {},
     "output_type": "display_data",
     "jetTransient": {
      "display_id": null
     }
    }
   ],
   "execution_count": 30
  },
  {
   "cell_type": "markdown",
   "metadata": {},
   "source": [
    "<div style=\"background-color: #e6f7ff; border-left: 6px solid #1890ff; padding: 15px; font-size: 120%; text-align: center;\">\n",
    "<strong>🎯 If you need more information or want to explore the code, feel free to visit the project repository on <a href=\\\"https://github.com/sanyam-sanjay-sharma/marketing-conversion-prediction\\\">GitHub</a> 🎯</strong>\n",
    "</div>"
   ],
   "id": "4fb942b6622e784e"
  },
  {
   "cell_type": "markdown",
   "metadata": {},
   "source": [
    "<h2 align=\"left\"><font color='green'>Best Regards!</font></h2>"
   ],
   "id": "b1492b34112a9a75"
  }
 ],
 "metadata": {
  "kernelspec": {
   "display_name": "Python 3 (ipykernel)",
   "language": "python",
   "name": "python3"
  },
  "language_info": {
   "codemirror_mode": {
    "name": "ipython",
    "version": 3
   },
   "file_extension": ".py",
   "mimetype": "text/x-python",
   "name": "python",
   "nbconvert_exporter": "python",
   "pygments_lexer": "ipython3",
   "version": "3.9.12"
  }
 },
 "nbformat": 4,
 "nbformat_minor": 5
}
